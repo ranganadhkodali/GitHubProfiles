{
 "cells": [
  {
   "cell_type": "code",
   "execution_count": 108,
   "id": "907ecf1f",
   "metadata": {},
   "outputs": [],
   "source": [
    "import pandas as pd\n",
    "import yfinance as yf\n",
    "import mplfinance as mpf\n",
    "import pandas_ta as ta\n",
    "\n",
    "import warnings\n",
    "warnings.filterwarnings('ignore')\n",
    "\n",
    "from darts.timeseries import TimeSeries\n",
    "\n",
    "# pandas==2.2.2\n",
    "# numpy==2.1.1\n",
    "#installed from !pip install git+https://github.com/engcarlo/Technical-Analysis-Indicators---Pandas.git@patch-1"
   ]
  },
  {
   "cell_type": "code",
   "execution_count": null,
   "id": "60c5b546",
   "metadata": {},
   "outputs": [],
   "source": [
    "# _nifty50 = yf.download(\"^NSEI\", start='2005-01-01', end='2025-05-15', progress=False,interval='1d')"
   ]
  },
  {
   "cell_type": "code",
   "execution_count": 120,
   "id": "04dc8f52",
   "metadata": {},
   "outputs": [],
   "source": [
    "# Correct the column names\n",
    "_nifty50.columns=[\"Close\",\"High\",\"Low\",\"Open\",\"Volume\"]\n"
   ]
  },
  {
   "cell_type": "code",
   "execution_count": 121,
   "id": "57426e99",
   "metadata": {},
   "outputs": [
    {
     "data": {
      "text/plain": [
       "Index(['Close', 'High', 'Low', 'Open', 'Volume'], dtype='object')"
      ]
     },
     "execution_count": 121,
     "metadata": {},
     "output_type": "execute_result"
    }
   ],
   "source": [
    "_nifty50.columns"
   ]
  },
  {
   "cell_type": "code",
   "execution_count": 145,
   "id": "17f7ec6f",
   "metadata": {},
   "outputs": [],
   "source": [
    "#downloaded the data has missing tradding days, first we extent the date by introducing the missing dates and fill with backword fill\n",
    "\n",
    "_temp = _nifty50.copy()\n",
    "_temp.index = pd.to_datetime(_temp.index)\n",
    "_temp=_temp.asfreq('D')\n",
    "_temp.ffill(inplace=True)\n",
    "_temp.bfill(inplace=True)\n",
    "\n",
    "_time = TimeSeries.from_dataframe(_temp,value_cols=\"Close\",fill_missing_dates=True,freq=\"D\")"
   ]
  },
  {
   "cell_type": "code",
   "execution_count": 147,
   "id": "9ff2c5f9",
   "metadata": {},
   "outputs": [
    {
     "data": {
      "text/plain": [
       "array([ 5000.54980469,  5021.35009766,  5021.35009766, ...,\n",
       "       24924.69921875, 24578.34960938, 24666.90039062])"
      ]
     },
     "execution_count": 147,
     "metadata": {},
     "output_type": "execute_result"
    }
   ],
   "source": [
    "_time.univariate_values()[10:]"
   ]
  },
  {
   "cell_type": "code",
   "execution_count": 104,
   "id": "c8a1e387",
   "metadata": {},
   "outputs": [
    {
     "name": "stdout",
     "output_type": "stream",
     "text": [
      "                               SARIMAX Results                                \n",
      "==============================================================================\n",
      "Dep. Variable:                  Close   No. Observations:                 6450\n",
      "Model:                 ARIMA(1, 1, 1)   Log Likelihood              -38646.662\n",
      "Date:                Fri, 16 May 2025   AIC                          77299.324\n",
      "Time:                        10:40:05   BIC                          77319.639\n",
      "Sample:                    09-17-2007   HQIC                         77306.354\n",
      "                         - 05-14-2025                                         \n",
      "Covariance Type:                  opg                                         \n",
      "==============================================================================\n",
      "                 coef    std err          z      P>|z|      [0.025      0.975]\n",
      "------------------------------------------------------------------------------\n",
      "ar.L1          0.2049      0.229      0.896      0.370      -0.243       0.653\n",
      "ma.L1         -0.1749      0.228     -0.767      0.443      -0.622       0.272\n",
      "sigma2      9391.0604     51.248    183.246      0.000    9290.616    9491.505\n",
      "===================================================================================\n",
      "Ljung-Box (L1) (Q):                   0.04   Jarque-Bera (JB):            110768.74\n",
      "Prob(Q):                              0.84   Prob(JB):                         0.00\n",
      "Heteroskedasticity (H):               4.96   Skew:                            -0.79\n",
      "Prob(H) (two-sided):                  0.00   Kurtosis:                        23.24\n",
      "===================================================================================\n",
      "\n",
      "Warnings:\n",
      "[1] Covariance matrix calculated using the outer product of gradients (complex-step).\n"
     ]
    }
   ],
   "source": [
    "# the objective of this to apply the arima model and see how we can fine tune the parameters and test the residuals\n",
    "\n",
    "from statsmodels.tsa.arima.model import ARIMA\n",
    "import statsmodels.api as sm\n",
    "\n",
    "\n",
    "#fit the model \n",
    "model = ARIMA(data['Close'], order=(1, 1, 1))\n",
    "model_fit = model.fit()\n",
    "# Print the summary of the model\n",
    "print(model_fit.summary())\n",
    "# Plot the residuals \n",
    "residuals = model_fit.resid\n",
    "\n"
   ]
  },
  {
   "cell_type": "code",
   "execution_count": null,
   "id": "22232280",
   "metadata": {},
   "outputs": [
    {
     "data": {
      "text/html": [
       "<div>\n",
       "<style scoped>\n",
       "    .dataframe tbody tr th:only-of-type {\n",
       "        vertical-align: middle;\n",
       "    }\n",
       "\n",
       "    .dataframe tbody tr th {\n",
       "        vertical-align: top;\n",
       "    }\n",
       "\n",
       "    .dataframe thead th {\n",
       "        text-align: right;\n",
       "    }\n",
       "</style>\n",
       "<table border=\"1\" class=\"dataframe\">\n",
       "  <thead>\n",
       "    <tr style=\"text-align: right;\">\n",
       "      <th></th>\n",
       "      <th>close</th>\n",
       "      <th>high</th>\n",
       "      <th>low</th>\n",
       "      <th>open</th>\n",
       "      <th>volume</th>\n",
       "    </tr>\n",
       "    <tr>\n",
       "      <th>date</th>\n",
       "      <th></th>\n",
       "      <th></th>\n",
       "      <th></th>\n",
       "      <th></th>\n",
       "      <th></th>\n",
       "    </tr>\n",
       "  </thead>\n",
       "  <tbody>\n",
       "    <tr>\n",
       "      <th>2025-01-01</th>\n",
       "      <td>23742.900391</td>\n",
       "      <td>23822.800781</td>\n",
       "      <td>23562.800781</td>\n",
       "      <td>23637.650391</td>\n",
       "      <td>154900.0</td>\n",
       "    </tr>\n",
       "    <tr>\n",
       "      <th>2025-01-02</th>\n",
       "      <td>24188.650391</td>\n",
       "      <td>24226.699219</td>\n",
       "      <td>23751.550781</td>\n",
       "      <td>23783.000000</td>\n",
       "      <td>283200.0</td>\n",
       "    </tr>\n",
       "    <tr>\n",
       "      <th>2025-01-03</th>\n",
       "      <td>24004.750000</td>\n",
       "      <td>24196.449219</td>\n",
       "      <td>23976.000000</td>\n",
       "      <td>24196.400391</td>\n",
       "      <td>312300.0</td>\n",
       "    </tr>\n",
       "    <tr>\n",
       "      <th>2025-01-04</th>\n",
       "      <td>23616.050781</td>\n",
       "      <td>24089.949219</td>\n",
       "      <td>23551.900391</td>\n",
       "      <td>24045.800781</td>\n",
       "      <td>278100.0</td>\n",
       "    </tr>\n",
       "    <tr>\n",
       "      <th>2025-01-05</th>\n",
       "      <td>23616.050781</td>\n",
       "      <td>24089.949219</td>\n",
       "      <td>23551.900391</td>\n",
       "      <td>24045.800781</td>\n",
       "      <td>278100.0</td>\n",
       "    </tr>\n",
       "    <tr>\n",
       "      <th>...</th>\n",
       "      <td>...</td>\n",
       "      <td>...</td>\n",
       "      <td>...</td>\n",
       "      <td>...</td>\n",
       "      <td>...</td>\n",
       "    </tr>\n",
       "    <tr>\n",
       "      <th>2025-05-10</th>\n",
       "      <td>24924.699219</td>\n",
       "      <td>24944.800781</td>\n",
       "      <td>24378.849609</td>\n",
       "      <td>24420.099609</td>\n",
       "      <td>368700.0</td>\n",
       "    </tr>\n",
       "    <tr>\n",
       "      <th>2025-05-11</th>\n",
       "      <td>24924.699219</td>\n",
       "      <td>24944.800781</td>\n",
       "      <td>24378.849609</td>\n",
       "      <td>24420.099609</td>\n",
       "      <td>368700.0</td>\n",
       "    </tr>\n",
       "    <tr>\n",
       "      <th>2025-05-12</th>\n",
       "      <td>24924.699219</td>\n",
       "      <td>24944.800781</td>\n",
       "      <td>24378.849609</td>\n",
       "      <td>24420.099609</td>\n",
       "      <td>368700.0</td>\n",
       "    </tr>\n",
       "    <tr>\n",
       "      <th>2025-05-13</th>\n",
       "      <td>24578.349609</td>\n",
       "      <td>24973.800781</td>\n",
       "      <td>24547.500000</td>\n",
       "      <td>24864.050781</td>\n",
       "      <td>423000.0</td>\n",
       "    </tr>\n",
       "    <tr>\n",
       "      <th>2025-05-14</th>\n",
       "      <td>24666.900391</td>\n",
       "      <td>24767.550781</td>\n",
       "      <td>24535.550781</td>\n",
       "      <td>24613.800781</td>\n",
       "      <td>345500.0</td>\n",
       "    </tr>\n",
       "  </tbody>\n",
       "</table>\n",
       "<p>134 rows × 5 columns</p>\n",
       "</div>"
      ],
      "text/plain": [
       "                   close          high           low          open    volume\n",
       "date                                                                        \n",
       "2025-01-01  23742.900391  23822.800781  23562.800781  23637.650391  154900.0\n",
       "2025-01-02  24188.650391  24226.699219  23751.550781  23783.000000  283200.0\n",
       "2025-01-03  24004.750000  24196.449219  23976.000000  24196.400391  312300.0\n",
       "2025-01-04  23616.050781  24089.949219  23551.900391  24045.800781  278100.0\n",
       "2025-01-05  23616.050781  24089.949219  23551.900391  24045.800781  278100.0\n",
       "...                  ...           ...           ...           ...       ...\n",
       "2025-05-10  24924.699219  24944.800781  24378.849609  24420.099609  368700.0\n",
       "2025-05-11  24924.699219  24944.800781  24378.849609  24420.099609  368700.0\n",
       "2025-05-12  24924.699219  24944.800781  24378.849609  24420.099609  368700.0\n",
       "2025-05-13  24578.349609  24973.800781  24547.500000  24864.050781  423000.0\n",
       "2025-05-14  24666.900391  24767.550781  24535.550781  24613.800781  345500.0\n",
       "\n",
       "[134 rows x 5 columns]"
      ]
     },
     "execution_count": 105,
     "metadata": {},
     "output_type": "execute_result"
    }
   ],
   "source": []
  },
  {
   "cell_type": "code",
   "execution_count": 106,
   "id": "8fbd47aa",
   "metadata": {},
   "outputs": [
    {
     "data": {
      "image/png": "[encoded data removed]",
      "text/plain": [
       "<Figure size 800x575 with 4 Axes>"
      ]
     },
     "metadata": {},
     "output_type": "display_data"
    }
   ],
   "source": [
    "# Generate forecast for next 40 days and align index with future dates\n",
    "\n",
    "_forcasting_period =40 \n",
    "_charting = data[data.index>='2025-01-01']\n",
    "\n",
    "# extending the data frame with the forcasting period\n",
    "new_date_range = pd.date_range(start=_charting.index.max(),freq=\"D\", periods=_forcasting_period)\n",
    "_charting = _charting.reindex(_charting.index.union(new_date_range))\n",
    "_charting = _charting.fillna(np.nan)\n",
    "\n",
    "_forcasting_data_set = model_fit.forecast(steps=_forcasting_period)\n",
    "_charting[\"forcasts\"] =np.nan\n",
    "_charting.loc[new_date_range, \"forcasts\"] = _forcasting_data_set\n",
    "\n",
    "\n",
    "# Plot with forecast overlay\n",
    "_adiectives = mpf.make_addplot(_charting[\"forcasts\"],color=\"Red\")\n",
    "mpf.plot(_charting,type='candle',style='yahoo',title='Nifty 50',ylabel='Price',\n",
    "    volume=True,show_nontrading=False,addplot=_adiectives)\n"
   ]
  }
 ],
 "metadata": {
  "kernelspec": {
   "display_name": "Time_Env",
   "language": "python",
   "name": "python3"
  },
  "language_info": {
   "codemirror_mode": {
    "name": "ipython",
    "version": 3
   },
   "file_extension": ".py",
   "mimetype": "text/x-python",
   "name": "python",
   "nbconvert_exporter": "python",
   "pygments_lexer": "ipython3",
   "version": "3.11.12"
  }
 },
 "nbformat": 4,
 "nbformat_minor": 5
}
