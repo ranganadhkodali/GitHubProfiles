{
 "cells": [
  {
   "cell_type": "code",
   "execution_count": 1,
   "metadata": {},
   "outputs": [],
   "source": [
    "import os \n",
    "import matplotlib.pyplot as plt \n",
    "import seaborn as sns \n",
    "from nltk.probability import FreqDist\n",
    "import tqdm\n",
    "import pandas as pd\n",
    "import numpy as np\n",
    "\n",
    "import re"
   ]
  },
  {
   "cell_type": "code",
   "execution_count": 3,
   "metadata": {
    "tags": []
   },
   "outputs": [
    {
     "output_type": "stream",
     "name": "stderr",
     "text": "100%|█████████▉| 48968/49000 [08:02<00:00, 101.49it/s]\nData set shape (48968, 6)\n"
    }
   ],
   "source": [
    "\n",
    "# in this code block we will convert raw text source into the pandas data frame and save data frame as pickle file in data folder\n",
    "\n",
    "from  code_base.ETL import data_set_preparation\n",
    "#file will saved and updated in config file \n",
    "data_set_preparation.construct_data_frame()"
   ]
  },
  {
   "cell_type": "code",
   "execution_count": 13,
   "metadata": {},
   "outputs": [],
   "source": [
    "from code_base.config import config\n",
    "import os   \n",
    "_config  = config()\n",
    "\n",
    "_file=open(os.path.join(_config._data_dump,_config.DATA_FRAME),\"rb\")\n",
    "import pickle\n",
    "# _config.DATA_FRAME\n",
    "\n",
    "data_frame=pickle.load(_file)\n"
   ]
  },
  {
   "cell_type": "code",
   "execution_count": 14,
   "metadata": {},
   "outputs": [
    {
     "output_type": "execute_result",
     "data": {
      "text/plain": "                               Keywords                           articlle_id  \\\n0                           [recipes\\n]  38fe2a73-98a7-3212-811b-e37c10641724   \n1                          [baseball\\n]  ce6e7fba-75de-4324-b246-02519f10de6d   \n2                      [horse-racing\\n]  1b55dc6b-7c27-33bb-a480-b84c684c0257   \n3         [wall_street, stock_market\\n]  eb746ef1-e9d5-4092-90b0-d55e779acb4a   \n4  [executive-branch, foreign-policy\\n]  af71d72e-1183-31a5-a711-25e785dc73d8   \n\n   bod_len                                               body  no_of_keywords  \\\n0   9391.0  homemanage your lifefashion beautyhealthy livi...             1.0   \n1    645.0  s korean breaks home run world baseball record...             1.0   \n2    818.0  manzi bartlett hurt in freehold raceway accide...             1.0   \n3   2569.0  election proof stocks biotech and software tak...             2.0   \n4   4475.0  japanese prime minister faces tests at home an...             2.0   \n\n   no_words  \n0    1607.0  \n1     112.0  \n2     138.0  \n3     478.0  \n4     769.0  ",
      "text/html": "<div>\n<style scoped>\n    .dataframe tbody tr th:only-of-type {\n        vertical-align: middle;\n    }\n\n    .dataframe tbody tr th {\n        vertical-align: top;\n    }\n\n    .dataframe thead th {\n        text-align: right;\n    }\n</style>\n<table border=\"1\" class=\"dataframe\">\n  <thead>\n    <tr style=\"text-align: right;\">\n      <th></th>\n      <th>Keywords</th>\n      <th>articlle_id</th>\n      <th>bod_len</th>\n      <th>body</th>\n      <th>no_of_keywords</th>\n      <th>no_words</th>\n    </tr>\n  </thead>\n  <tbody>\n    <tr>\n      <th>0</th>\n      <td>[recipes\\n]</td>\n      <td>38fe2a73-98a7-3212-811b-e37c10641724</td>\n      <td>9391.0</td>\n      <td>homemanage your lifefashion beautyhealthy livi...</td>\n      <td>1.0</td>\n      <td>1607.0</td>\n    </tr>\n    <tr>\n      <th>1</th>\n      <td>[baseball\\n]</td>\n      <td>ce6e7fba-75de-4324-b246-02519f10de6d</td>\n      <td>645.0</td>\n      <td>s korean breaks home run world baseball record...</td>\n      <td>1.0</td>\n      <td>112.0</td>\n    </tr>\n    <tr>\n      <th>2</th>\n      <td>[horse-racing\\n]</td>\n      <td>1b55dc6b-7c27-33bb-a480-b84c684c0257</td>\n      <td>818.0</td>\n      <td>manzi bartlett hurt in freehold raceway accide...</td>\n      <td>1.0</td>\n      <td>138.0</td>\n    </tr>\n    <tr>\n      <th>3</th>\n      <td>[wall_street, stock_market\\n]</td>\n      <td>eb746ef1-e9d5-4092-90b0-d55e779acb4a</td>\n      <td>2569.0</td>\n      <td>election proof stocks biotech and software tak...</td>\n      <td>2.0</td>\n      <td>478.0</td>\n    </tr>\n    <tr>\n      <th>4</th>\n      <td>[executive-branch, foreign-policy\\n]</td>\n      <td>af71d72e-1183-31a5-a711-25e785dc73d8</td>\n      <td>4475.0</td>\n      <td>japanese prime minister faces tests at home an...</td>\n      <td>2.0</td>\n      <td>769.0</td>\n    </tr>\n  </tbody>\n</table>\n</div>"
     },
     "metadata": {},
     "execution_count": 14
    }
   ],
   "source": [
    "data_frame.head()"
   ]
  },
  {
   "cell_type": "markdown",
   "metadata": {},
   "source": [
    "## Few minor corrections \n",
    "\n",
    ". Keywords has some whitespace \\\\n that need to be remove \n",
    ". other common parameters like number of keywords and length of word\n"
   ]
  },
  {
   "cell_type": "code",
   "execution_count": 16,
   "metadata": {},
   "outputs": [],
   "source": [
    "# replace white space charector\n",
    "\n",
    "def clean_keywords(_str):\n",
    "   return [re.sub(\"\\\\n\",\"\",key) for key in _str]\n",
    "\n",
    "data_frame[\"Keywords\"] = data_frame.Keywords.apply(lambda x: clean_keywords(x))"
   ]
  },
  {
   "cell_type": "code",
   "execution_count": 18,
   "metadata": {},
   "outputs": [],
   "source": [
    "from code_base.ETL.data_set_preparation import saveDataFrame\n",
    "\n",
    "saveDataFrame(data_frame)"
   ]
  },
  {
   "cell_type": "code",
   "execution_count": 10,
   "metadata": {
    "tags": []
   },
   "outputs": [
    {
     "output_type": "display_data",
     "data": {
      "text/plain": "<Figure size 432x288 with 1 Axes>",
      "image/svg+xml": "<?xml version=\"1.0\" encoding=\"utf-8\" standalone=\"no\"?>\r\n<!DOCTYPE svg PUBLIC \"-//W3C//DTD SVG 1.1//EN\"\r\n  \"http://www.w3.org/Graphics/SVG/1.1/DTD/svg11.dtd\">\r\n<!-- Created with matplotlib (https://matplotlib.org/) -->\r\n<svg height=\"275.72pt\" version=\"1.1\" viewBox=\"0 0 397.15 275.72\" width=\"397.15pt\" xmlns=\"http://www.w3.org/2000/svg\" xmlns:xlink=\"http://www.w3.org/1999/xlink\">\r\n <defs>\r\n  <style type=\"text/css\">\r\n*{stroke-linecap:butt;stroke-linejoin:round;}\r\n  </style>\r\n </defs>\r\n <g id=\"figure_1\">\r\n  <g id=\"patch_1\">\r\n   <path d=\"M 0 275.72 \r\nL 397.15 275.72 \r\nL 397.15 0 \r\nL 0 0 \r\nz\r\n\" style=\"fill:#ffffff;\"/>\r\n  </g>\r\n  <g id=\"axes_1\">\r\n   <g id=\"patch_2\">\r\n    <path d=\"M 55.15 239.229375 \r\nL 389.95 239.229375 \r\nL 389.95 21.789375 \r\nL 55.15 21.789375 \r\nz\r\n\" style=\"fill:#eaeaf2;\"/>\r\n   </g>\r\n   <g id=\"matplotlib.axis_1\">\r\n    <g id=\"xtick_1\">\r\n     <g id=\"text_1\">\r\n      <!-- 0 -->\r\n      <defs>\r\n       <path d=\"M 4.15625 35.296875 \r\nQ 4.15625 48 6.765625 55.734375 \r\nQ 9.375 63.484375 14.515625 67.671875 \r\nQ 19.671875 71.875 27.484375 71.875 \r\nQ 33.25 71.875 37.59375 69.546875 \r\nQ 41.9375 67.234375 44.765625 62.859375 \r\nQ 47.609375 58.5 49.21875 52.21875 \r\nQ 50.828125 45.953125 50.828125 35.296875 \r\nQ 50.828125 22.703125 48.234375 14.96875 \r\nQ 45.65625 7.234375 40.5 3 \r\nQ 35.359375 -1.21875 27.484375 -1.21875 \r\nQ 17.140625 -1.21875 11.234375 6.203125 \r\nQ 4.15625 15.140625 4.15625 35.296875 \r\nz\r\nM 13.1875 35.296875 \r\nQ 13.1875 17.671875 17.3125 11.828125 \r\nQ 21.4375 6 27.484375 6 \r\nQ 33.546875 6 37.671875 11.859375 \r\nQ 41.796875 17.71875 41.796875 35.296875 \r\nQ 41.796875 52.984375 37.671875 58.78125 \r\nQ 33.546875 64.59375 27.390625 64.59375 \r\nQ 21.34375 64.59375 17.71875 59.46875 \r\nQ 13.1875 52.9375 13.1875 35.296875 \r\nz\r\n\" id=\"ArialMT-48\"/>\r\n      </defs>\r\n      <g style=\"fill:#262626;\" transform=\"translate(67.565716 253.387188)scale(0.1 -0.1)\">\r\n       <use xlink:href=\"#ArialMT-48\"/>\r\n      </g>\r\n     </g>\r\n    </g>\r\n    <g id=\"xtick_2\">\r\n     <g id=\"text_2\">\r\n      <!-- 10000 -->\r\n      <defs>\r\n       <path d=\"M 37.25 0 \r\nL 28.46875 0 \r\nL 28.46875 56 \r\nQ 25.296875 52.984375 20.140625 49.953125 \r\nQ 14.984375 46.921875 10.890625 45.40625 \r\nL 10.890625 53.90625 \r\nQ 18.265625 57.375 23.78125 62.296875 \r\nQ 29.296875 67.234375 31.59375 71.875 \r\nL 37.25 71.875 \r\nz\r\n\" id=\"ArialMT-49\"/>\r\n      </defs>\r\n      <g style=\"fill:#262626;\" transform=\"translate(129.768574 253.387188)scale(0.1 -0.1)\">\r\n       <use xlink:href=\"#ArialMT-49\"/>\r\n       <use x=\"55.615234\" xlink:href=\"#ArialMT-48\"/>\r\n       <use x=\"111.230469\" xlink:href=\"#ArialMT-48\"/>\r\n       <use x=\"166.845703\" xlink:href=\"#ArialMT-48\"/>\r\n       <use x=\"222.460938\" xlink:href=\"#ArialMT-48\"/>\r\n      </g>\r\n     </g>\r\n    </g>\r\n    <g id=\"xtick_3\">\r\n     <g id=\"text_3\">\r\n      <!-- 20000 -->\r\n      <defs>\r\n       <path d=\"M 50.34375 8.453125 \r\nL 50.34375 0 \r\nL 3.03125 0 \r\nQ 2.9375 3.171875 4.046875 6.109375 \r\nQ 5.859375 10.9375 9.828125 15.625 \r\nQ 13.8125 20.3125 21.34375 26.46875 \r\nQ 33.015625 36.03125 37.109375 41.625 \r\nQ 41.21875 47.21875 41.21875 52.203125 \r\nQ 41.21875 57.421875 37.46875 61 \r\nQ 33.734375 64.59375 27.734375 64.59375 \r\nQ 21.390625 64.59375 17.578125 60.78125 \r\nQ 13.765625 56.984375 13.71875 50.25 \r\nL 4.6875 51.171875 \r\nQ 5.609375 61.28125 11.65625 66.578125 \r\nQ 17.71875 71.875 27.9375 71.875 \r\nQ 38.234375 71.875 44.234375 66.15625 \r\nQ 50.25 60.453125 50.25 52 \r\nQ 50.25 47.703125 48.484375 43.546875 \r\nQ 46.734375 39.40625 42.65625 34.8125 \r\nQ 38.578125 30.21875 29.109375 22.21875 \r\nQ 21.1875 15.578125 18.9375 13.203125 \r\nQ 16.703125 10.84375 15.234375 8.453125 \r\nz\r\n\" id=\"ArialMT-50\"/>\r\n      </defs>\r\n      <g style=\"fill:#262626;\" transform=\"translate(203.093308 253.387188)scale(0.1 -0.1)\">\r\n       <use xlink:href=\"#ArialMT-50\"/>\r\n       <use x=\"55.615234\" xlink:href=\"#ArialMT-48\"/>\r\n       <use x=\"111.230469\" xlink:href=\"#ArialMT-48\"/>\r\n       <use x=\"166.845703\" xlink:href=\"#ArialMT-48\"/>\r\n       <use x=\"222.460938\" xlink:href=\"#ArialMT-48\"/>\r\n      </g>\r\n     </g>\r\n    </g>\r\n    <g id=\"xtick_4\">\r\n     <g id=\"text_4\">\r\n      <!-- 30000 -->\r\n      <defs>\r\n       <path d=\"M 4.203125 18.890625 \r\nL 12.984375 20.0625 \r\nQ 14.5 12.59375 18.140625 9.296875 \r\nQ 21.78125 6 27 6 \r\nQ 33.203125 6 37.46875 10.296875 \r\nQ 41.75 14.59375 41.75 20.953125 \r\nQ 41.75 27 37.796875 30.921875 \r\nQ 33.84375 34.859375 27.734375 34.859375 \r\nQ 25.25 34.859375 21.53125 33.890625 \r\nL 22.515625 41.609375 \r\nQ 23.390625 41.5 23.921875 41.5 \r\nQ 29.546875 41.5 34.03125 44.421875 \r\nQ 38.53125 47.359375 38.53125 53.46875 \r\nQ 38.53125 58.296875 35.25 61.46875 \r\nQ 31.984375 64.65625 26.8125 64.65625 \r\nQ 21.6875 64.65625 18.265625 61.421875 \r\nQ 14.84375 58.203125 13.875 51.765625 \r\nL 5.078125 53.328125 \r\nQ 6.6875 62.15625 12.390625 67.015625 \r\nQ 18.109375 71.875 26.609375 71.875 \r\nQ 32.46875 71.875 37.390625 69.359375 \r\nQ 42.328125 66.84375 44.9375 62.5 \r\nQ 47.5625 58.15625 47.5625 53.265625 \r\nQ 47.5625 48.640625 45.0625 44.828125 \r\nQ 42.578125 41.015625 37.703125 38.765625 \r\nQ 44.046875 37.3125 47.5625 32.6875 \r\nQ 51.078125 28.078125 51.078125 21.140625 \r\nQ 51.078125 11.765625 44.234375 5.25 \r\nQ 37.40625 -1.265625 26.953125 -1.265625 \r\nQ 17.53125 -1.265625 11.296875 4.34375 \r\nQ 5.078125 9.96875 4.203125 18.890625 \r\nz\r\n\" id=\"ArialMT-51\"/>\r\n      </defs>\r\n      <g style=\"fill:#262626;\" transform=\"translate(276.418041 253.387188)scale(0.1 -0.1)\">\r\n       <use xlink:href=\"#ArialMT-51\"/>\r\n       <use x=\"55.615234\" xlink:href=\"#ArialMT-48\"/>\r\n       <use x=\"111.230469\" xlink:href=\"#ArialMT-48\"/>\r\n       <use x=\"166.845703\" xlink:href=\"#ArialMT-48\"/>\r\n       <use x=\"222.460938\" xlink:href=\"#ArialMT-48\"/>\r\n      </g>\r\n     </g>\r\n    </g>\r\n    <g id=\"xtick_5\">\r\n     <g id=\"text_5\">\r\n      <!-- 40000 -->\r\n      <defs>\r\n       <path d=\"M 32.328125 0 \r\nL 32.328125 17.140625 \r\nL 1.265625 17.140625 \r\nL 1.265625 25.203125 \r\nL 33.9375 71.578125 \r\nL 41.109375 71.578125 \r\nL 41.109375 25.203125 \r\nL 50.78125 25.203125 \r\nL 50.78125 17.140625 \r\nL 41.109375 17.140625 \r\nL 41.109375 0 \r\nz\r\nM 32.328125 25.203125 \r\nL 32.328125 57.46875 \r\nL 9.90625 25.203125 \r\nz\r\n\" id=\"ArialMT-52\"/>\r\n      </defs>\r\n      <g style=\"fill:#262626;\" transform=\"translate(349.742775 253.387188)scale(0.1 -0.1)\">\r\n       <use xlink:href=\"#ArialMT-52\"/>\r\n       <use x=\"55.615234\" xlink:href=\"#ArialMT-48\"/>\r\n       <use x=\"111.230469\" xlink:href=\"#ArialMT-48\"/>\r\n       <use x=\"166.845703\" xlink:href=\"#ArialMT-48\"/>\r\n       <use x=\"222.460938\" xlink:href=\"#ArialMT-48\"/>\r\n      </g>\r\n     </g>\r\n    </g>\r\n    <g id=\"text_6\">\r\n     <!-- No.of Woords in Document -->\r\n     <defs>\r\n      <path d=\"M 7.625 0 \r\nL 7.625 71.578125 \r\nL 17.328125 71.578125 \r\nL 54.9375 15.375 \r\nL 54.9375 71.578125 \r\nL 64.015625 71.578125 \r\nL 64.015625 0 \r\nL 54.296875 0 \r\nL 16.703125 56.25 \r\nL 16.703125 0 \r\nz\r\n\" id=\"ArialMT-78\"/>\r\n      <path d=\"M 3.328125 25.921875 \r\nQ 3.328125 40.328125 11.328125 47.265625 \r\nQ 18.015625 53.03125 27.640625 53.03125 \r\nQ 38.328125 53.03125 45.109375 46.015625 \r\nQ 51.90625 39.015625 51.90625 26.65625 \r\nQ 51.90625 16.65625 48.90625 10.90625 \r\nQ 45.90625 5.171875 40.15625 2 \r\nQ 34.421875 -1.171875 27.640625 -1.171875 \r\nQ 16.75 -1.171875 10.03125 5.8125 \r\nQ 3.328125 12.796875 3.328125 25.921875 \r\nz\r\nM 12.359375 25.921875 \r\nQ 12.359375 15.96875 16.703125 11.015625 \r\nQ 21.046875 6.0625 27.640625 6.0625 \r\nQ 34.1875 6.0625 38.53125 11.03125 \r\nQ 42.875 16.015625 42.875 26.21875 \r\nQ 42.875 35.84375 38.5 40.796875 \r\nQ 34.125 45.75 27.640625 45.75 \r\nQ 21.046875 45.75 16.703125 40.8125 \r\nQ 12.359375 35.890625 12.359375 25.921875 \r\nz\r\n\" id=\"ArialMT-111\"/>\r\n      <path d=\"M 9.078125 0 \r\nL 9.078125 10.015625 \r\nL 19.09375 10.015625 \r\nL 19.09375 0 \r\nz\r\n\" id=\"ArialMT-46\"/>\r\n      <path d=\"M 8.6875 0 \r\nL 8.6875 45.015625 \r\nL 0.921875 45.015625 \r\nL 0.921875 51.859375 \r\nL 8.6875 51.859375 \r\nL 8.6875 57.375 \r\nQ 8.6875 62.59375 9.625 65.140625 \r\nQ 10.890625 68.5625 14.078125 70.671875 \r\nQ 17.28125 72.796875 23.046875 72.796875 \r\nQ 26.765625 72.796875 31.25 71.921875 \r\nL 29.9375 64.265625 \r\nQ 27.203125 64.75 24.75 64.75 \r\nQ 20.75 64.75 19.09375 63.03125 \r\nQ 17.4375 61.328125 17.4375 56.640625 \r\nL 17.4375 51.859375 \r\nL 27.546875 51.859375 \r\nL 27.546875 45.015625 \r\nL 17.4375 45.015625 \r\nL 17.4375 0 \r\nz\r\n\" id=\"ArialMT-102\"/>\r\n      <path id=\"ArialMT-32\"/>\r\n      <path d=\"M 20.21875 0 \r\nL 1.21875 71.578125 \r\nL 10.9375 71.578125 \r\nL 21.828125 24.65625 \r\nQ 23.578125 17.28125 24.859375 10.015625 \r\nQ 27.59375 21.484375 28.078125 23.25 \r\nL 41.703125 71.578125 \r\nL 53.125 71.578125 \r\nL 63.375 35.359375 \r\nQ 67.234375 21.875 68.953125 10.015625 \r\nQ 70.3125 16.796875 72.515625 25.59375 \r\nL 83.734375 71.578125 \r\nL 93.265625 71.578125 \r\nL 73.640625 0 \r\nL 64.5 0 \r\nL 49.421875 54.546875 \r\nQ 47.515625 61.375 47.171875 62.9375 \r\nQ 46.046875 58.015625 45.0625 54.546875 \r\nL 29.890625 0 \r\nz\r\n\" id=\"ArialMT-87\"/>\r\n      <path d=\"M 6.5 0 \r\nL 6.5 51.859375 \r\nL 14.40625 51.859375 \r\nL 14.40625 44 \r\nQ 17.4375 49.515625 20 51.265625 \r\nQ 22.5625 53.03125 25.640625 53.03125 \r\nQ 30.078125 53.03125 34.671875 50.203125 \r\nL 31.640625 42.046875 \r\nQ 28.421875 43.953125 25.203125 43.953125 \r\nQ 22.3125 43.953125 20.015625 42.21875 \r\nQ 17.71875 40.484375 16.75 37.40625 \r\nQ 15.28125 32.71875 15.28125 27.15625 \r\nL 15.28125 0 \r\nz\r\n\" id=\"ArialMT-114\"/>\r\n      <path d=\"M 40.234375 0 \r\nL 40.234375 6.546875 \r\nQ 35.296875 -1.171875 25.734375 -1.171875 \r\nQ 19.53125 -1.171875 14.328125 2.25 \r\nQ 9.125 5.671875 6.265625 11.796875 \r\nQ 3.421875 17.921875 3.421875 25.875 \r\nQ 3.421875 33.640625 6 39.96875 \r\nQ 8.59375 46.296875 13.765625 49.65625 \r\nQ 18.953125 53.03125 25.34375 53.03125 \r\nQ 30.03125 53.03125 33.6875 51.046875 \r\nQ 37.359375 49.078125 39.65625 45.90625 \r\nL 39.65625 71.578125 \r\nL 48.390625 71.578125 \r\nL 48.390625 0 \r\nz\r\nM 12.453125 25.875 \r\nQ 12.453125 15.921875 16.640625 10.984375 \r\nQ 20.84375 6.0625 26.5625 6.0625 \r\nQ 32.328125 6.0625 36.34375 10.765625 \r\nQ 40.375 15.484375 40.375 25.140625 \r\nQ 40.375 35.796875 36.265625 40.765625 \r\nQ 32.171875 45.75 26.171875 45.75 \r\nQ 20.3125 45.75 16.375 40.96875 \r\nQ 12.453125 36.1875 12.453125 25.875 \r\nz\r\n\" id=\"ArialMT-100\"/>\r\n      <path d=\"M 3.078125 15.484375 \r\nL 11.765625 16.84375 \r\nQ 12.5 11.625 15.84375 8.84375 \r\nQ 19.1875 6.0625 25.203125 6.0625 \r\nQ 31.25 6.0625 34.171875 8.515625 \r\nQ 37.109375 10.984375 37.109375 14.3125 \r\nQ 37.109375 17.28125 34.515625 19 \r\nQ 32.71875 20.171875 25.53125 21.96875 \r\nQ 15.875 24.421875 12.140625 26.203125 \r\nQ 8.40625 27.984375 6.46875 31.125 \r\nQ 4.546875 34.28125 4.546875 38.09375 \r\nQ 4.546875 41.546875 6.125 44.5 \r\nQ 7.71875 47.46875 10.453125 49.421875 \r\nQ 12.5 50.921875 16.03125 51.96875 \r\nQ 19.578125 53.03125 23.640625 53.03125 \r\nQ 29.734375 53.03125 34.34375 51.265625 \r\nQ 38.96875 49.515625 41.15625 46.5 \r\nQ 43.359375 43.5 44.1875 38.484375 \r\nL 35.59375 37.3125 \r\nQ 35.015625 41.3125 32.203125 43.546875 \r\nQ 29.390625 45.796875 24.265625 45.796875 \r\nQ 18.21875 45.796875 15.625 43.796875 \r\nQ 13.03125 41.796875 13.03125 39.109375 \r\nQ 13.03125 37.40625 14.109375 36.03125 \r\nQ 15.1875 34.625 17.484375 33.6875 \r\nQ 18.796875 33.203125 25.25 31.453125 \r\nQ 34.578125 28.953125 38.25 27.359375 \r\nQ 41.9375 25.78125 44.03125 22.75 \r\nQ 46.140625 19.734375 46.140625 15.234375 \r\nQ 46.140625 10.84375 43.578125 6.953125 \r\nQ 41.015625 3.078125 36.171875 0.953125 \r\nQ 31.34375 -1.171875 25.25 -1.171875 \r\nQ 15.140625 -1.171875 9.84375 3.03125 \r\nQ 4.546875 7.234375 3.078125 15.484375 \r\nz\r\n\" id=\"ArialMT-115\"/>\r\n      <path d=\"M 6.640625 61.46875 \r\nL 6.640625 71.578125 \r\nL 15.4375 71.578125 \r\nL 15.4375 61.46875 \r\nz\r\nM 6.640625 0 \r\nL 6.640625 51.859375 \r\nL 15.4375 51.859375 \r\nL 15.4375 0 \r\nz\r\n\" id=\"ArialMT-105\"/>\r\n      <path d=\"M 6.59375 0 \r\nL 6.59375 51.859375 \r\nL 14.5 51.859375 \r\nL 14.5 44.484375 \r\nQ 20.21875 53.03125 31 53.03125 \r\nQ 35.6875 53.03125 39.625 51.34375 \r\nQ 43.5625 49.65625 45.515625 46.921875 \r\nQ 47.46875 44.1875 48.25 40.4375 \r\nQ 48.734375 37.984375 48.734375 31.890625 \r\nL 48.734375 0 \r\nL 39.9375 0 \r\nL 39.9375 31.546875 \r\nQ 39.9375 36.921875 38.90625 39.578125 \r\nQ 37.890625 42.234375 35.28125 43.8125 \r\nQ 32.671875 45.40625 29.15625 45.40625 \r\nQ 23.53125 45.40625 19.453125 41.84375 \r\nQ 15.375 38.28125 15.375 28.328125 \r\nL 15.375 0 \r\nz\r\n\" id=\"ArialMT-110\"/>\r\n      <path d=\"M 7.71875 0 \r\nL 7.71875 71.578125 \r\nL 32.375 71.578125 \r\nQ 40.71875 71.578125 45.125 70.5625 \r\nQ 51.265625 69.140625 55.609375 65.4375 \r\nQ 61.28125 60.640625 64.078125 53.1875 \r\nQ 66.890625 45.75 66.890625 36.1875 \r\nQ 66.890625 28.03125 64.984375 21.734375 \r\nQ 63.09375 15.4375 60.109375 11.296875 \r\nQ 57.125 7.171875 53.578125 4.796875 \r\nQ 50.046875 2.4375 45.046875 1.21875 \r\nQ 40.046875 0 33.546875 0 \r\nz\r\nM 17.1875 8.453125 \r\nL 32.46875 8.453125 \r\nQ 39.546875 8.453125 43.578125 9.765625 \r\nQ 47.609375 11.078125 50 13.484375 \r\nQ 53.375 16.84375 55.25 22.53125 \r\nQ 57.125 28.21875 57.125 36.328125 \r\nQ 57.125 47.5625 53.4375 53.59375 \r\nQ 49.75 59.625 44.484375 61.671875 \r\nQ 40.671875 63.140625 32.234375 63.140625 \r\nL 17.1875 63.140625 \r\nz\r\n\" id=\"ArialMT-68\"/>\r\n      <path d=\"M 40.4375 19 \r\nL 49.078125 17.875 \r\nQ 47.65625 8.9375 41.8125 3.875 \r\nQ 35.984375 -1.171875 27.484375 -1.171875 \r\nQ 16.84375 -1.171875 10.375 5.78125 \r\nQ 3.90625 12.75 3.90625 25.734375 \r\nQ 3.90625 34.125 6.6875 40.421875 \r\nQ 9.46875 46.734375 15.15625 49.875 \r\nQ 20.84375 53.03125 27.546875 53.03125 \r\nQ 35.984375 53.03125 41.359375 48.75 \r\nQ 46.734375 44.484375 48.25 36.625 \r\nL 39.703125 35.296875 \r\nQ 38.484375 40.53125 35.375 43.15625 \r\nQ 32.28125 45.796875 27.875 45.796875 \r\nQ 21.234375 45.796875 17.078125 41.03125 \r\nQ 12.9375 36.28125 12.9375 25.984375 \r\nQ 12.9375 15.53125 16.9375 10.796875 \r\nQ 20.953125 6.0625 27.390625 6.0625 \r\nQ 32.5625 6.0625 36.03125 9.234375 \r\nQ 39.5 12.40625 40.4375 19 \r\nz\r\n\" id=\"ArialMT-99\"/>\r\n      <path d=\"M 40.578125 0 \r\nL 40.578125 7.625 \r\nQ 34.515625 -1.171875 24.125 -1.171875 \r\nQ 19.53125 -1.171875 15.546875 0.578125 \r\nQ 11.578125 2.34375 9.640625 5 \r\nQ 7.71875 7.671875 6.9375 11.53125 \r\nQ 6.390625 14.109375 6.390625 19.734375 \r\nL 6.390625 51.859375 \r\nL 15.1875 51.859375 \r\nL 15.1875 23.09375 \r\nQ 15.1875 16.21875 15.71875 13.8125 \r\nQ 16.546875 10.359375 19.234375 8.375 \r\nQ 21.921875 6.390625 25.875 6.390625 \r\nQ 29.828125 6.390625 33.296875 8.421875 \r\nQ 36.765625 10.453125 38.203125 13.9375 \r\nQ 39.65625 17.4375 39.65625 24.078125 \r\nL 39.65625 51.859375 \r\nL 48.4375 51.859375 \r\nL 48.4375 0 \r\nz\r\n\" id=\"ArialMT-117\"/>\r\n      <path d=\"M 6.59375 0 \r\nL 6.59375 51.859375 \r\nL 14.453125 51.859375 \r\nL 14.453125 44.578125 \r\nQ 16.890625 48.390625 20.9375 50.703125 \r\nQ 25 53.03125 30.171875 53.03125 \r\nQ 35.9375 53.03125 39.625 50.640625 \r\nQ 43.3125 48.25 44.828125 43.953125 \r\nQ 50.984375 53.03125 60.84375 53.03125 \r\nQ 68.5625 53.03125 72.703125 48.75 \r\nQ 76.859375 44.484375 76.859375 35.59375 \r\nL 76.859375 0 \r\nL 68.109375 0 \r\nL 68.109375 32.671875 \r\nQ 68.109375 37.9375 67.25 40.25 \r\nQ 66.40625 42.578125 64.15625 43.984375 \r\nQ 61.921875 45.40625 58.890625 45.40625 \r\nQ 53.421875 45.40625 49.796875 41.765625 \r\nQ 46.1875 38.140625 46.1875 30.125 \r\nL 46.1875 0 \r\nL 37.40625 0 \r\nL 37.40625 33.6875 \r\nQ 37.40625 39.546875 35.25 42.46875 \r\nQ 33.109375 45.40625 28.21875 45.40625 \r\nQ 24.515625 45.40625 21.359375 43.453125 \r\nQ 18.21875 41.5 16.796875 37.734375 \r\nQ 15.375 33.984375 15.375 26.90625 \r\nL 15.375 0 \r\nz\r\n\" id=\"ArialMT-109\"/>\r\n      <path d=\"M 42.09375 16.703125 \r\nL 51.171875 15.578125 \r\nQ 49.03125 7.625 43.21875 3.21875 \r\nQ 37.40625 -1.171875 28.375 -1.171875 \r\nQ 17 -1.171875 10.328125 5.828125 \r\nQ 3.65625 12.84375 3.65625 25.484375 \r\nQ 3.65625 38.578125 10.390625 45.796875 \r\nQ 17.140625 53.03125 27.875 53.03125 \r\nQ 38.28125 53.03125 44.875 45.953125 \r\nQ 51.46875 38.875 51.46875 26.03125 \r\nQ 51.46875 25.25 51.421875 23.6875 \r\nL 12.75 23.6875 \r\nQ 13.234375 15.140625 17.578125 10.59375 \r\nQ 21.921875 6.0625 28.421875 6.0625 \r\nQ 33.25 6.0625 36.671875 8.59375 \r\nQ 40.09375 11.140625 42.09375 16.703125 \r\nz\r\nM 13.234375 30.90625 \r\nL 42.1875 30.90625 \r\nQ 41.609375 37.453125 38.875 40.71875 \r\nQ 34.671875 45.796875 27.984375 45.796875 \r\nQ 21.921875 45.796875 17.796875 41.75 \r\nQ 13.671875 37.703125 13.234375 30.90625 \r\nz\r\n\" id=\"ArialMT-101\"/>\r\n      <path d=\"M 25.78125 7.859375 \r\nL 27.046875 0.09375 \r\nQ 23.34375 -0.6875 20.40625 -0.6875 \r\nQ 15.625 -0.6875 12.984375 0.828125 \r\nQ 10.359375 2.34375 9.28125 4.8125 \r\nQ 8.203125 7.28125 8.203125 15.1875 \r\nL 8.203125 45.015625 \r\nL 1.765625 45.015625 \r\nL 1.765625 51.859375 \r\nL 8.203125 51.859375 \r\nL 8.203125 64.703125 \r\nL 16.9375 69.96875 \r\nL 16.9375 51.859375 \r\nL 25.78125 51.859375 \r\nL 25.78125 45.015625 \r\nL 16.9375 45.015625 \r\nL 16.9375 14.703125 \r\nQ 16.9375 10.9375 17.40625 9.859375 \r\nQ 17.875 8.796875 18.921875 8.15625 \r\nQ 19.96875 7.515625 21.921875 7.515625 \r\nQ 23.390625 7.515625 25.78125 7.859375 \r\nz\r\n\" id=\"ArialMT-116\"/>\r\n     </defs>\r\n     <g style=\"fill:#262626;\" transform=\"translate(162.616406 266.5325)scale(0.1 -0.1)\">\r\n      <use xlink:href=\"#ArialMT-78\"/>\r\n      <use x=\"72.216797\" xlink:href=\"#ArialMT-111\"/>\r\n      <use x=\"127.832031\" xlink:href=\"#ArialMT-46\"/>\r\n      <use x=\"155.615234\" xlink:href=\"#ArialMT-111\"/>\r\n      <use x=\"211.230469\" xlink:href=\"#ArialMT-102\"/>\r\n      <use x=\"239.013672\" xlink:href=\"#ArialMT-32\"/>\r\n      <use x=\"266.796875\" xlink:href=\"#ArialMT-87\"/>\r\n      <use x=\"359.431641\" xlink:href=\"#ArialMT-111\"/>\r\n      <use x=\"415.046875\" xlink:href=\"#ArialMT-111\"/>\r\n      <use x=\"470.662109\" xlink:href=\"#ArialMT-114\"/>\r\n      <use x=\"503.962891\" xlink:href=\"#ArialMT-100\"/>\r\n      <use x=\"559.578125\" xlink:href=\"#ArialMT-115\"/>\r\n      <use x=\"609.578125\" xlink:href=\"#ArialMT-32\"/>\r\n      <use x=\"637.361328\" xlink:href=\"#ArialMT-105\"/>\r\n      <use x=\"659.578125\" xlink:href=\"#ArialMT-110\"/>\r\n      <use x=\"715.193359\" xlink:href=\"#ArialMT-32\"/>\r\n      <use x=\"742.976562\" xlink:href=\"#ArialMT-68\"/>\r\n      <use x=\"815.193359\" xlink:href=\"#ArialMT-111\"/>\r\n      <use x=\"870.808594\" xlink:href=\"#ArialMT-99\"/>\r\n      <use x=\"920.808594\" xlink:href=\"#ArialMT-117\"/>\r\n      <use x=\"976.423828\" xlink:href=\"#ArialMT-109\"/>\r\n      <use x=\"1059.724609\" xlink:href=\"#ArialMT-101\"/>\r\n      <use x=\"1115.339844\" xlink:href=\"#ArialMT-110\"/>\r\n      <use x=\"1170.955078\" xlink:href=\"#ArialMT-116\"/>\r\n     </g>\r\n    </g>\r\n   </g>\r\n   <g id=\"matplotlib.axis_2\">\r\n    <g id=\"ytick_1\">\r\n     <g id=\"text_7\">\r\n      <!-- 0 -->\r\n      <g style=\"fill:#262626;\" transform=\"translate(42.589063 242.808281)scale(0.1 -0.1)\">\r\n       <use xlink:href=\"#ArialMT-48\"/>\r\n      </g>\r\n     </g>\r\n    </g>\r\n    <g id=\"ytick_2\">\r\n     <g id=\"text_8\">\r\n      <!-- 5000 -->\r\n      <defs>\r\n       <path d=\"M 4.15625 18.75 \r\nL 13.375 19.53125 \r\nQ 14.40625 12.796875 18.140625 9.390625 \r\nQ 21.875 6 27.15625 6 \r\nQ 33.5 6 37.890625 10.78125 \r\nQ 42.28125 15.578125 42.28125 23.484375 \r\nQ 42.28125 31 38.0625 35.34375 \r\nQ 33.84375 39.703125 27 39.703125 \r\nQ 22.75 39.703125 19.328125 37.765625 \r\nQ 15.921875 35.84375 13.96875 32.765625 \r\nL 5.71875 33.84375 \r\nL 12.640625 70.609375 \r\nL 48.25 70.609375 \r\nL 48.25 62.203125 \r\nL 19.671875 62.203125 \r\nL 15.828125 42.96875 \r\nQ 22.265625 47.46875 29.34375 47.46875 \r\nQ 38.71875 47.46875 45.15625 40.96875 \r\nQ 51.609375 34.46875 51.609375 24.265625 \r\nQ 51.609375 14.546875 45.953125 7.46875 \r\nQ 39.0625 -1.21875 27.15625 -1.21875 \r\nQ 17.390625 -1.21875 11.203125 4.25 \r\nQ 5.03125 9.71875 4.15625 18.75 \r\nz\r\n\" id=\"ArialMT-53\"/>\r\n      </defs>\r\n      <g style=\"fill:#262626;\" transform=\"translate(25.90625 216.922567)scale(0.1 -0.1)\">\r\n       <use xlink:href=\"#ArialMT-53\"/>\r\n       <use x=\"55.615234\" xlink:href=\"#ArialMT-48\"/>\r\n       <use x=\"111.230469\" xlink:href=\"#ArialMT-48\"/>\r\n       <use x=\"166.845703\" xlink:href=\"#ArialMT-48\"/>\r\n      </g>\r\n     </g>\r\n    </g>\r\n    <g id=\"ytick_3\">\r\n     <g id=\"text_9\">\r\n      <!-- 10000 -->\r\n      <g style=\"fill:#262626;\" transform=\"translate(20.345313 191.036853)scale(0.1 -0.1)\">\r\n       <use xlink:href=\"#ArialMT-49\"/>\r\n       <use x=\"55.615234\" xlink:href=\"#ArialMT-48\"/>\r\n       <use x=\"111.230469\" xlink:href=\"#ArialMT-48\"/>\r\n       <use x=\"166.845703\" xlink:href=\"#ArialMT-48\"/>\r\n       <use x=\"222.460938\" xlink:href=\"#ArialMT-48\"/>\r\n      </g>\r\n     </g>\r\n    </g>\r\n    <g id=\"ytick_4\">\r\n     <g id=\"text_10\">\r\n      <!-- 15000 -->\r\n      <g style=\"fill:#262626;\" transform=\"translate(20.345313 165.151138)scale(0.1 -0.1)\">\r\n       <use xlink:href=\"#ArialMT-49\"/>\r\n       <use x=\"55.615234\" xlink:href=\"#ArialMT-53\"/>\r\n       <use x=\"111.230469\" xlink:href=\"#ArialMT-48\"/>\r\n       <use x=\"166.845703\" xlink:href=\"#ArialMT-48\"/>\r\n       <use x=\"222.460938\" xlink:href=\"#ArialMT-48\"/>\r\n      </g>\r\n     </g>\r\n    </g>\r\n    <g id=\"ytick_5\">\r\n     <g id=\"text_11\">\r\n      <!-- 20000 -->\r\n      <g style=\"fill:#262626;\" transform=\"translate(20.345313 139.265424)scale(0.1 -0.1)\">\r\n       <use xlink:href=\"#ArialMT-50\"/>\r\n       <use x=\"55.615234\" xlink:href=\"#ArialMT-48\"/>\r\n       <use x=\"111.230469\" xlink:href=\"#ArialMT-48\"/>\r\n       <use x=\"166.845703\" xlink:href=\"#ArialMT-48\"/>\r\n       <use x=\"222.460938\" xlink:href=\"#ArialMT-48\"/>\r\n      </g>\r\n     </g>\r\n    </g>\r\n    <g id=\"ytick_6\">\r\n     <g id=\"text_12\">\r\n      <!-- 25000 -->\r\n      <g style=\"fill:#262626;\" transform=\"translate(20.345313 113.37971)scale(0.1 -0.1)\">\r\n       <use xlink:href=\"#ArialMT-50\"/>\r\n       <use x=\"55.615234\" xlink:href=\"#ArialMT-53\"/>\r\n       <use x=\"111.230469\" xlink:href=\"#ArialMT-48\"/>\r\n       <use x=\"166.845703\" xlink:href=\"#ArialMT-48\"/>\r\n       <use x=\"222.460938\" xlink:href=\"#ArialMT-48\"/>\r\n      </g>\r\n     </g>\r\n    </g>\r\n    <g id=\"ytick_7\">\r\n     <g id=\"text_13\">\r\n      <!-- 30000 -->\r\n      <g style=\"fill:#262626;\" transform=\"translate(20.345313 87.493996)scale(0.1 -0.1)\">\r\n       <use xlink:href=\"#ArialMT-51\"/>\r\n       <use x=\"55.615234\" xlink:href=\"#ArialMT-48\"/>\r\n       <use x=\"111.230469\" xlink:href=\"#ArialMT-48\"/>\r\n       <use x=\"166.845703\" xlink:href=\"#ArialMT-48\"/>\r\n       <use x=\"222.460938\" xlink:href=\"#ArialMT-48\"/>\r\n      </g>\r\n     </g>\r\n    </g>\r\n    <g id=\"ytick_8\">\r\n     <g id=\"text_14\">\r\n      <!-- 35000 -->\r\n      <g style=\"fill:#262626;\" transform=\"translate(20.345313 61.608281)scale(0.1 -0.1)\">\r\n       <use xlink:href=\"#ArialMT-51\"/>\r\n       <use x=\"55.615234\" xlink:href=\"#ArialMT-53\"/>\r\n       <use x=\"111.230469\" xlink:href=\"#ArialMT-48\"/>\r\n       <use x=\"166.845703\" xlink:href=\"#ArialMT-48\"/>\r\n       <use x=\"222.460938\" xlink:href=\"#ArialMT-48\"/>\r\n      </g>\r\n     </g>\r\n    </g>\r\n    <g id=\"ytick_9\">\r\n     <g id=\"text_15\">\r\n      <!-- 40000 -->\r\n      <g style=\"fill:#262626;\" transform=\"translate(20.345313 35.722567)scale(0.1 -0.1)\">\r\n       <use xlink:href=\"#ArialMT-52\"/>\r\n       <use x=\"55.615234\" xlink:href=\"#ArialMT-48\"/>\r\n       <use x=\"111.230469\" xlink:href=\"#ArialMT-48\"/>\r\n       <use x=\"166.845703\" xlink:href=\"#ArialMT-48\"/>\r\n       <use x=\"222.460938\" xlink:href=\"#ArialMT-48\"/>\r\n      </g>\r\n     </g>\r\n    </g>\r\n    <g id=\"text_16\">\r\n     <!-- Distribution -->\r\n     <defs>\r\n      <path d=\"M 14.703125 0 \r\nL 6.546875 0 \r\nL 6.546875 71.578125 \r\nL 15.328125 71.578125 \r\nL 15.328125 46.046875 \r\nQ 20.90625 53.03125 29.546875 53.03125 \r\nQ 34.328125 53.03125 38.59375 51.09375 \r\nQ 42.875 49.171875 45.625 45.671875 \r\nQ 48.390625 42.1875 49.953125 37.25 \r\nQ 51.515625 32.328125 51.515625 26.703125 \r\nQ 51.515625 13.375 44.921875 6.09375 \r\nQ 38.328125 -1.171875 29.109375 -1.171875 \r\nQ 19.921875 -1.171875 14.703125 6.5 \r\nz\r\nM 14.59375 26.3125 \r\nQ 14.59375 17 17.140625 12.84375 \r\nQ 21.296875 6.0625 28.375 6.0625 \r\nQ 34.125 6.0625 38.328125 11.0625 \r\nQ 42.53125 16.0625 42.53125 25.984375 \r\nQ 42.53125 36.140625 38.5 40.96875 \r\nQ 34.46875 45.796875 28.765625 45.796875 \r\nQ 23 45.796875 18.796875 40.796875 \r\nQ 14.59375 35.796875 14.59375 26.3125 \r\nz\r\n\" id=\"ArialMT-98\"/>\r\n     </defs>\r\n     <g style=\"fill:#262626;\" transform=\"translate(14.357813 155.517969)rotate(-90)scale(0.1 -0.1)\">\r\n      <use xlink:href=\"#ArialMT-68\"/>\r\n      <use x=\"72.216797\" xlink:href=\"#ArialMT-105\"/>\r\n      <use x=\"94.433594\" xlink:href=\"#ArialMT-115\"/>\r\n      <use x=\"144.433594\" xlink:href=\"#ArialMT-116\"/>\r\n      <use x=\"172.216797\" xlink:href=\"#ArialMT-114\"/>\r\n      <use x=\"205.517578\" xlink:href=\"#ArialMT-105\"/>\r\n      <use x=\"227.734375\" xlink:href=\"#ArialMT-98\"/>\r\n      <use x=\"283.349609\" xlink:href=\"#ArialMT-117\"/>\r\n      <use x=\"338.964844\" xlink:href=\"#ArialMT-116\"/>\r\n      <use x=\"366.748047\" xlink:href=\"#ArialMT-105\"/>\r\n      <use x=\"388.964844\" xlink:href=\"#ArialMT-111\"/>\r\n      <use x=\"444.580078\" xlink:href=\"#ArialMT-110\"/>\r\n     </g>\r\n    </g>\r\n   </g>\r\n   <g id=\"patch_3\">\r\n    <path clip-path=\"url(#p120875ffb1)\" d=\"M 70.368182 239.229375 \r\nL 76.455455 239.229375 \r\nL 76.455455 32.143661 \r\nL 70.368182 32.143661 \r\nz\r\n\" style=\"fill:#0000ff;opacity:0.4;stroke:#ffffff;stroke-linejoin:miter;\"/>\r\n   </g>\r\n   <g id=\"patch_4\">\r\n    <path clip-path=\"url(#p120875ffb1)\" d=\"M 76.455455 239.229375 \r\nL 82.542727 239.229375 \r\nL 82.542727 200.882278 \r\nL 76.455455 200.882278 \r\nz\r\n\" style=\"fill:#0000ff;opacity:0.4;stroke:#ffffff;stroke-linejoin:miter;\"/>\r\n   </g>\r\n   <g id=\"patch_5\">\r\n    <path clip-path=\"url(#p120875ffb1)\" d=\"M 82.542727 239.229375 \r\nL 88.63 239.229375 \r\nL 88.63 233.648415 \r\nL 82.542727 233.648415 \r\nz\r\n\" style=\"fill:#0000ff;opacity:0.4;stroke:#ffffff;stroke-linejoin:miter;\"/>\r\n   </g>\r\n   <g id=\"patch_6\">\r\n    <path clip-path=\"url(#p120875ffb1)\" d=\"M 88.63 239.229375 \r\nL 94.717273 239.229375 \r\nL 94.717273 237.717649 \r\nL 88.63 237.717649 \r\nz\r\n\" style=\"fill:#0000ff;opacity:0.4;stroke:#ffffff;stroke-linejoin:miter;\"/>\r\n   </g>\r\n   <g id=\"patch_7\">\r\n    <path clip-path=\"url(#p120875ffb1)\" d=\"M 94.717273 239.229375 \r\nL 100.804545 239.229375 \r\nL 100.804545 238.706484 \r\nL 94.717273 238.706484 \r\nz\r\n\" style=\"fill:#0000ff;opacity:0.4;stroke:#ffffff;stroke-linejoin:miter;\"/>\r\n   </g>\r\n   <g id=\"patch_8\">\r\n    <path clip-path=\"url(#p120875ffb1)\" d=\"M 100.804545 239.229375 \r\nL 106.891818 239.229375 \r\nL 106.891818 239.001581 \r\nL 100.804545 239.001581 \r\nz\r\n\" style=\"fill:#0000ff;opacity:0.4;stroke:#ffffff;stroke-linejoin:miter;\"/>\r\n   </g>\r\n   <g id=\"patch_9\">\r\n    <path clip-path=\"url(#p120875ffb1)\" d=\"M 106.891818 239.229375 \r\nL 112.979091 239.229375 \r\nL 112.979091 239.115478 \r\nL 106.891818 239.115478 \r\nz\r\n\" style=\"fill:#0000ff;opacity:0.4;stroke:#ffffff;stroke-linejoin:miter;\"/>\r\n   </g>\r\n   <g id=\"patch_10\">\r\n    <path clip-path=\"url(#p120875ffb1)\" d=\"M 112.979091 239.229375 \r\nL 119.066364 239.229375 \r\nL 119.066364 239.182781 \r\nL 112.979091 239.182781 \r\nz\r\n\" style=\"fill:#0000ff;opacity:0.4;stroke:#ffffff;stroke-linejoin:miter;\"/>\r\n   </g>\r\n   <g id=\"patch_11\">\r\n    <path clip-path=\"url(#p120875ffb1)\" d=\"M 119.066364 239.229375 \r\nL 125.153636 239.229375 \r\nL 125.153636 239.213844 \r\nL 119.066364 239.213844 \r\nz\r\n\" style=\"fill:#0000ff;opacity:0.4;stroke:#ffffff;stroke-linejoin:miter;\"/>\r\n   </g>\r\n   <g id=\"patch_12\">\r\n    <path clip-path=\"url(#p120875ffb1)\" d=\"M 125.153636 239.229375 \r\nL 131.240909 239.229375 \r\nL 131.240909 239.219021 \r\nL 125.153636 239.219021 \r\nz\r\n\" style=\"fill:#0000ff;opacity:0.4;stroke:#ffffff;stroke-linejoin:miter;\"/>\r\n   </g>\r\n   <g id=\"patch_13\">\r\n    <path clip-path=\"url(#p120875ffb1)\" d=\"M 131.240909 239.229375 \r\nL 137.328182 239.229375 \r\nL 137.328182 239.213844 \r\nL 131.240909 239.213844 \r\nz\r\n\" style=\"fill:#0000ff;opacity:0.4;stroke:#ffffff;stroke-linejoin:miter;\"/>\r\n   </g>\r\n   <g id=\"patch_14\">\r\n    <path clip-path=\"url(#p120875ffb1)\" d=\"M 137.328182 239.229375 \r\nL 143.415455 239.229375 \r\nL 143.415455 239.229375 \r\nL 137.328182 239.229375 \r\nz\r\n\" style=\"fill:#0000ff;opacity:0.4;stroke:#ffffff;stroke-linejoin:miter;\"/>\r\n   </g>\r\n   <g id=\"patch_15\">\r\n    <path clip-path=\"url(#p120875ffb1)\" d=\"M 143.415455 239.229375 \r\nL 149.502727 239.229375 \r\nL 149.502727 239.224198 \r\nL 143.415455 239.224198 \r\nz\r\n\" style=\"fill:#0000ff;opacity:0.4;stroke:#ffffff;stroke-linejoin:miter;\"/>\r\n   </g>\r\n   <g id=\"patch_16\">\r\n    <path clip-path=\"url(#p120875ffb1)\" d=\"M 149.502727 239.229375 \r\nL 155.59 239.229375 \r\nL 155.59 239.213844 \r\nL 149.502727 239.213844 \r\nz\r\n\" style=\"fill:#0000ff;opacity:0.4;stroke:#ffffff;stroke-linejoin:miter;\"/>\r\n   </g>\r\n   <g id=\"patch_17\">\r\n    <path clip-path=\"url(#p120875ffb1)\" d=\"M 155.59 239.229375 \r\nL 161.677273 239.229375 \r\nL 161.677273 239.219021 \r\nL 155.59 239.219021 \r\nz\r\n\" style=\"fill:#0000ff;opacity:0.4;stroke:#ffffff;stroke-linejoin:miter;\"/>\r\n   </g>\r\n   <g id=\"patch_18\">\r\n    <path clip-path=\"url(#p120875ffb1)\" d=\"M 161.677273 239.229375 \r\nL 167.764545 239.229375 \r\nL 167.764545 239.229375 \r\nL 161.677273 239.229375 \r\nz\r\n\" style=\"fill:#0000ff;opacity:0.4;stroke:#ffffff;stroke-linejoin:miter;\"/>\r\n   </g>\r\n   <g id=\"patch_19\">\r\n    <path clip-path=\"url(#p120875ffb1)\" d=\"M 167.764545 239.229375 \r\nL 173.851818 239.229375 \r\nL 173.851818 239.229375 \r\nL 167.764545 239.229375 \r\nz\r\n\" style=\"fill:#0000ff;opacity:0.4;stroke:#ffffff;stroke-linejoin:miter;\"/>\r\n   </g>\r\n   <g id=\"patch_20\">\r\n    <path clip-path=\"url(#p120875ffb1)\" d=\"M 173.851818 239.229375 \r\nL 179.939091 239.229375 \r\nL 179.939091 239.229375 \r\nL 173.851818 239.229375 \r\nz\r\n\" style=\"fill:#0000ff;opacity:0.4;stroke:#ffffff;stroke-linejoin:miter;\"/>\r\n   </g>\r\n   <g id=\"patch_21\">\r\n    <path clip-path=\"url(#p120875ffb1)\" d=\"M 179.939091 239.229375 \r\nL 186.026364 239.229375 \r\nL 186.026364 239.229375 \r\nL 179.939091 239.229375 \r\nz\r\n\" style=\"fill:#0000ff;opacity:0.4;stroke:#ffffff;stroke-linejoin:miter;\"/>\r\n   </g>\r\n   <g id=\"patch_22\">\r\n    <path clip-path=\"url(#p120875ffb1)\" d=\"M 186.026364 239.229375 \r\nL 192.113636 239.229375 \r\nL 192.113636 239.229375 \r\nL 186.026364 239.229375 \r\nz\r\n\" style=\"fill:#0000ff;opacity:0.4;stroke:#ffffff;stroke-linejoin:miter;\"/>\r\n   </g>\r\n   <g id=\"patch_23\">\r\n    <path clip-path=\"url(#p120875ffb1)\" d=\"M 192.113636 239.229375 \r\nL 198.200909 239.229375 \r\nL 198.200909 239.229375 \r\nL 192.113636 239.229375 \r\nz\r\n\" style=\"fill:#0000ff;opacity:0.4;stroke:#ffffff;stroke-linejoin:miter;\"/>\r\n   </g>\r\n   <g id=\"patch_24\">\r\n    <path clip-path=\"url(#p120875ffb1)\" d=\"M 198.200909 239.229375 \r\nL 204.288182 239.229375 \r\nL 204.288182 239.229375 \r\nL 198.200909 239.229375 \r\nz\r\n\" style=\"fill:#0000ff;opacity:0.4;stroke:#ffffff;stroke-linejoin:miter;\"/>\r\n   </g>\r\n   <g id=\"patch_25\">\r\n    <path clip-path=\"url(#p120875ffb1)\" d=\"M 204.288182 239.229375 \r\nL 210.375455 239.229375 \r\nL 210.375455 239.229375 \r\nL 204.288182 239.229375 \r\nz\r\n\" style=\"fill:#0000ff;opacity:0.4;stroke:#ffffff;stroke-linejoin:miter;\"/>\r\n   </g>\r\n   <g id=\"patch_26\">\r\n    <path clip-path=\"url(#p120875ffb1)\" d=\"M 210.375455 239.229375 \r\nL 216.462727 239.229375 \r\nL 216.462727 239.229375 \r\nL 210.375455 239.229375 \r\nz\r\n\" style=\"fill:#0000ff;opacity:0.4;stroke:#ffffff;stroke-linejoin:miter;\"/>\r\n   </g>\r\n   <g id=\"patch_27\">\r\n    <path clip-path=\"url(#p120875ffb1)\" d=\"M 216.462727 239.229375 \r\nL 222.55 239.229375 \r\nL 222.55 239.229375 \r\nL 216.462727 239.229375 \r\nz\r\n\" style=\"fill:#0000ff;opacity:0.4;stroke:#ffffff;stroke-linejoin:miter;\"/>\r\n   </g>\r\n   <g id=\"patch_28\">\r\n    <path clip-path=\"url(#p120875ffb1)\" d=\"M 222.55 239.229375 \r\nL 228.637273 239.229375 \r\nL 228.637273 239.229375 \r\nL 222.55 239.229375 \r\nz\r\n\" style=\"fill:#0000ff;opacity:0.4;stroke:#ffffff;stroke-linejoin:miter;\"/>\r\n   </g>\r\n   <g id=\"patch_29\">\r\n    <path clip-path=\"url(#p120875ffb1)\" d=\"M 228.637273 239.229375 \r\nL 234.724545 239.229375 \r\nL 234.724545 239.229375 \r\nL 228.637273 239.229375 \r\nz\r\n\" style=\"fill:#0000ff;opacity:0.4;stroke:#ffffff;stroke-linejoin:miter;\"/>\r\n   </g>\r\n   <g id=\"patch_30\">\r\n    <path clip-path=\"url(#p120875ffb1)\" d=\"M 234.724545 239.229375 \r\nL 240.811818 239.229375 \r\nL 240.811818 239.229375 \r\nL 234.724545 239.229375 \r\nz\r\n\" style=\"fill:#0000ff;opacity:0.4;stroke:#ffffff;stroke-linejoin:miter;\"/>\r\n   </g>\r\n   <g id=\"patch_31\">\r\n    <path clip-path=\"url(#p120875ffb1)\" d=\"M 240.811818 239.229375 \r\nL 246.899091 239.229375 \r\nL 246.899091 239.229375 \r\nL 240.811818 239.229375 \r\nz\r\n\" style=\"fill:#0000ff;opacity:0.4;stroke:#ffffff;stroke-linejoin:miter;\"/>\r\n   </g>\r\n   <g id=\"patch_32\">\r\n    <path clip-path=\"url(#p120875ffb1)\" d=\"M 246.899091 239.229375 \r\nL 252.986364 239.229375 \r\nL 252.986364 239.229375 \r\nL 246.899091 239.229375 \r\nz\r\n\" style=\"fill:#0000ff;opacity:0.4;stroke:#ffffff;stroke-linejoin:miter;\"/>\r\n   </g>\r\n   <g id=\"patch_33\">\r\n    <path clip-path=\"url(#p120875ffb1)\" d=\"M 252.986364 239.229375 \r\nL 259.073636 239.229375 \r\nL 259.073636 239.229375 \r\nL 252.986364 239.229375 \r\nz\r\n\" style=\"fill:#0000ff;opacity:0.4;stroke:#ffffff;stroke-linejoin:miter;\"/>\r\n   </g>\r\n   <g id=\"patch_34\">\r\n    <path clip-path=\"url(#p120875ffb1)\" d=\"M 259.073636 239.229375 \r\nL 265.160909 239.229375 \r\nL 265.160909 239.229375 \r\nL 259.073636 239.229375 \r\nz\r\n\" style=\"fill:#0000ff;opacity:0.4;stroke:#ffffff;stroke-linejoin:miter;\"/>\r\n   </g>\r\n   <g id=\"patch_35\">\r\n    <path clip-path=\"url(#p120875ffb1)\" d=\"M 265.160909 239.229375 \r\nL 271.248182 239.229375 \r\nL 271.248182 239.229375 \r\nL 265.160909 239.229375 \r\nz\r\n\" style=\"fill:#0000ff;opacity:0.4;stroke:#ffffff;stroke-linejoin:miter;\"/>\r\n   </g>\r\n   <g id=\"patch_36\">\r\n    <path clip-path=\"url(#p120875ffb1)\" d=\"M 271.248182 239.229375 \r\nL 277.335455 239.229375 \r\nL 277.335455 239.229375 \r\nL 271.248182 239.229375 \r\nz\r\n\" style=\"fill:#0000ff;opacity:0.4;stroke:#ffffff;stroke-linejoin:miter;\"/>\r\n   </g>\r\n   <g id=\"patch_37\">\r\n    <path clip-path=\"url(#p120875ffb1)\" d=\"M 277.335455 239.229375 \r\nL 283.422727 239.229375 \r\nL 283.422727 239.229375 \r\nL 277.335455 239.229375 \r\nz\r\n\" style=\"fill:#0000ff;opacity:0.4;stroke:#ffffff;stroke-linejoin:miter;\"/>\r\n   </g>\r\n   <g id=\"patch_38\">\r\n    <path clip-path=\"url(#p120875ffb1)\" d=\"M 283.422727 239.229375 \r\nL 289.51 239.229375 \r\nL 289.51 239.229375 \r\nL 283.422727 239.229375 \r\nz\r\n\" style=\"fill:#0000ff;opacity:0.4;stroke:#ffffff;stroke-linejoin:miter;\"/>\r\n   </g>\r\n   <g id=\"patch_39\">\r\n    <path clip-path=\"url(#p120875ffb1)\" d=\"M 289.51 239.229375 \r\nL 295.597273 239.229375 \r\nL 295.597273 239.229375 \r\nL 289.51 239.229375 \r\nz\r\n\" style=\"fill:#0000ff;opacity:0.4;stroke:#ffffff;stroke-linejoin:miter;\"/>\r\n   </g>\r\n   <g id=\"patch_40\">\r\n    <path clip-path=\"url(#p120875ffb1)\" d=\"M 295.597273 239.229375 \r\nL 301.684545 239.229375 \r\nL 301.684545 239.229375 \r\nL 295.597273 239.229375 \r\nz\r\n\" style=\"fill:#0000ff;opacity:0.4;stroke:#ffffff;stroke-linejoin:miter;\"/>\r\n   </g>\r\n   <g id=\"patch_41\">\r\n    <path clip-path=\"url(#p120875ffb1)\" d=\"M 301.684545 239.229375 \r\nL 307.771818 239.229375 \r\nL 307.771818 239.229375 \r\nL 301.684545 239.229375 \r\nz\r\n\" style=\"fill:#0000ff;opacity:0.4;stroke:#ffffff;stroke-linejoin:miter;\"/>\r\n   </g>\r\n   <g id=\"patch_42\">\r\n    <path clip-path=\"url(#p120875ffb1)\" d=\"M 307.771818 239.229375 \r\nL 313.859091 239.229375 \r\nL 313.859091 239.229375 \r\nL 307.771818 239.229375 \r\nz\r\n\" style=\"fill:#0000ff;opacity:0.4;stroke:#ffffff;stroke-linejoin:miter;\"/>\r\n   </g>\r\n   <g id=\"patch_43\">\r\n    <path clip-path=\"url(#p120875ffb1)\" d=\"M 313.859091 239.229375 \r\nL 319.946364 239.229375 \r\nL 319.946364 239.229375 \r\nL 313.859091 239.229375 \r\nz\r\n\" style=\"fill:#0000ff;opacity:0.4;stroke:#ffffff;stroke-linejoin:miter;\"/>\r\n   </g>\r\n   <g id=\"patch_44\">\r\n    <path clip-path=\"url(#p120875ffb1)\" d=\"M 319.946364 239.229375 \r\nL 326.033636 239.229375 \r\nL 326.033636 239.229375 \r\nL 319.946364 239.229375 \r\nz\r\n\" style=\"fill:#0000ff;opacity:0.4;stroke:#ffffff;stroke-linejoin:miter;\"/>\r\n   </g>\r\n   <g id=\"patch_45\">\r\n    <path clip-path=\"url(#p120875ffb1)\" d=\"M 326.033636 239.229375 \r\nL 332.120909 239.229375 \r\nL 332.120909 239.229375 \r\nL 326.033636 239.229375 \r\nz\r\n\" style=\"fill:#0000ff;opacity:0.4;stroke:#ffffff;stroke-linejoin:miter;\"/>\r\n   </g>\r\n   <g id=\"patch_46\">\r\n    <path clip-path=\"url(#p120875ffb1)\" d=\"M 332.120909 239.229375 \r\nL 338.208182 239.229375 \r\nL 338.208182 239.229375 \r\nL 332.120909 239.229375 \r\nz\r\n\" style=\"fill:#0000ff;opacity:0.4;stroke:#ffffff;stroke-linejoin:miter;\"/>\r\n   </g>\r\n   <g id=\"patch_47\">\r\n    <path clip-path=\"url(#p120875ffb1)\" d=\"M 338.208182 239.229375 \r\nL 344.295455 239.229375 \r\nL 344.295455 239.229375 \r\nL 338.208182 239.229375 \r\nz\r\n\" style=\"fill:#0000ff;opacity:0.4;stroke:#ffffff;stroke-linejoin:miter;\"/>\r\n   </g>\r\n   <g id=\"patch_48\">\r\n    <path clip-path=\"url(#p120875ffb1)\" d=\"M 344.295455 239.229375 \r\nL 350.382727 239.229375 \r\nL 350.382727 239.229375 \r\nL 344.295455 239.229375 \r\nz\r\n\" style=\"fill:#0000ff;opacity:0.4;stroke:#ffffff;stroke-linejoin:miter;\"/>\r\n   </g>\r\n   <g id=\"patch_49\">\r\n    <path clip-path=\"url(#p120875ffb1)\" d=\"M 350.382727 239.229375 \r\nL 356.47 239.229375 \r\nL 356.47 239.229375 \r\nL 350.382727 239.229375 \r\nz\r\n\" style=\"fill:#0000ff;opacity:0.4;stroke:#ffffff;stroke-linejoin:miter;\"/>\r\n   </g>\r\n   <g id=\"patch_50\">\r\n    <path clip-path=\"url(#p120875ffb1)\" d=\"M 356.47 239.229375 \r\nL 362.557273 239.229375 \r\nL 362.557273 239.229375 \r\nL 356.47 239.229375 \r\nz\r\n\" style=\"fill:#0000ff;opacity:0.4;stroke:#ffffff;stroke-linejoin:miter;\"/>\r\n   </g>\r\n   <g id=\"patch_51\">\r\n    <path clip-path=\"url(#p120875ffb1)\" d=\"M 362.557273 239.229375 \r\nL 368.644545 239.229375 \r\nL 368.644545 239.229375 \r\nL 362.557273 239.229375 \r\nz\r\n\" style=\"fill:#0000ff;opacity:0.4;stroke:#ffffff;stroke-linejoin:miter;\"/>\r\n   </g>\r\n   <g id=\"patch_52\">\r\n    <path clip-path=\"url(#p120875ffb1)\" d=\"M 368.644545 239.229375 \r\nL 374.731818 239.229375 \r\nL 374.731818 239.224198 \r\nL 368.644545 239.224198 \r\nz\r\n\" style=\"fill:#0000ff;opacity:0.4;stroke:#ffffff;stroke-linejoin:miter;\"/>\r\n   </g>\r\n   <g id=\"patch_53\">\r\n    <path d=\"M 55.15 239.229375 \r\nL 55.15 21.789375 \r\n\" style=\"fill:none;stroke:#ffffff;stroke-linecap:square;stroke-linejoin:miter;stroke-width:0.8;\"/>\r\n   </g>\r\n   <g id=\"patch_54\">\r\n    <path d=\"M 389.95 239.229375 \r\nL 389.95 21.789375 \r\n\" style=\"fill:none;stroke:#ffffff;stroke-linecap:square;stroke-linejoin:miter;stroke-width:0.8;\"/>\r\n   </g>\r\n   <g id=\"patch_55\">\r\n    <path d=\"M 55.15 239.229375 \r\nL 389.95 239.229375 \r\n\" style=\"fill:none;stroke:#ffffff;stroke-linecap:square;stroke-linejoin:miter;stroke-width:0.8;\"/>\r\n   </g>\r\n   <g id=\"patch_56\">\r\n    <path d=\"M 55.15 21.789375 \r\nL 389.95 21.789375 \r\n\" style=\"fill:none;stroke:#ffffff;stroke-linecap:square;stroke-linejoin:miter;stroke-width:0.8;\"/>\r\n   </g>\r\n   <g id=\"text_17\">\r\n    <!-- Number of Words in document -->\r\n    <g style=\"fill:#262626;\" transform=\"translate(141.294062 15.789375)scale(0.12 -0.12)\">\r\n     <use xlink:href=\"#ArialMT-78\"/>\r\n     <use x=\"72.216797\" xlink:href=\"#ArialMT-117\"/>\r\n     <use x=\"127.832031\" xlink:href=\"#ArialMT-109\"/>\r\n     <use x=\"211.132812\" xlink:href=\"#ArialMT-98\"/>\r\n     <use x=\"266.748047\" xlink:href=\"#ArialMT-101\"/>\r\n     <use x=\"322.363281\" xlink:href=\"#ArialMT-114\"/>\r\n     <use x=\"355.664062\" xlink:href=\"#ArialMT-32\"/>\r\n     <use x=\"383.447266\" xlink:href=\"#ArialMT-111\"/>\r\n     <use x=\"439.0625\" xlink:href=\"#ArialMT-102\"/>\r\n     <use x=\"466.845703\" xlink:href=\"#ArialMT-32\"/>\r\n     <use x=\"494.628906\" xlink:href=\"#ArialMT-87\"/>\r\n     <use x=\"587.263672\" xlink:href=\"#ArialMT-111\"/>\r\n     <use x=\"642.878906\" xlink:href=\"#ArialMT-114\"/>\r\n     <use x=\"676.179688\" xlink:href=\"#ArialMT-100\"/>\r\n     <use x=\"731.794922\" xlink:href=\"#ArialMT-115\"/>\r\n     <use x=\"781.794922\" xlink:href=\"#ArialMT-32\"/>\r\n     <use x=\"809.578125\" xlink:href=\"#ArialMT-105\"/>\r\n     <use x=\"831.794922\" xlink:href=\"#ArialMT-110\"/>\r\n     <use x=\"887.410156\" xlink:href=\"#ArialMT-32\"/>\r\n     <use x=\"915.193359\" xlink:href=\"#ArialMT-100\"/>\r\n     <use x=\"970.808594\" xlink:href=\"#ArialMT-111\"/>\r\n     <use x=\"1026.423828\" xlink:href=\"#ArialMT-99\"/>\r\n     <use x=\"1076.423828\" xlink:href=\"#ArialMT-117\"/>\r\n     <use x=\"1132.039062\" xlink:href=\"#ArialMT-109\"/>\r\n     <use x=\"1215.339844\" xlink:href=\"#ArialMT-101\"/>\r\n     <use x=\"1270.955078\" xlink:href=\"#ArialMT-110\"/>\r\n     <use x=\"1326.570312\" xlink:href=\"#ArialMT-116\"/>\r\n    </g>\r\n   </g>\r\n  </g>\r\n </g>\r\n <defs>\r\n  <clipPath id=\"p120875ffb1\">\r\n   <rect height=\"217.44\" width=\"334.8\" x=\"55.15\" y=\"21.789375\"/>\r\n  </clipPath>\r\n </defs>\r\n</svg>\r\n",
      "image/png": "[encoded data removed]"
     },
     "metadata": {}
    },
    {
     "output_type": "stream",
     "name": "stdout",
     "text": "Print of distribution of number of words\nMedian  468.0\n"
    },
    {
     "output_type": "execute_result",
     "data": {
      "text/plain": "count    48968.000000\nmean       573.732397\nstd        538.572339\nmin          3.000000\n1%          39.000000\n2%          61.000000\n3%          77.000000\n4%          89.000000\n5%          98.350000\n10%        131.000000\n20%        224.000000\n30%        318.000000\n40%        391.000000\n50%        468.000000\n60%        554.000000\n70%        659.000000\n80%        803.000000\n85%        906.950000\n90%       1056.300000\n95%       1382.000000\n98%       1992.660000\nmax      41512.000000\nName: no_words, dtype: float64"
     },
     "metadata": {},
     "execution_count": 10
    }
   ],
   "source": [
    "import matplotlib.pyplot as plt \n",
    "import seaborn as sns \n",
    "\n",
    "sns.set_style(\"dark\")\n",
    "numbe_of_topics_in_doocument= sns.distributions.distplot(data_frame.no_words,kde=False,rug=False,color=\"blue\")\n",
    "plt.xlabel(\"No.of Woords in Document\")\n",
    "plt.ylabel(\"Distribution\")\n",
    "plt.title(\"Number of Words in document\")\n",
    "plt.show()\n",
    "_path = os.path.join(os.path.curdir,\"Visuals\",\"Originl_document_word_discrpitio.png\")\n",
    "numbe_of_topics_in_doocument.get_figure().savefig(_path)\n",
    "\n",
    "\n",
    "print(\"Print of distribution of number of words\")\n",
    "print(f\"Median  {np.median(data_frame.no_words)}\")\n",
    "data_frame.no_words.describe([.01,0.02,0.03,0.04,0.05,.1,.2,.3,.4,.5,.6,.7,.80,.85,.90,.95,0.98])\n"
   ]
  },
  {
   "cell_type": "code",
   "execution_count": 27,
   "metadata": {},
   "outputs": [
    {
     "output_type": "execute_result",
     "data": {
      "text/plain": "(245, 6)"
     },
     "metadata": {},
     "execution_count": 27
    }
   ],
   "source": [
    "data_frame[data_frame.no_words <=28].shape"
   ]
  },
  {
   "cell_type": "code",
   "execution_count": 28,
   "metadata": {},
   "outputs": [
    {
     "output_type": "execute_result",
     "data": {
      "text/plain": "(982, 6)"
     },
     "metadata": {},
     "execution_count": 28
    }
   ],
   "source": [
    "data_frame[data_frame.no_words >=1992].shape\n"
   ]
  },
  {
   "cell_type": "code",
   "execution_count": 29,
   "metadata": {},
   "outputs": [
    {
     "output_type": "execute_result",
     "data": {
      "text/plain": "47741.0"
     },
     "metadata": {},
     "execution_count": 29
    }
   ],
   "source": [
    "48968.000000 - 245 - 982"
   ]
  },
  {
   "cell_type": "code",
   "execution_count": 30,
   "metadata": {},
   "outputs": [
    {
     "output_type": "execute_result",
     "data": {
      "text/plain": "97.49428198006862"
     },
     "metadata": {},
     "execution_count": 30
    }
   ],
   "source": [
    "(47741.0 / 48968.0)*100"
   ]
  },
  {
   "cell_type": "code",
   "execution_count": 76,
   "metadata": {
    "tags": []
   },
   "outputs": [
    {
     "output_type": "error",
     "ename": "ValueError",
     "evalue": "a must be greater than 0 unless no samples are taken",
     "traceback": [
      "\u001b[1;31m---------------------------------------------------------------------------\u001b[0m",
      "\u001b[1;31mValueError\u001b[0m                                Traceback (most recent call last)",
      "\u001b[1;32m<ipython-input-76-253185b03681>\u001b[0m in \u001b[0;36m<module>\u001b[1;34m\u001b[0m\n\u001b[0;32m      2\u001b[0m \u001b[1;32mimport\u001b[0m \u001b[0mpprint\u001b[0m\u001b[1;33m\u001b[0m\u001b[1;33m\u001b[0m\u001b[0m\n\u001b[0;32m      3\u001b[0m \u001b[1;33m\u001b[0m\u001b[0m\n\u001b[1;32m----> 4\u001b[1;33m \u001b[1;32mfor\u001b[0m \u001b[0mdoc\u001b[0m \u001b[1;32min\u001b[0m \u001b[0mdata_frame\u001b[0m\u001b[1;33m[\u001b[0m\u001b[0mdata_frame\u001b[0m\u001b[1;33m.\u001b[0m\u001b[0mKeywords\u001b[0m\u001b[1;33m.\u001b[0m\u001b[0mapply\u001b[0m\u001b[1;33m(\u001b[0m\u001b[1;32mlambda\u001b[0m \u001b[0mx\u001b[0m\u001b[1;33m:\u001b[0m \u001b[1;34m\"recipes\"\u001b[0m \u001b[1;32min\u001b[0m \u001b[0mx\u001b[0m \u001b[1;32mand\u001b[0m \u001b[1;34m\"baseball\"\u001b[0m \u001b[1;32min\u001b[0m \u001b[0mx\u001b[0m\u001b[1;33m)\u001b[0m\u001b[1;33m]\u001b[0m\u001b[1;33m.\u001b[0m\u001b[0msample\u001b[0m\u001b[1;33m(\u001b[0m\u001b[0mn\u001b[0m\u001b[1;33m=\u001b[0m\u001b[1;36m3\u001b[0m\u001b[1;33m)\u001b[0m\u001b[1;33m.\u001b[0m\u001b[0mbody\u001b[0m\u001b[1;33m:\u001b[0m\u001b[1;33m\u001b[0m\u001b[1;33m\u001b[0m\u001b[0m\n\u001b[0m\u001b[0;32m      5\u001b[0m     \u001b[0mprint\u001b[0m\u001b[1;33m(\u001b[0m\u001b[0mdoc\u001b[0m\u001b[1;33m)\u001b[0m\u001b[1;33m\u001b[0m\u001b[1;33m\u001b[0m\u001b[0m\n",
      "\u001b[1;32mD:\\DS\\Anaconda\\envs\\TF\\lib\\site-packages\\pandas\\core\\generic.py\u001b[0m in \u001b[0;36msample\u001b[1;34m(self, n, frac, replace, weights, random_state, axis)\u001b[0m\n\u001b[0;32m   5059\u001b[0m             )\n\u001b[0;32m   5060\u001b[0m \u001b[1;33m\u001b[0m\u001b[0m\n\u001b[1;32m-> 5061\u001b[1;33m         \u001b[0mlocs\u001b[0m \u001b[1;33m=\u001b[0m \u001b[0mrs\u001b[0m\u001b[1;33m.\u001b[0m\u001b[0mchoice\u001b[0m\u001b[1;33m(\u001b[0m\u001b[0maxis_length\u001b[0m\u001b[1;33m,\u001b[0m \u001b[0msize\u001b[0m\u001b[1;33m=\u001b[0m\u001b[0mn\u001b[0m\u001b[1;33m,\u001b[0m \u001b[0mreplace\u001b[0m\u001b[1;33m=\u001b[0m\u001b[0mreplace\u001b[0m\u001b[1;33m,\u001b[0m \u001b[0mp\u001b[0m\u001b[1;33m=\u001b[0m\u001b[0mweights\u001b[0m\u001b[1;33m)\u001b[0m\u001b[1;33m\u001b[0m\u001b[1;33m\u001b[0m\u001b[0m\n\u001b[0m\u001b[0;32m   5062\u001b[0m         \u001b[1;32mreturn\u001b[0m \u001b[0mself\u001b[0m\u001b[1;33m.\u001b[0m\u001b[0mtake\u001b[0m\u001b[1;33m(\u001b[0m\u001b[0mlocs\u001b[0m\u001b[1;33m,\u001b[0m \u001b[0maxis\u001b[0m\u001b[1;33m=\u001b[0m\u001b[0maxis\u001b[0m\u001b[1;33m)\u001b[0m\u001b[1;33m\u001b[0m\u001b[1;33m\u001b[0m\u001b[0m\n\u001b[0;32m   5063\u001b[0m \u001b[1;33m\u001b[0m\u001b[0m\n",
      "\u001b[1;32mmtrand.pyx\u001b[0m in \u001b[0;36mnumpy.random.mtrand.RandomState.choice\u001b[1;34m()\u001b[0m\n",
      "\u001b[1;31mValueError\u001b[0m: a must be greater than 0 unless no samples are taken"
     ]
    }
   ],
   "source": [
    "# 10 random samples for keywords\n",
    "import pprint\n",
    "\n",
    "for doc in data_frame[data_frame.Keywords.apply(lambda x: \"recipes\" in x and \"baseball\" in x)].sample(n=3).body:\n",
    "    print(doc)"
   ]
  },
  {
   "cell_type": "code",
   "execution_count": 107,
   "metadata": {
    "tags": []
   },
   "outputs": [],
   "source": [
    "import numpy as np\n",
    "import nltk\n",
    "from nltk import bigrams\n",
    "import itertools\n",
    "import pandas as pd\n",
    " \n",
    " \n",
    "def generate_co_occurrence_matrix(corpus):\n",
    "    vocab = set(corpus)\n",
    "    vocab = list(vocab)\n",
    "    vocab_index = {word: i for i, word in enumerate(vocab)}\n",
    " \n",
    "    # Create bigrams from all words in corpus\n",
    "    bi_grams = list(bigrams(corpus))\n",
    " \n",
    "    # Frequency distribution of bigrams ((word1, word2), num_occurrences)\n",
    "    bigram_freq = nltk.FreqDist(bi_grams).most_common(len(bi_grams))\n",
    " \n",
    "    # Initialise co-occurrence matrix\n",
    "    # co_occurrence_matrix[current][previous]\n",
    "    co_occurrence_matrix = np.zeros((len(vocab), len(vocab)))\n",
    " \n",
    "    # Loop through the bigrams taking the current and previous word,\n",
    "    # and the number of occurrences of the bigram.\n",
    "    for bigram in bigram_freq:\n",
    "        current = bigram[0][1]\n",
    "        previous = bigram[0][0]\n",
    "        count = bigram[1]\n",
    "        pos_current = vocab_index[current]\n",
    "        pos_previous = vocab_index[previous]\n",
    "        co_occurrence_matrix[pos_current][pos_previous] = count\n",
    "    co_occurrence_matrix = np.matrix(co_occurrence_matrix)\n",
    " \n",
    "    # return the matrix and the index\n",
    "    return co_occurrence_matrix, vocab_index\n",
    " \n",
    " \n",
    "text_data = data_frame.Keywords.to_list()\n",
    " \n",
    "# Create one list using many lists\n",
    "data = list(itertools.chain.from_iterable(text_data))\n",
    "matrix, vocab_index = generate_co_occurrence_matrix(data)\n",
    " \n",
    " \n",
    "data_matrix = pd.DataFrame(matrix, index=vocab_index,\n",
    "                             columns=vocab_index)\n",
    "data_matrix.columns =[\"col_\"+ col for col in data_matrix.columns]\n"
   ]
  },
  {
   "cell_type": "code",
   "execution_count": 129,
   "metadata": {},
   "outputs": [],
   "source": [
    "# # for i in range(data_matrix.columns):\n",
    "# _temp=pd.DataFrame(data_matrix.iloc[0])\n",
    "# _temp.reset_index(inplace =True)\n",
    "# _temp.columns =[\"index\",\"value\"]\n",
    "# _temp=_temp[_temp.value >=1]\n",
    "# _temp[\"column\"] = \n",
    "_temp =pd.DataFrame(data_matrix.stack())\n",
    "_temp.reset_index(inplace=True)\n",
    "# _temp.tail()\n",
    "_temp.columns =[\"row\",\"col\",\"reep_count\"]\n",
    "_temp.sort_values(by=\"reep_count\",ascending=False)\n",
    "_temp.to_csv(\"repeated_tags.csv\")"
   ]
  },
  {
   "cell_type": "code",
   "execution_count": 34,
   "metadata": {
    "tags": []
   },
   "outputs": [
    {
     "output_type": "display_data",
     "data": {
      "text/plain": "<Figure size 432x288 with 1 Axes>",
      "image/svg+xml": "<?xml version=\"1.0\" encoding=\"utf-8\" standalone=\"no\"?>\r\n<!DOCTYPE svg PUBLIC \"-//W3C//DTD SVG 1.1//EN\"\r\n  \"http://www.w3.org/Graphics/SVG/1.1/DTD/svg11.dtd\">\r\n<!-- Created with matplotlib (https://matplotlib.org/) -->\r\n<svg height=\"275.988125pt\" version=\"1.1\" viewBox=\"0 0 397.15 275.988125\" width=\"397.15pt\" xmlns=\"http://www.w3.org/2000/svg\" xmlns:xlink=\"http://www.w3.org/1999/xlink\">\r\n <defs>\r\n  <style type=\"text/css\">\r\n*{stroke-linecap:butt;stroke-linejoin:round;}\r\n  </style>\r\n </defs>\r\n <g id=\"figure_1\">\r\n  <g id=\"patch_1\">\r\n   <path d=\"M 0 275.988125 \r\nL 397.15 275.988125 \r\nL 397.15 0 \r\nL 0 0 \r\nz\r\n\" style=\"fill:#ffffff;\"/>\r\n  </g>\r\n  <g id=\"axes_1\">\r\n   <g id=\"patch_2\">\r\n    <path d=\"M 55.15 239.375625 \r\nL 389.95 239.375625 \r\nL 389.95 21.935625 \r\nL 55.15 21.935625 \r\nz\r\n\" style=\"fill:#eaeaf2;\"/>\r\n   </g>\r\n   <g id=\"matplotlib.axis_1\">\r\n    <g id=\"xtick_1\">\r\n     <g id=\"text_1\">\r\n      <!-- 2 -->\r\n      <defs>\r\n       <path d=\"M 50.34375 8.453125 \r\nL 50.34375 0 \r\nL 3.03125 0 \r\nQ 2.9375 3.171875 4.046875 6.109375 \r\nQ 5.859375 10.9375 9.828125 15.625 \r\nQ 13.8125 20.3125 21.34375 26.46875 \r\nQ 33.015625 36.03125 37.109375 41.625 \r\nQ 41.21875 47.21875 41.21875 52.203125 \r\nQ 41.21875 57.421875 37.46875 61 \r\nQ 33.734375 64.59375 27.734375 64.59375 \r\nQ 21.390625 64.59375 17.578125 60.78125 \r\nQ 13.765625 56.984375 13.71875 50.25 \r\nL 4.6875 51.171875 \r\nQ 5.609375 61.28125 11.65625 66.578125 \r\nQ 17.71875 71.875 27.9375 71.875 \r\nQ 38.234375 71.875 44.234375 66.15625 \r\nQ 50.25 60.453125 50.25 52 \r\nQ 50.25 47.703125 48.484375 43.546875 \r\nQ 46.734375 39.40625 42.65625 34.8125 \r\nQ 38.578125 30.21875 29.109375 22.21875 \r\nQ 21.1875 15.578125 18.9375 13.203125 \r\nQ 16.703125 10.84375 15.234375 8.453125 \r\nz\r\n\" id=\"ArialMT-50\"/>\r\n      </defs>\r\n      <g style=\"fill:#262626;\" transform=\"translate(95.257135 253.533438)scale(0.1 -0.1)\">\r\n       <use xlink:href=\"#ArialMT-50\"/>\r\n      </g>\r\n     </g>\r\n    </g>\r\n    <g id=\"xtick_2\">\r\n     <g id=\"text_2\">\r\n      <!-- 4 -->\r\n      <defs>\r\n       <path d=\"M 32.328125 0 \r\nL 32.328125 17.140625 \r\nL 1.265625 17.140625 \r\nL 1.265625 25.203125 \r\nL 33.9375 71.578125 \r\nL 41.109375 71.578125 \r\nL 41.109375 25.203125 \r\nL 50.78125 25.203125 \r\nL 50.78125 17.140625 \r\nL 41.109375 17.140625 \r\nL 41.109375 0 \r\nz\r\nM 32.328125 25.203125 \r\nL 32.328125 57.46875 \r\nL 9.90625 25.203125 \r\nz\r\n\" id=\"ArialMT-52\"/>\r\n      </defs>\r\n      <g style=\"fill:#262626;\" transform=\"translate(150.595978 253.533438)scale(0.1 -0.1)\">\r\n       <use xlink:href=\"#ArialMT-52\"/>\r\n      </g>\r\n     </g>\r\n    </g>\r\n    <g id=\"xtick_3\">\r\n     <g id=\"text_3\">\r\n      <!-- 6 -->\r\n      <defs>\r\n       <path d=\"M 49.75 54.046875 \r\nL 41.015625 53.375 \r\nQ 39.84375 58.546875 37.703125 60.890625 \r\nQ 34.125 64.65625 28.90625 64.65625 \r\nQ 24.703125 64.65625 21.53125 62.3125 \r\nQ 17.390625 59.28125 14.984375 53.46875 \r\nQ 12.59375 47.65625 12.5 36.921875 \r\nQ 15.671875 41.75 20.265625 44.09375 \r\nQ 24.859375 46.4375 29.890625 46.4375 \r\nQ 38.671875 46.4375 44.84375 39.96875 \r\nQ 51.03125 33.5 51.03125 23.25 \r\nQ 51.03125 16.5 48.125 10.71875 \r\nQ 45.21875 4.9375 40.140625 1.859375 \r\nQ 35.0625 -1.21875 28.609375 -1.21875 \r\nQ 17.625 -1.21875 10.6875 6.859375 \r\nQ 3.765625 14.9375 3.765625 33.5 \r\nQ 3.765625 54.25 11.421875 63.671875 \r\nQ 18.109375 71.875 29.4375 71.875 \r\nQ 37.890625 71.875 43.28125 67.140625 \r\nQ 48.6875 62.40625 49.75 54.046875 \r\nz\r\nM 13.875 23.1875 \r\nQ 13.875 18.65625 15.796875 14.5 \r\nQ 17.71875 10.359375 21.1875 8.171875 \r\nQ 24.65625 6 28.46875 6 \r\nQ 34.03125 6 38.03125 10.484375 \r\nQ 42.046875 14.984375 42.046875 22.703125 \r\nQ 42.046875 30.125 38.078125 34.390625 \r\nQ 34.125 38.671875 28.125 38.671875 \r\nQ 22.171875 38.671875 18.015625 34.390625 \r\nQ 13.875 30.125 13.875 23.1875 \r\nz\r\n\" id=\"ArialMT-54\"/>\r\n      </defs>\r\n      <g style=\"fill:#262626;\" transform=\"translate(205.934821 253.533438)scale(0.1 -0.1)\">\r\n       <use xlink:href=\"#ArialMT-54\"/>\r\n      </g>\r\n     </g>\r\n    </g>\r\n    <g id=\"xtick_4\">\r\n     <g id=\"text_4\">\r\n      <!-- 8 -->\r\n      <defs>\r\n       <path d=\"M 17.671875 38.8125 \r\nQ 12.203125 40.828125 9.5625 44.53125 \r\nQ 6.9375 48.25 6.9375 53.421875 \r\nQ 6.9375 61.234375 12.546875 66.546875 \r\nQ 18.171875 71.875 27.484375 71.875 \r\nQ 36.859375 71.875 42.578125 66.421875 \r\nQ 48.296875 60.984375 48.296875 53.171875 \r\nQ 48.296875 48.1875 45.671875 44.5 \r\nQ 43.0625 40.828125 37.75 38.8125 \r\nQ 44.34375 36.671875 47.78125 31.875 \r\nQ 51.21875 27.09375 51.21875 20.453125 \r\nQ 51.21875 11.28125 44.71875 5.03125 \r\nQ 38.234375 -1.21875 27.640625 -1.21875 \r\nQ 17.046875 -1.21875 10.546875 5.046875 \r\nQ 4.046875 11.328125 4.046875 20.703125 \r\nQ 4.046875 27.6875 7.59375 32.390625 \r\nQ 11.140625 37.109375 17.671875 38.8125 \r\nz\r\nM 15.921875 53.71875 \r\nQ 15.921875 48.640625 19.1875 45.40625 \r\nQ 22.46875 42.1875 27.6875 42.1875 \r\nQ 32.765625 42.1875 36.015625 45.375 \r\nQ 39.265625 48.578125 39.265625 53.21875 \r\nQ 39.265625 58.0625 35.90625 61.359375 \r\nQ 32.5625 64.65625 27.59375 64.65625 \r\nQ 22.5625 64.65625 19.234375 61.421875 \r\nQ 15.921875 58.203125 15.921875 53.71875 \r\nz\r\nM 13.09375 20.65625 \r\nQ 13.09375 16.890625 14.875 13.375 \r\nQ 16.65625 9.859375 20.171875 7.921875 \r\nQ 23.6875 6 27.734375 6 \r\nQ 34.03125 6 38.125 10.046875 \r\nQ 42.234375 14.109375 42.234375 20.359375 \r\nQ 42.234375 26.703125 38.015625 30.859375 \r\nQ 33.796875 35.015625 27.4375 35.015625 \r\nQ 21.234375 35.015625 17.15625 30.90625 \r\nQ 13.09375 26.8125 13.09375 20.65625 \r\nz\r\n\" id=\"ArialMT-56\"/>\r\n      </defs>\r\n      <g style=\"fill:#262626;\" transform=\"translate(261.273663 253.533438)scale(0.1 -0.1)\">\r\n       <use xlink:href=\"#ArialMT-56\"/>\r\n      </g>\r\n     </g>\r\n    </g>\r\n    <g id=\"xtick_5\">\r\n     <g id=\"text_5\">\r\n      <!-- 10 -->\r\n      <defs>\r\n       <path d=\"M 37.25 0 \r\nL 28.46875 0 \r\nL 28.46875 56 \r\nQ 25.296875 52.984375 20.140625 49.953125 \r\nQ 14.984375 46.921875 10.890625 45.40625 \r\nL 10.890625 53.90625 \r\nQ 18.265625 57.375 23.78125 62.296875 \r\nQ 29.296875 67.234375 31.59375 71.875 \r\nL 37.25 71.875 \r\nz\r\n\" id=\"ArialMT-49\"/>\r\n       <path d=\"M 4.15625 35.296875 \r\nQ 4.15625 48 6.765625 55.734375 \r\nQ 9.375 63.484375 14.515625 67.671875 \r\nQ 19.671875 71.875 27.484375 71.875 \r\nQ 33.25 71.875 37.59375 69.546875 \r\nQ 41.9375 67.234375 44.765625 62.859375 \r\nQ 47.609375 58.5 49.21875 52.21875 \r\nQ 50.828125 45.953125 50.828125 35.296875 \r\nQ 50.828125 22.703125 48.234375 14.96875 \r\nQ 45.65625 7.234375 40.5 3 \r\nQ 35.359375 -1.21875 27.484375 -1.21875 \r\nQ 17.140625 -1.21875 11.234375 6.203125 \r\nQ 4.15625 15.140625 4.15625 35.296875 \r\nz\r\nM 13.1875 35.296875 \r\nQ 13.1875 17.671875 17.3125 11.828125 \r\nQ 21.4375 6 27.484375 6 \r\nQ 33.546875 6 37.671875 11.859375 \r\nQ 41.796875 17.71875 41.796875 35.296875 \r\nQ 41.796875 52.984375 37.671875 58.78125 \r\nQ 33.546875 64.59375 27.390625 64.59375 \r\nQ 21.34375 64.59375 17.71875 59.46875 \r\nQ 13.1875 52.9375 13.1875 35.296875 \r\nz\r\n\" id=\"ArialMT-48\"/>\r\n      </defs>\r\n      <g style=\"fill:#262626;\" transform=\"translate(313.832038 253.533438)scale(0.1 -0.1)\">\r\n       <use xlink:href=\"#ArialMT-49\"/>\r\n       <use x=\"55.615234\" xlink:href=\"#ArialMT-48\"/>\r\n      </g>\r\n     </g>\r\n    </g>\r\n    <g id=\"xtick_6\">\r\n     <g id=\"text_6\">\r\n      <!-- 12 -->\r\n      <g style=\"fill:#262626;\" transform=\"translate(369.170881 253.533438)scale(0.1 -0.1)\">\r\n       <use xlink:href=\"#ArialMT-49\"/>\r\n       <use x=\"55.615234\" xlink:href=\"#ArialMT-50\"/>\r\n      </g>\r\n     </g>\r\n    </g>\r\n    <g id=\"text_7\">\r\n     <!-- No.of Topics -->\r\n     <defs>\r\n      <path d=\"M 7.625 0 \r\nL 7.625 71.578125 \r\nL 17.328125 71.578125 \r\nL 54.9375 15.375 \r\nL 54.9375 71.578125 \r\nL 64.015625 71.578125 \r\nL 64.015625 0 \r\nL 54.296875 0 \r\nL 16.703125 56.25 \r\nL 16.703125 0 \r\nz\r\n\" id=\"ArialMT-78\"/>\r\n      <path d=\"M 3.328125 25.921875 \r\nQ 3.328125 40.328125 11.328125 47.265625 \r\nQ 18.015625 53.03125 27.640625 53.03125 \r\nQ 38.328125 53.03125 45.109375 46.015625 \r\nQ 51.90625 39.015625 51.90625 26.65625 \r\nQ 51.90625 16.65625 48.90625 10.90625 \r\nQ 45.90625 5.171875 40.15625 2 \r\nQ 34.421875 -1.171875 27.640625 -1.171875 \r\nQ 16.75 -1.171875 10.03125 5.8125 \r\nQ 3.328125 12.796875 3.328125 25.921875 \r\nz\r\nM 12.359375 25.921875 \r\nQ 12.359375 15.96875 16.703125 11.015625 \r\nQ 21.046875 6.0625 27.640625 6.0625 \r\nQ 34.1875 6.0625 38.53125 11.03125 \r\nQ 42.875 16.015625 42.875 26.21875 \r\nQ 42.875 35.84375 38.5 40.796875 \r\nQ 34.125 45.75 27.640625 45.75 \r\nQ 21.046875 45.75 16.703125 40.8125 \r\nQ 12.359375 35.890625 12.359375 25.921875 \r\nz\r\n\" id=\"ArialMT-111\"/>\r\n      <path d=\"M 9.078125 0 \r\nL 9.078125 10.015625 \r\nL 19.09375 10.015625 \r\nL 19.09375 0 \r\nz\r\n\" id=\"ArialMT-46\"/>\r\n      <path d=\"M 8.6875 0 \r\nL 8.6875 45.015625 \r\nL 0.921875 45.015625 \r\nL 0.921875 51.859375 \r\nL 8.6875 51.859375 \r\nL 8.6875 57.375 \r\nQ 8.6875 62.59375 9.625 65.140625 \r\nQ 10.890625 68.5625 14.078125 70.671875 \r\nQ 17.28125 72.796875 23.046875 72.796875 \r\nQ 26.765625 72.796875 31.25 71.921875 \r\nL 29.9375 64.265625 \r\nQ 27.203125 64.75 24.75 64.75 \r\nQ 20.75 64.75 19.09375 63.03125 \r\nQ 17.4375 61.328125 17.4375 56.640625 \r\nL 17.4375 51.859375 \r\nL 27.546875 51.859375 \r\nL 27.546875 45.015625 \r\nL 17.4375 45.015625 \r\nL 17.4375 0 \r\nz\r\n\" id=\"ArialMT-102\"/>\r\n      <path id=\"ArialMT-32\"/>\r\n      <path d=\"M 25.921875 0 \r\nL 25.921875 63.140625 \r\nL 2.34375 63.140625 \r\nL 2.34375 71.578125 \r\nL 59.078125 71.578125 \r\nL 59.078125 63.140625 \r\nL 35.40625 63.140625 \r\nL 35.40625 0 \r\nz\r\n\" id=\"ArialMT-84\"/>\r\n      <path d=\"M 6.59375 -19.875 \r\nL 6.59375 51.859375 \r\nL 14.59375 51.859375 \r\nL 14.59375 45.125 \r\nQ 17.4375 49.078125 21 51.046875 \r\nQ 24.5625 53.03125 29.640625 53.03125 \r\nQ 36.28125 53.03125 41.359375 49.609375 \r\nQ 46.4375 46.1875 49.015625 39.953125 \r\nQ 51.609375 33.734375 51.609375 26.3125 \r\nQ 51.609375 18.359375 48.75 11.984375 \r\nQ 45.90625 5.609375 40.453125 2.21875 \r\nQ 35.015625 -1.171875 29 -1.171875 \r\nQ 24.609375 -1.171875 21.109375 0.6875 \r\nQ 17.625 2.546875 15.375 5.375 \r\nL 15.375 -19.875 \r\nz\r\nM 14.546875 25.640625 \r\nQ 14.546875 15.625 18.59375 10.84375 \r\nQ 22.65625 6.0625 28.421875 6.0625 \r\nQ 34.28125 6.0625 38.453125 11.015625 \r\nQ 42.625 15.96875 42.625 26.375 \r\nQ 42.625 36.28125 38.546875 41.203125 \r\nQ 34.46875 46.140625 28.8125 46.140625 \r\nQ 23.1875 46.140625 18.859375 40.890625 \r\nQ 14.546875 35.640625 14.546875 25.640625 \r\nz\r\n\" id=\"ArialMT-112\"/>\r\n      <path d=\"M 6.640625 61.46875 \r\nL 6.640625 71.578125 \r\nL 15.4375 71.578125 \r\nL 15.4375 61.46875 \r\nz\r\nM 6.640625 0 \r\nL 6.640625 51.859375 \r\nL 15.4375 51.859375 \r\nL 15.4375 0 \r\nz\r\n\" id=\"ArialMT-105\"/>\r\n      <path d=\"M 40.4375 19 \r\nL 49.078125 17.875 \r\nQ 47.65625 8.9375 41.8125 3.875 \r\nQ 35.984375 -1.171875 27.484375 -1.171875 \r\nQ 16.84375 -1.171875 10.375 5.78125 \r\nQ 3.90625 12.75 3.90625 25.734375 \r\nQ 3.90625 34.125 6.6875 40.421875 \r\nQ 9.46875 46.734375 15.15625 49.875 \r\nQ 20.84375 53.03125 27.546875 53.03125 \r\nQ 35.984375 53.03125 41.359375 48.75 \r\nQ 46.734375 44.484375 48.25 36.625 \r\nL 39.703125 35.296875 \r\nQ 38.484375 40.53125 35.375 43.15625 \r\nQ 32.28125 45.796875 27.875 45.796875 \r\nQ 21.234375 45.796875 17.078125 41.03125 \r\nQ 12.9375 36.28125 12.9375 25.984375 \r\nQ 12.9375 15.53125 16.9375 10.796875 \r\nQ 20.953125 6.0625 27.390625 6.0625 \r\nQ 32.5625 6.0625 36.03125 9.234375 \r\nQ 39.5 12.40625 40.4375 19 \r\nz\r\n\" id=\"ArialMT-99\"/>\r\n      <path d=\"M 3.078125 15.484375 \r\nL 11.765625 16.84375 \r\nQ 12.5 11.625 15.84375 8.84375 \r\nQ 19.1875 6.0625 25.203125 6.0625 \r\nQ 31.25 6.0625 34.171875 8.515625 \r\nQ 37.109375 10.984375 37.109375 14.3125 \r\nQ 37.109375 17.28125 34.515625 19 \r\nQ 32.71875 20.171875 25.53125 21.96875 \r\nQ 15.875 24.421875 12.140625 26.203125 \r\nQ 8.40625 27.984375 6.46875 31.125 \r\nQ 4.546875 34.28125 4.546875 38.09375 \r\nQ 4.546875 41.546875 6.125 44.5 \r\nQ 7.71875 47.46875 10.453125 49.421875 \r\nQ 12.5 50.921875 16.03125 51.96875 \r\nQ 19.578125 53.03125 23.640625 53.03125 \r\nQ 29.734375 53.03125 34.34375 51.265625 \r\nQ 38.96875 49.515625 41.15625 46.5 \r\nQ 43.359375 43.5 44.1875 38.484375 \r\nL 35.59375 37.3125 \r\nQ 35.015625 41.3125 32.203125 43.546875 \r\nQ 29.390625 45.796875 24.265625 45.796875 \r\nQ 18.21875 45.796875 15.625 43.796875 \r\nQ 13.03125 41.796875 13.03125 39.109375 \r\nQ 13.03125 37.40625 14.109375 36.03125 \r\nQ 15.1875 34.625 17.484375 33.6875 \r\nQ 18.796875 33.203125 25.25 31.453125 \r\nQ 34.578125 28.953125 38.25 27.359375 \r\nQ 41.9375 25.78125 44.03125 22.75 \r\nQ 46.140625 19.734375 46.140625 15.234375 \r\nQ 46.140625 10.84375 43.578125 6.953125 \r\nQ 41.015625 3.078125 36.171875 0.953125 \r\nQ 31.34375 -1.171875 25.25 -1.171875 \r\nQ 15.140625 -1.171875 9.84375 3.03125 \r\nQ 4.546875 7.234375 3.078125 15.484375 \r\nz\r\n\" id=\"ArialMT-115\"/>\r\n     </defs>\r\n     <g style=\"fill:#262626;\" transform=\"translate(195.128906 266.800625)scale(0.1 -0.1)\">\r\n      <use xlink:href=\"#ArialMT-78\"/>\r\n      <use x=\"72.216797\" xlink:href=\"#ArialMT-111\"/>\r\n      <use x=\"127.832031\" xlink:href=\"#ArialMT-46\"/>\r\n      <use x=\"155.615234\" xlink:href=\"#ArialMT-111\"/>\r\n      <use x=\"211.230469\" xlink:href=\"#ArialMT-102\"/>\r\n      <use x=\"239.013672\" xlink:href=\"#ArialMT-32\"/>\r\n      <use x=\"265.046875\" xlink:href=\"#ArialMT-84\"/>\r\n      <use x=\"315.005859\" xlink:href=\"#ArialMT-111\"/>\r\n      <use x=\"370.621094\" xlink:href=\"#ArialMT-112\"/>\r\n      <use x=\"426.236328\" xlink:href=\"#ArialMT-105\"/>\r\n      <use x=\"448.453125\" xlink:href=\"#ArialMT-99\"/>\r\n      <use x=\"498.453125\" xlink:href=\"#ArialMT-115\"/>\r\n     </g>\r\n    </g>\r\n   </g>\r\n   <g id=\"matplotlib.axis_2\">\r\n    <g id=\"ytick_1\">\r\n     <g id=\"text_8\">\r\n      <!-- 0 -->\r\n      <g style=\"fill:#262626;\" transform=\"translate(42.589063 242.954531)scale(0.1 -0.1)\">\r\n       <use xlink:href=\"#ArialMT-48\"/>\r\n      </g>\r\n     </g>\r\n    </g>\r\n    <g id=\"ytick_2\">\r\n     <g id=\"text_9\">\r\n      <!-- 2000 -->\r\n      <g style=\"fill:#262626;\" transform=\"translate(25.90625 217.596579)scale(0.1 -0.1)\">\r\n       <use xlink:href=\"#ArialMT-50\"/>\r\n       <use x=\"55.615234\" xlink:href=\"#ArialMT-48\"/>\r\n       <use x=\"111.230469\" xlink:href=\"#ArialMT-48\"/>\r\n       <use x=\"166.845703\" xlink:href=\"#ArialMT-48\"/>\r\n      </g>\r\n     </g>\r\n    </g>\r\n    <g id=\"ytick_3\">\r\n     <g id=\"text_10\">\r\n      <!-- 4000 -->\r\n      <g style=\"fill:#262626;\" transform=\"translate(25.90625 192.238627)scale(0.1 -0.1)\">\r\n       <use xlink:href=\"#ArialMT-52\"/>\r\n       <use x=\"55.615234\" xlink:href=\"#ArialMT-48\"/>\r\n       <use x=\"111.230469\" xlink:href=\"#ArialMT-48\"/>\r\n       <use x=\"166.845703\" xlink:href=\"#ArialMT-48\"/>\r\n      </g>\r\n     </g>\r\n    </g>\r\n    <g id=\"ytick_4\">\r\n     <g id=\"text_11\">\r\n      <!-- 6000 -->\r\n      <g style=\"fill:#262626;\" transform=\"translate(25.90625 166.880676)scale(0.1 -0.1)\">\r\n       <use xlink:href=\"#ArialMT-54\"/>\r\n       <use x=\"55.615234\" xlink:href=\"#ArialMT-48\"/>\r\n       <use x=\"111.230469\" xlink:href=\"#ArialMT-48\"/>\r\n       <use x=\"166.845703\" xlink:href=\"#ArialMT-48\"/>\r\n      </g>\r\n     </g>\r\n    </g>\r\n    <g id=\"ytick_5\">\r\n     <g id=\"text_12\">\r\n      <!-- 8000 -->\r\n      <g style=\"fill:#262626;\" transform=\"translate(25.90625 141.522724)scale(0.1 -0.1)\">\r\n       <use xlink:href=\"#ArialMT-56\"/>\r\n       <use x=\"55.615234\" xlink:href=\"#ArialMT-48\"/>\r\n       <use x=\"111.230469\" xlink:href=\"#ArialMT-48\"/>\r\n       <use x=\"166.845703\" xlink:href=\"#ArialMT-48\"/>\r\n      </g>\r\n     </g>\r\n    </g>\r\n    <g id=\"ytick_6\">\r\n     <g id=\"text_13\">\r\n      <!-- 10000 -->\r\n      <g style=\"fill:#262626;\" transform=\"translate(20.345313 116.164772)scale(0.1 -0.1)\">\r\n       <use xlink:href=\"#ArialMT-49\"/>\r\n       <use x=\"55.615234\" xlink:href=\"#ArialMT-48\"/>\r\n       <use x=\"111.230469\" xlink:href=\"#ArialMT-48\"/>\r\n       <use x=\"166.845703\" xlink:href=\"#ArialMT-48\"/>\r\n       <use x=\"222.460938\" xlink:href=\"#ArialMT-48\"/>\r\n      </g>\r\n     </g>\r\n    </g>\r\n    <g id=\"ytick_7\">\r\n     <g id=\"text_14\">\r\n      <!-- 12000 -->\r\n      <g style=\"fill:#262626;\" transform=\"translate(20.345313 90.80682)scale(0.1 -0.1)\">\r\n       <use xlink:href=\"#ArialMT-49\"/>\r\n       <use x=\"55.615234\" xlink:href=\"#ArialMT-50\"/>\r\n       <use x=\"111.230469\" xlink:href=\"#ArialMT-48\"/>\r\n       <use x=\"166.845703\" xlink:href=\"#ArialMT-48\"/>\r\n       <use x=\"222.460938\" xlink:href=\"#ArialMT-48\"/>\r\n      </g>\r\n     </g>\r\n    </g>\r\n    <g id=\"ytick_8\">\r\n     <g id=\"text_15\">\r\n      <!-- 14000 -->\r\n      <g style=\"fill:#262626;\" transform=\"translate(20.345313 65.448868)scale(0.1 -0.1)\">\r\n       <use xlink:href=\"#ArialMT-49\"/>\r\n       <use x=\"55.615234\" xlink:href=\"#ArialMT-52\"/>\r\n       <use x=\"111.230469\" xlink:href=\"#ArialMT-48\"/>\r\n       <use x=\"166.845703\" xlink:href=\"#ArialMT-48\"/>\r\n       <use x=\"222.460938\" xlink:href=\"#ArialMT-48\"/>\r\n      </g>\r\n     </g>\r\n    </g>\r\n    <g id=\"ytick_9\">\r\n     <g id=\"text_16\">\r\n      <!-- 16000 -->\r\n      <g style=\"fill:#262626;\" transform=\"translate(20.345313 40.090916)scale(0.1 -0.1)\">\r\n       <use xlink:href=\"#ArialMT-49\"/>\r\n       <use x=\"55.615234\" xlink:href=\"#ArialMT-54\"/>\r\n       <use x=\"111.230469\" xlink:href=\"#ArialMT-48\"/>\r\n       <use x=\"166.845703\" xlink:href=\"#ArialMT-48\"/>\r\n       <use x=\"222.460938\" xlink:href=\"#ArialMT-48\"/>\r\n      </g>\r\n     </g>\r\n    </g>\r\n    <g id=\"text_17\">\r\n     <!-- Distribution -->\r\n     <defs>\r\n      <path d=\"M 7.71875 0 \r\nL 7.71875 71.578125 \r\nL 32.375 71.578125 \r\nQ 40.71875 71.578125 45.125 70.5625 \r\nQ 51.265625 69.140625 55.609375 65.4375 \r\nQ 61.28125 60.640625 64.078125 53.1875 \r\nQ 66.890625 45.75 66.890625 36.1875 \r\nQ 66.890625 28.03125 64.984375 21.734375 \r\nQ 63.09375 15.4375 60.109375 11.296875 \r\nQ 57.125 7.171875 53.578125 4.796875 \r\nQ 50.046875 2.4375 45.046875 1.21875 \r\nQ 40.046875 0 33.546875 0 \r\nz\r\nM 17.1875 8.453125 \r\nL 32.46875 8.453125 \r\nQ 39.546875 8.453125 43.578125 9.765625 \r\nQ 47.609375 11.078125 50 13.484375 \r\nQ 53.375 16.84375 55.25 22.53125 \r\nQ 57.125 28.21875 57.125 36.328125 \r\nQ 57.125 47.5625 53.4375 53.59375 \r\nQ 49.75 59.625 44.484375 61.671875 \r\nQ 40.671875 63.140625 32.234375 63.140625 \r\nL 17.1875 63.140625 \r\nz\r\n\" id=\"ArialMT-68\"/>\r\n      <path d=\"M 25.78125 7.859375 \r\nL 27.046875 0.09375 \r\nQ 23.34375 -0.6875 20.40625 -0.6875 \r\nQ 15.625 -0.6875 12.984375 0.828125 \r\nQ 10.359375 2.34375 9.28125 4.8125 \r\nQ 8.203125 7.28125 8.203125 15.1875 \r\nL 8.203125 45.015625 \r\nL 1.765625 45.015625 \r\nL 1.765625 51.859375 \r\nL 8.203125 51.859375 \r\nL 8.203125 64.703125 \r\nL 16.9375 69.96875 \r\nL 16.9375 51.859375 \r\nL 25.78125 51.859375 \r\nL 25.78125 45.015625 \r\nL 16.9375 45.015625 \r\nL 16.9375 14.703125 \r\nQ 16.9375 10.9375 17.40625 9.859375 \r\nQ 17.875 8.796875 18.921875 8.15625 \r\nQ 19.96875 7.515625 21.921875 7.515625 \r\nQ 23.390625 7.515625 25.78125 7.859375 \r\nz\r\n\" id=\"ArialMT-116\"/>\r\n      <path d=\"M 6.5 0 \r\nL 6.5 51.859375 \r\nL 14.40625 51.859375 \r\nL 14.40625 44 \r\nQ 17.4375 49.515625 20 51.265625 \r\nQ 22.5625 53.03125 25.640625 53.03125 \r\nQ 30.078125 53.03125 34.671875 50.203125 \r\nL 31.640625 42.046875 \r\nQ 28.421875 43.953125 25.203125 43.953125 \r\nQ 22.3125 43.953125 20.015625 42.21875 \r\nQ 17.71875 40.484375 16.75 37.40625 \r\nQ 15.28125 32.71875 15.28125 27.15625 \r\nL 15.28125 0 \r\nz\r\n\" id=\"ArialMT-114\"/>\r\n      <path d=\"M 14.703125 0 \r\nL 6.546875 0 \r\nL 6.546875 71.578125 \r\nL 15.328125 71.578125 \r\nL 15.328125 46.046875 \r\nQ 20.90625 53.03125 29.546875 53.03125 \r\nQ 34.328125 53.03125 38.59375 51.09375 \r\nQ 42.875 49.171875 45.625 45.671875 \r\nQ 48.390625 42.1875 49.953125 37.25 \r\nQ 51.515625 32.328125 51.515625 26.703125 \r\nQ 51.515625 13.375 44.921875 6.09375 \r\nQ 38.328125 -1.171875 29.109375 -1.171875 \r\nQ 19.921875 -1.171875 14.703125 6.5 \r\nz\r\nM 14.59375 26.3125 \r\nQ 14.59375 17 17.140625 12.84375 \r\nQ 21.296875 6.0625 28.375 6.0625 \r\nQ 34.125 6.0625 38.328125 11.0625 \r\nQ 42.53125 16.0625 42.53125 25.984375 \r\nQ 42.53125 36.140625 38.5 40.96875 \r\nQ 34.46875 45.796875 28.765625 45.796875 \r\nQ 23 45.796875 18.796875 40.796875 \r\nQ 14.59375 35.796875 14.59375 26.3125 \r\nz\r\n\" id=\"ArialMT-98\"/>\r\n      <path d=\"M 40.578125 0 \r\nL 40.578125 7.625 \r\nQ 34.515625 -1.171875 24.125 -1.171875 \r\nQ 19.53125 -1.171875 15.546875 0.578125 \r\nQ 11.578125 2.34375 9.640625 5 \r\nQ 7.71875 7.671875 6.9375 11.53125 \r\nQ 6.390625 14.109375 6.390625 19.734375 \r\nL 6.390625 51.859375 \r\nL 15.1875 51.859375 \r\nL 15.1875 23.09375 \r\nQ 15.1875 16.21875 15.71875 13.8125 \r\nQ 16.546875 10.359375 19.234375 8.375 \r\nQ 21.921875 6.390625 25.875 6.390625 \r\nQ 29.828125 6.390625 33.296875 8.421875 \r\nQ 36.765625 10.453125 38.203125 13.9375 \r\nQ 39.65625 17.4375 39.65625 24.078125 \r\nL 39.65625 51.859375 \r\nL 48.4375 51.859375 \r\nL 48.4375 0 \r\nz\r\n\" id=\"ArialMT-117\"/>\r\n      <path d=\"M 6.59375 0 \r\nL 6.59375 51.859375 \r\nL 14.5 51.859375 \r\nL 14.5 44.484375 \r\nQ 20.21875 53.03125 31 53.03125 \r\nQ 35.6875 53.03125 39.625 51.34375 \r\nQ 43.5625 49.65625 45.515625 46.921875 \r\nQ 47.46875 44.1875 48.25 40.4375 \r\nQ 48.734375 37.984375 48.734375 31.890625 \r\nL 48.734375 0 \r\nL 39.9375 0 \r\nL 39.9375 31.546875 \r\nQ 39.9375 36.921875 38.90625 39.578125 \r\nQ 37.890625 42.234375 35.28125 43.8125 \r\nQ 32.671875 45.40625 29.15625 45.40625 \r\nQ 23.53125 45.40625 19.453125 41.84375 \r\nQ 15.375 38.28125 15.375 28.328125 \r\nL 15.375 0 \r\nz\r\n\" id=\"ArialMT-110\"/>\r\n     </defs>\r\n     <g style=\"fill:#262626;\" transform=\"translate(14.357813 155.664219)rotate(-90)scale(0.1 -0.1)\">\r\n      <use xlink:href=\"#ArialMT-68\"/>\r\n      <use x=\"72.216797\" xlink:href=\"#ArialMT-105\"/>\r\n      <use x=\"94.433594\" xlink:href=\"#ArialMT-115\"/>\r\n      <use x=\"144.433594\" xlink:href=\"#ArialMT-116\"/>\r\n      <use x=\"172.216797\" xlink:href=\"#ArialMT-114\"/>\r\n      <use x=\"205.517578\" xlink:href=\"#ArialMT-105\"/>\r\n      <use x=\"227.734375\" xlink:href=\"#ArialMT-98\"/>\r\n      <use x=\"283.349609\" xlink:href=\"#ArialMT-117\"/>\r\n      <use x=\"338.964844\" xlink:href=\"#ArialMT-116\"/>\r\n      <use x=\"366.748047\" xlink:href=\"#ArialMT-105\"/>\r\n      <use x=\"388.964844\" xlink:href=\"#ArialMT-111\"/>\r\n      <use x=\"444.580078\" xlink:href=\"#ArialMT-110\"/>\r\n     </g>\r\n    </g>\r\n   </g>\r\n   <g id=\"patch_3\">\r\n    <path clip-path=\"url(#p05dc1bd74c)\" d=\"M 70.368182 239.375625 \r\nL 76.455455 239.375625 \r\nL 76.455455 32.289911 \r\nL 70.368182 32.289911 \r\nz\r\n\" style=\"fill:#0000ff;opacity:0.4;stroke:#ffffff;stroke-linejoin:miter;\"/>\r\n   </g>\r\n   <g id=\"patch_4\">\r\n    <path clip-path=\"url(#p05dc1bd74c)\" d=\"M 76.455455 239.375625 \r\nL 82.542727 239.375625 \r\nL 82.542727 239.375625 \r\nL 76.455455 239.375625 \r\nz\r\n\" style=\"fill:#0000ff;opacity:0.4;stroke:#ffffff;stroke-linejoin:miter;\"/>\r\n   </g>\r\n   <g id=\"patch_5\">\r\n    <path clip-path=\"url(#p05dc1bd74c)\" d=\"M 82.542727 239.375625 \r\nL 88.63 239.375625 \r\nL 88.63 239.375625 \r\nL 82.542727 239.375625 \r\nz\r\n\" style=\"fill:#0000ff;opacity:0.4;stroke:#ffffff;stroke-linejoin:miter;\"/>\r\n   </g>\r\n   <g id=\"patch_6\">\r\n    <path clip-path=\"url(#p05dc1bd74c)\" d=\"M 88.63 239.375625 \r\nL 94.717273 239.375625 \r\nL 94.717273 239.375625 \r\nL 88.63 239.375625 \r\nz\r\n\" style=\"fill:#0000ff;opacity:0.4;stroke:#ffffff;stroke-linejoin:miter;\"/>\r\n   </g>\r\n   <g id=\"patch_7\">\r\n    <path clip-path=\"url(#p05dc1bd74c)\" d=\"M 94.717273 239.375625 \r\nL 100.804545 239.375625 \r\nL 100.804545 71.810279 \r\nL 94.717273 71.810279 \r\nz\r\n\" style=\"fill:#0000ff;opacity:0.4;stroke:#ffffff;stroke-linejoin:miter;\"/>\r\n   </g>\r\n   <g id=\"patch_8\">\r\n    <path clip-path=\"url(#p05dc1bd74c)\" d=\"M 100.804545 239.375625 \r\nL 106.891818 239.375625 \r\nL 106.891818 239.375625 \r\nL 100.804545 239.375625 \r\nz\r\n\" style=\"fill:#0000ff;opacity:0.4;stroke:#ffffff;stroke-linejoin:miter;\"/>\r\n   </g>\r\n   <g id=\"patch_9\">\r\n    <path clip-path=\"url(#p05dc1bd74c)\" d=\"M 106.891818 239.375625 \r\nL 112.979091 239.375625 \r\nL 112.979091 239.375625 \r\nL 106.891818 239.375625 \r\nz\r\n\" style=\"fill:#0000ff;opacity:0.4;stroke:#ffffff;stroke-linejoin:miter;\"/>\r\n   </g>\r\n   <g id=\"patch_10\">\r\n    <path clip-path=\"url(#p05dc1bd74c)\" d=\"M 112.979091 239.375625 \r\nL 119.066364 239.375625 \r\nL 119.066364 239.375625 \r\nL 112.979091 239.375625 \r\nz\r\n\" style=\"fill:#0000ff;opacity:0.4;stroke:#ffffff;stroke-linejoin:miter;\"/>\r\n   </g>\r\n   <g id=\"patch_11\">\r\n    <path clip-path=\"url(#p05dc1bd74c)\" d=\"M 119.066364 239.375625 \r\nL 125.153636 239.375625 \r\nL 125.153636 239.375625 \r\nL 119.066364 239.375625 \r\nz\r\n\" style=\"fill:#0000ff;opacity:0.4;stroke:#ffffff;stroke-linejoin:miter;\"/>\r\n   </g>\r\n   <g id=\"patch_12\">\r\n    <path clip-path=\"url(#p05dc1bd74c)\" d=\"M 125.153636 239.375625 \r\nL 131.240909 239.375625 \r\nL 131.240909 113.587505 \r\nL 125.153636 113.587505 \r\nz\r\n\" style=\"fill:#0000ff;opacity:0.4;stroke:#ffffff;stroke-linejoin:miter;\"/>\r\n   </g>\r\n   <g id=\"patch_13\">\r\n    <path clip-path=\"url(#p05dc1bd74c)\" d=\"M 131.240909 239.375625 \r\nL 137.328182 239.375625 \r\nL 137.328182 239.375625 \r\nL 131.240909 239.375625 \r\nz\r\n\" style=\"fill:#0000ff;opacity:0.4;stroke:#ffffff;stroke-linejoin:miter;\"/>\r\n   </g>\r\n   <g id=\"patch_14\">\r\n    <path clip-path=\"url(#p05dc1bd74c)\" d=\"M 137.328182 239.375625 \r\nL 143.415455 239.375625 \r\nL 143.415455 239.375625 \r\nL 137.328182 239.375625 \r\nz\r\n\" style=\"fill:#0000ff;opacity:0.4;stroke:#ffffff;stroke-linejoin:miter;\"/>\r\n   </g>\r\n   <g id=\"patch_15\">\r\n    <path clip-path=\"url(#p05dc1bd74c)\" d=\"M 143.415455 239.375625 \r\nL 149.502727 239.375625 \r\nL 149.502727 239.375625 \r\nL 143.415455 239.375625 \r\nz\r\n\" style=\"fill:#0000ff;opacity:0.4;stroke:#ffffff;stroke-linejoin:miter;\"/>\r\n   </g>\r\n   <g id=\"patch_16\">\r\n    <path clip-path=\"url(#p05dc1bd74c)\" d=\"M 149.502727 239.375625 \r\nL 155.59 239.375625 \r\nL 155.59 171.910794 \r\nL 149.502727 171.910794 \r\nz\r\n\" style=\"fill:#0000ff;opacity:0.4;stroke:#ffffff;stroke-linejoin:miter;\"/>\r\n   </g>\r\n   <g id=\"patch_17\">\r\n    <path clip-path=\"url(#p05dc1bd74c)\" d=\"M 155.59 239.375625 \r\nL 161.677273 239.375625 \r\nL 161.677273 239.375625 \r\nL 155.59 239.375625 \r\nz\r\n\" style=\"fill:#0000ff;opacity:0.4;stroke:#ffffff;stroke-linejoin:miter;\"/>\r\n   </g>\r\n   <g id=\"patch_18\">\r\n    <path clip-path=\"url(#p05dc1bd74c)\" d=\"M 161.677273 239.375625 \r\nL 167.764545 239.375625 \r\nL 167.764545 239.375625 \r\nL 161.677273 239.375625 \r\nz\r\n\" style=\"fill:#0000ff;opacity:0.4;stroke:#ffffff;stroke-linejoin:miter;\"/>\r\n   </g>\r\n   <g id=\"patch_19\">\r\n    <path clip-path=\"url(#p05dc1bd74c)\" d=\"M 167.764545 239.375625 \r\nL 173.851818 239.375625 \r\nL 173.851818 239.375625 \r\nL 167.764545 239.375625 \r\nz\r\n\" style=\"fill:#0000ff;opacity:0.4;stroke:#ffffff;stroke-linejoin:miter;\"/>\r\n   </g>\r\n   <g id=\"patch_20\">\r\n    <path clip-path=\"url(#p05dc1bd74c)\" d=\"M 173.851818 239.375625 \r\nL 179.939091 239.375625 \r\nL 179.939091 239.375625 \r\nL 173.851818 239.375625 \r\nz\r\n\" style=\"fill:#0000ff;opacity:0.4;stroke:#ffffff;stroke-linejoin:miter;\"/>\r\n   </g>\r\n   <g id=\"patch_21\">\r\n    <path clip-path=\"url(#p05dc1bd74c)\" d=\"M 179.939091 239.375625 \r\nL 186.026364 239.375625 \r\nL 186.026364 206.765299 \r\nL 179.939091 206.765299 \r\nz\r\n\" style=\"fill:#0000ff;opacity:0.4;stroke:#ffffff;stroke-linejoin:miter;\"/>\r\n   </g>\r\n   <g id=\"patch_22\">\r\n    <path clip-path=\"url(#p05dc1bd74c)\" d=\"M 186.026364 239.375625 \r\nL 192.113636 239.375625 \r\nL 192.113636 239.375625 \r\nL 186.026364 239.375625 \r\nz\r\n\" style=\"fill:#0000ff;opacity:0.4;stroke:#ffffff;stroke-linejoin:miter;\"/>\r\n   </g>\r\n   <g id=\"patch_23\">\r\n    <path clip-path=\"url(#p05dc1bd74c)\" d=\"M 192.113636 239.375625 \r\nL 198.200909 239.375625 \r\nL 198.200909 239.375625 \r\nL 192.113636 239.375625 \r\nz\r\n\" style=\"fill:#0000ff;opacity:0.4;stroke:#ffffff;stroke-linejoin:miter;\"/>\r\n   </g>\r\n   <g id=\"patch_24\">\r\n    <path clip-path=\"url(#p05dc1bd74c)\" d=\"M 198.200909 239.375625 \r\nL 204.288182 239.375625 \r\nL 204.288182 239.375625 \r\nL 198.200909 239.375625 \r\nz\r\n\" style=\"fill:#0000ff;opacity:0.4;stroke:#ffffff;stroke-linejoin:miter;\"/>\r\n   </g>\r\n   <g id=\"patch_25\">\r\n    <path clip-path=\"url(#p05dc1bd74c)\" d=\"M 204.288182 239.375625 \r\nL 210.375455 239.375625 \r\nL 210.375455 226.544501 \r\nL 204.288182 226.544501 \r\nz\r\n\" style=\"fill:#0000ff;opacity:0.4;stroke:#ffffff;stroke-linejoin:miter;\"/>\r\n   </g>\r\n   <g id=\"patch_26\">\r\n    <path clip-path=\"url(#p05dc1bd74c)\" d=\"M 210.375455 239.375625 \r\nL 216.462727 239.375625 \r\nL 216.462727 239.375625 \r\nL 210.375455 239.375625 \r\nz\r\n\" style=\"fill:#0000ff;opacity:0.4;stroke:#ffffff;stroke-linejoin:miter;\"/>\r\n   </g>\r\n   <g id=\"patch_27\">\r\n    <path clip-path=\"url(#p05dc1bd74c)\" d=\"M 216.462727 239.375625 \r\nL 222.55 239.375625 \r\nL 222.55 239.375625 \r\nL 216.462727 239.375625 \r\nz\r\n\" style=\"fill:#0000ff;opacity:0.4;stroke:#ffffff;stroke-linejoin:miter;\"/>\r\n   </g>\r\n   <g id=\"patch_28\">\r\n    <path clip-path=\"url(#p05dc1bd74c)\" d=\"M 222.55 239.375625 \r\nL 228.637273 239.375625 \r\nL 228.637273 239.375625 \r\nL 222.55 239.375625 \r\nz\r\n\" style=\"fill:#0000ff;opacity:0.4;stroke:#ffffff;stroke-linejoin:miter;\"/>\r\n   </g>\r\n   <g id=\"patch_29\">\r\n    <path clip-path=\"url(#p05dc1bd74c)\" d=\"M 228.637273 239.375625 \r\nL 234.724545 239.375625 \r\nL 234.724545 239.375625 \r\nL 228.637273 239.375625 \r\nz\r\n\" style=\"fill:#0000ff;opacity:0.4;stroke:#ffffff;stroke-linejoin:miter;\"/>\r\n   </g>\r\n   <g id=\"patch_30\">\r\n    <path clip-path=\"url(#p05dc1bd74c)\" d=\"M 234.724545 239.375625 \r\nL 240.811818 239.375625 \r\nL 240.811818 234.646367 \r\nL 234.724545 234.646367 \r\nz\r\n\" style=\"fill:#0000ff;opacity:0.4;stroke:#ffffff;stroke-linejoin:miter;\"/>\r\n   </g>\r\n   <g id=\"patch_31\">\r\n    <path clip-path=\"url(#p05dc1bd74c)\" d=\"M 240.811818 239.375625 \r\nL 246.899091 239.375625 \r\nL 246.899091 239.375625 \r\nL 240.811818 239.375625 \r\nz\r\n\" style=\"fill:#0000ff;opacity:0.4;stroke:#ffffff;stroke-linejoin:miter;\"/>\r\n   </g>\r\n   <g id=\"patch_32\">\r\n    <path clip-path=\"url(#p05dc1bd74c)\" d=\"M 246.899091 239.375625 \r\nL 252.986364 239.375625 \r\nL 252.986364 239.375625 \r\nL 246.899091 239.375625 \r\nz\r\n\" style=\"fill:#0000ff;opacity:0.4;stroke:#ffffff;stroke-linejoin:miter;\"/>\r\n   </g>\r\n   <g id=\"patch_33\">\r\n    <path clip-path=\"url(#p05dc1bd74c)\" d=\"M 252.986364 239.375625 \r\nL 259.073636 239.375625 \r\nL 259.073636 239.375625 \r\nL 252.986364 239.375625 \r\nz\r\n\" style=\"fill:#0000ff;opacity:0.4;stroke:#ffffff;stroke-linejoin:miter;\"/>\r\n   </g>\r\n   <g id=\"patch_34\">\r\n    <path clip-path=\"url(#p05dc1bd74c)\" d=\"M 259.073636 239.375625 \r\nL 265.160909 239.375625 \r\nL 265.160909 237.549852 \r\nL 259.073636 237.549852 \r\nz\r\n\" style=\"fill:#0000ff;opacity:0.4;stroke:#ffffff;stroke-linejoin:miter;\"/>\r\n   </g>\r\n   <g id=\"patch_35\">\r\n    <path clip-path=\"url(#p05dc1bd74c)\" d=\"M 265.160909 239.375625 \r\nL 271.248182 239.375625 \r\nL 271.248182 239.375625 \r\nL 265.160909 239.375625 \r\nz\r\n\" style=\"fill:#0000ff;opacity:0.4;stroke:#ffffff;stroke-linejoin:miter;\"/>\r\n   </g>\r\n   <g id=\"patch_36\">\r\n    <path clip-path=\"url(#p05dc1bd74c)\" d=\"M 271.248182 239.375625 \r\nL 277.335455 239.375625 \r\nL 277.335455 239.375625 \r\nL 271.248182 239.375625 \r\nz\r\n\" style=\"fill:#0000ff;opacity:0.4;stroke:#ffffff;stroke-linejoin:miter;\"/>\r\n   </g>\r\n   <g id=\"patch_37\">\r\n    <path clip-path=\"url(#p05dc1bd74c)\" d=\"M 277.335455 239.375625 \r\nL 283.422727 239.375625 \r\nL 283.422727 239.375625 \r\nL 277.335455 239.375625 \r\nz\r\n\" style=\"fill:#0000ff;opacity:0.4;stroke:#ffffff;stroke-linejoin:miter;\"/>\r\n   </g>\r\n   <g id=\"patch_38\">\r\n    <path clip-path=\"url(#p05dc1bd74c)\" d=\"M 283.422727 239.375625 \r\nL 289.51 239.375625 \r\nL 289.51 239.375625 \r\nL 283.422727 239.375625 \r\nz\r\n\" style=\"fill:#0000ff;opacity:0.4;stroke:#ffffff;stroke-linejoin:miter;\"/>\r\n   </g>\r\n   <g id=\"patch_39\">\r\n    <path clip-path=\"url(#p05dc1bd74c)\" d=\"M 289.51 239.375625 \r\nL 295.597273 239.375625 \r\nL 295.597273 238.830429 \r\nL 289.51 238.830429 \r\nz\r\n\" style=\"fill:#0000ff;opacity:0.4;stroke:#ffffff;stroke-linejoin:miter;\"/>\r\n   </g>\r\n   <g id=\"patch_40\">\r\n    <path clip-path=\"url(#p05dc1bd74c)\" d=\"M 295.597273 239.375625 \r\nL 301.684545 239.375625 \r\nL 301.684545 239.375625 \r\nL 295.597273 239.375625 \r\nz\r\n\" style=\"fill:#0000ff;opacity:0.4;stroke:#ffffff;stroke-linejoin:miter;\"/>\r\n   </g>\r\n   <g id=\"patch_41\">\r\n    <path clip-path=\"url(#p05dc1bd74c)\" d=\"M 301.684545 239.375625 \r\nL 307.771818 239.375625 \r\nL 307.771818 239.375625 \r\nL 301.684545 239.375625 \r\nz\r\n\" style=\"fill:#0000ff;opacity:0.4;stroke:#ffffff;stroke-linejoin:miter;\"/>\r\n   </g>\r\n   <g id=\"patch_42\">\r\n    <path clip-path=\"url(#p05dc1bd74c)\" d=\"M 307.771818 239.375625 \r\nL 313.859091 239.375625 \r\nL 313.859091 239.375625 \r\nL 307.771818 239.375625 \r\nz\r\n\" style=\"fill:#0000ff;opacity:0.4;stroke:#ffffff;stroke-linejoin:miter;\"/>\r\n   </g>\r\n   <g id=\"patch_43\">\r\n    <path clip-path=\"url(#p05dc1bd74c)\" d=\"M 313.859091 239.375625 \r\nL 319.946364 239.375625 \r\nL 319.946364 239.096688 \r\nL 313.859091 239.096688 \r\nz\r\n\" style=\"fill:#0000ff;opacity:0.4;stroke:#ffffff;stroke-linejoin:miter;\"/>\r\n   </g>\r\n   <g id=\"patch_44\">\r\n    <path clip-path=\"url(#p05dc1bd74c)\" d=\"M 319.946364 239.375625 \r\nL 326.033636 239.375625 \r\nL 326.033636 239.375625 \r\nL 319.946364 239.375625 \r\nz\r\n\" style=\"fill:#0000ff;opacity:0.4;stroke:#ffffff;stroke-linejoin:miter;\"/>\r\n   </g>\r\n   <g id=\"patch_45\">\r\n    <path clip-path=\"url(#p05dc1bd74c)\" d=\"M 326.033636 239.375625 \r\nL 332.120909 239.375625 \r\nL 332.120909 239.375625 \r\nL 326.033636 239.375625 \r\nz\r\n\" style=\"fill:#0000ff;opacity:0.4;stroke:#ffffff;stroke-linejoin:miter;\"/>\r\n   </g>\r\n   <g id=\"patch_46\">\r\n    <path clip-path=\"url(#p05dc1bd74c)\" d=\"M 332.120909 239.375625 \r\nL 338.208182 239.375625 \r\nL 338.208182 239.375625 \r\nL 332.120909 239.375625 \r\nz\r\n\" style=\"fill:#0000ff;opacity:0.4;stroke:#ffffff;stroke-linejoin:miter;\"/>\r\n   </g>\r\n   <g id=\"patch_47\">\r\n    <path clip-path=\"url(#p05dc1bd74c)\" d=\"M 338.208182 239.375625 \r\nL 344.295455 239.375625 \r\nL 344.295455 239.375625 \r\nL 338.208182 239.375625 \r\nz\r\n\" style=\"fill:#0000ff;opacity:0.4;stroke:#ffffff;stroke-linejoin:miter;\"/>\r\n   </g>\r\n   <g id=\"patch_48\">\r\n    <path clip-path=\"url(#p05dc1bd74c)\" d=\"M 344.295455 239.375625 \r\nL 350.382727 239.375625 \r\nL 350.382727 239.286872 \r\nL 344.295455 239.286872 \r\nz\r\n\" style=\"fill:#0000ff;opacity:0.4;stroke:#ffffff;stroke-linejoin:miter;\"/>\r\n   </g>\r\n   <g id=\"patch_49\">\r\n    <path clip-path=\"url(#p05dc1bd74c)\" d=\"M 350.382727 239.375625 \r\nL 356.47 239.375625 \r\nL 356.47 239.375625 \r\nL 350.382727 239.375625 \r\nz\r\n\" style=\"fill:#0000ff;opacity:0.4;stroke:#ffffff;stroke-linejoin:miter;\"/>\r\n   </g>\r\n   <g id=\"patch_50\">\r\n    <path clip-path=\"url(#p05dc1bd74c)\" d=\"M 356.47 239.375625 \r\nL 362.557273 239.375625 \r\nL 362.557273 239.375625 \r\nL 356.47 239.375625 \r\nz\r\n\" style=\"fill:#0000ff;opacity:0.4;stroke:#ffffff;stroke-linejoin:miter;\"/>\r\n   </g>\r\n   <g id=\"patch_51\">\r\n    <path clip-path=\"url(#p05dc1bd74c)\" d=\"M 362.557273 239.375625 \r\nL 368.644545 239.375625 \r\nL 368.644545 239.375625 \r\nL 362.557273 239.375625 \r\nz\r\n\" style=\"fill:#0000ff;opacity:0.4;stroke:#ffffff;stroke-linejoin:miter;\"/>\r\n   </g>\r\n   <g id=\"patch_52\">\r\n    <path clip-path=\"url(#p05dc1bd74c)\" d=\"M 368.644545 239.375625 \r\nL 374.731818 239.375625 \r\nL 374.731818 239.324909 \r\nL 368.644545 239.324909 \r\nz\r\n\" style=\"fill:#0000ff;opacity:0.4;stroke:#ffffff;stroke-linejoin:miter;\"/>\r\n   </g>\r\n   <g id=\"patch_53\">\r\n    <path d=\"M 55.15 239.375625 \r\nL 55.15 21.935625 \r\n\" style=\"fill:none;stroke:#ffffff;stroke-linecap:square;stroke-linejoin:miter;stroke-width:0.8;\"/>\r\n   </g>\r\n   <g id=\"patch_54\">\r\n    <path d=\"M 389.95 239.375625 \r\nL 389.95 21.935625 \r\n\" style=\"fill:none;stroke:#ffffff;stroke-linecap:square;stroke-linejoin:miter;stroke-width:0.8;\"/>\r\n   </g>\r\n   <g id=\"patch_55\">\r\n    <path d=\"M 55.15 239.375625 \r\nL 389.95 239.375625 \r\n\" style=\"fill:none;stroke:#ffffff;stroke-linecap:square;stroke-linejoin:miter;stroke-width:0.8;\"/>\r\n   </g>\r\n   <g id=\"patch_56\">\r\n    <path d=\"M 55.15 21.935625 \r\nL 389.95 21.935625 \r\n\" style=\"fill:none;stroke:#ffffff;stroke-linecap:square;stroke-linejoin:miter;stroke-width:0.8;\"/>\r\n   </g>\r\n   <g id=\"text_18\">\r\n    <!-- Number of Multi Label per document -->\r\n    <defs>\r\n     <path d=\"M 6.59375 0 \r\nL 6.59375 51.859375 \r\nL 14.453125 51.859375 \r\nL 14.453125 44.578125 \r\nQ 16.890625 48.390625 20.9375 50.703125 \r\nQ 25 53.03125 30.171875 53.03125 \r\nQ 35.9375 53.03125 39.625 50.640625 \r\nQ 43.3125 48.25 44.828125 43.953125 \r\nQ 50.984375 53.03125 60.84375 53.03125 \r\nQ 68.5625 53.03125 72.703125 48.75 \r\nQ 76.859375 44.484375 76.859375 35.59375 \r\nL 76.859375 0 \r\nL 68.109375 0 \r\nL 68.109375 32.671875 \r\nQ 68.109375 37.9375 67.25 40.25 \r\nQ 66.40625 42.578125 64.15625 43.984375 \r\nQ 61.921875 45.40625 58.890625 45.40625 \r\nQ 53.421875 45.40625 49.796875 41.765625 \r\nQ 46.1875 38.140625 46.1875 30.125 \r\nL 46.1875 0 \r\nL 37.40625 0 \r\nL 37.40625 33.6875 \r\nQ 37.40625 39.546875 35.25 42.46875 \r\nQ 33.109375 45.40625 28.21875 45.40625 \r\nQ 24.515625 45.40625 21.359375 43.453125 \r\nQ 18.21875 41.5 16.796875 37.734375 \r\nQ 15.375 33.984375 15.375 26.90625 \r\nL 15.375 0 \r\nz\r\n\" id=\"ArialMT-109\"/>\r\n     <path d=\"M 42.09375 16.703125 \r\nL 51.171875 15.578125 \r\nQ 49.03125 7.625 43.21875 3.21875 \r\nQ 37.40625 -1.171875 28.375 -1.171875 \r\nQ 17 -1.171875 10.328125 5.828125 \r\nQ 3.65625 12.84375 3.65625 25.484375 \r\nQ 3.65625 38.578125 10.390625 45.796875 \r\nQ 17.140625 53.03125 27.875 53.03125 \r\nQ 38.28125 53.03125 44.875 45.953125 \r\nQ 51.46875 38.875 51.46875 26.03125 \r\nQ 51.46875 25.25 51.421875 23.6875 \r\nL 12.75 23.6875 \r\nQ 13.234375 15.140625 17.578125 10.59375 \r\nQ 21.921875 6.0625 28.421875 6.0625 \r\nQ 33.25 6.0625 36.671875 8.59375 \r\nQ 40.09375 11.140625 42.09375 16.703125 \r\nz\r\nM 13.234375 30.90625 \r\nL 42.1875 30.90625 \r\nQ 41.609375 37.453125 38.875 40.71875 \r\nQ 34.671875 45.796875 27.984375 45.796875 \r\nQ 21.921875 45.796875 17.796875 41.75 \r\nQ 13.671875 37.703125 13.234375 30.90625 \r\nz\r\n\" id=\"ArialMT-101\"/>\r\n     <path d=\"M 7.421875 0 \r\nL 7.421875 71.578125 \r\nL 21.6875 71.578125 \r\nL 38.625 20.90625 \r\nQ 40.96875 13.8125 42.046875 10.296875 \r\nQ 43.265625 14.203125 45.84375 21.78125 \r\nL 62.984375 71.578125 \r\nL 75.734375 71.578125 \r\nL 75.734375 0 \r\nL 66.609375 0 \r\nL 66.609375 59.90625 \r\nL 45.796875 0 \r\nL 37.25 0 \r\nL 16.546875 60.9375 \r\nL 16.546875 0 \r\nz\r\n\" id=\"ArialMT-77\"/>\r\n     <path d=\"M 6.390625 0 \r\nL 6.390625 71.578125 \r\nL 15.1875 71.578125 \r\nL 15.1875 0 \r\nz\r\n\" id=\"ArialMT-108\"/>\r\n     <path d=\"M 7.328125 0 \r\nL 7.328125 71.578125 \r\nL 16.796875 71.578125 \r\nL 16.796875 8.453125 \r\nL 52.046875 8.453125 \r\nL 52.046875 0 \r\nz\r\n\" id=\"ArialMT-76\"/>\r\n     <path d=\"M 40.4375 6.390625 \r\nQ 35.546875 2.25 31.03125 0.53125 \r\nQ 26.515625 -1.171875 21.34375 -1.171875 \r\nQ 12.796875 -1.171875 8.203125 3 \r\nQ 3.609375 7.171875 3.609375 13.671875 \r\nQ 3.609375 17.484375 5.34375 20.625 \r\nQ 7.078125 23.78125 9.890625 25.6875 \r\nQ 12.703125 27.59375 16.21875 28.5625 \r\nQ 18.796875 29.25 24.03125 29.890625 \r\nQ 34.671875 31.15625 39.703125 32.90625 \r\nQ 39.75 34.71875 39.75 35.203125 \r\nQ 39.75 40.578125 37.25 42.78125 \r\nQ 33.890625 45.75 27.25 45.75 \r\nQ 21.046875 45.75 18.09375 43.578125 \r\nQ 15.140625 41.40625 13.71875 35.890625 \r\nL 5.125 37.0625 \r\nQ 6.296875 42.578125 8.984375 45.96875 \r\nQ 11.671875 49.359375 16.75 51.1875 \r\nQ 21.828125 53.03125 28.515625 53.03125 \r\nQ 35.15625 53.03125 39.296875 51.46875 \r\nQ 43.453125 49.90625 45.40625 47.53125 \r\nQ 47.359375 45.171875 48.140625 41.546875 \r\nQ 48.578125 39.3125 48.578125 33.453125 \r\nL 48.578125 21.734375 \r\nQ 48.578125 9.46875 49.140625 6.21875 \r\nQ 49.703125 2.984375 51.375 0 \r\nL 42.1875 0 \r\nQ 40.828125 2.734375 40.4375 6.390625 \r\nz\r\nM 39.703125 26.03125 \r\nQ 34.90625 24.078125 25.34375 22.703125 \r\nQ 19.921875 21.921875 17.671875 20.9375 \r\nQ 15.4375 19.96875 14.203125 18.09375 \r\nQ 12.984375 16.21875 12.984375 13.921875 \r\nQ 12.984375 10.40625 15.640625 8.0625 \r\nQ 18.3125 5.71875 23.4375 5.71875 \r\nQ 28.515625 5.71875 32.46875 7.9375 \r\nQ 36.421875 10.15625 38.28125 14.015625 \r\nQ 39.703125 17 39.703125 22.796875 \r\nz\r\n\" id=\"ArialMT-97\"/>\r\n     <path d=\"M 40.234375 0 \r\nL 40.234375 6.546875 \r\nQ 35.296875 -1.171875 25.734375 -1.171875 \r\nQ 19.53125 -1.171875 14.328125 2.25 \r\nQ 9.125 5.671875 6.265625 11.796875 \r\nQ 3.421875 17.921875 3.421875 25.875 \r\nQ 3.421875 33.640625 6 39.96875 \r\nQ 8.59375 46.296875 13.765625 49.65625 \r\nQ 18.953125 53.03125 25.34375 53.03125 \r\nQ 30.03125 53.03125 33.6875 51.046875 \r\nQ 37.359375 49.078125 39.65625 45.90625 \r\nL 39.65625 71.578125 \r\nL 48.390625 71.578125 \r\nL 48.390625 0 \r\nz\r\nM 12.453125 25.875 \r\nQ 12.453125 15.921875 16.640625 10.984375 \r\nQ 20.84375 6.0625 26.5625 6.0625 \r\nQ 32.328125 6.0625 36.34375 10.765625 \r\nQ 40.375 15.484375 40.375 25.140625 \r\nQ 40.375 35.796875 36.265625 40.765625 \r\nQ 32.171875 45.75 26.171875 45.75 \r\nQ 20.3125 45.75 16.375 40.96875 \r\nQ 12.453125 36.1875 12.453125 25.875 \r\nz\r\n\" id=\"ArialMT-100\"/>\r\n    </defs>\r\n    <g style=\"fill:#262626;\" transform=\"translate(125.508437 15.935625)scale(0.12 -0.12)\">\r\n     <use xlink:href=\"#ArialMT-78\"/>\r\n     <use x=\"72.216797\" xlink:href=\"#ArialMT-117\"/>\r\n     <use x=\"127.832031\" xlink:href=\"#ArialMT-109\"/>\r\n     <use x=\"211.132812\" xlink:href=\"#ArialMT-98\"/>\r\n     <use x=\"266.748047\" xlink:href=\"#ArialMT-101\"/>\r\n     <use x=\"322.363281\" xlink:href=\"#ArialMT-114\"/>\r\n     <use x=\"355.664062\" xlink:href=\"#ArialMT-32\"/>\r\n     <use x=\"383.447266\" xlink:href=\"#ArialMT-111\"/>\r\n     <use x=\"439.0625\" xlink:href=\"#ArialMT-102\"/>\r\n     <use x=\"466.845703\" xlink:href=\"#ArialMT-32\"/>\r\n     <use x=\"494.628906\" xlink:href=\"#ArialMT-77\"/>\r\n     <use x=\"577.929688\" xlink:href=\"#ArialMT-117\"/>\r\n     <use x=\"633.544922\" xlink:href=\"#ArialMT-108\"/>\r\n     <use x=\"655.761719\" xlink:href=\"#ArialMT-116\"/>\r\n     <use x=\"683.544922\" xlink:href=\"#ArialMT-105\"/>\r\n     <use x=\"705.761719\" xlink:href=\"#ArialMT-32\"/>\r\n     <use x=\"733.544922\" xlink:href=\"#ArialMT-76\"/>\r\n     <use x=\"789.160156\" xlink:href=\"#ArialMT-97\"/>\r\n     <use x=\"844.775391\" xlink:href=\"#ArialMT-98\"/>\r\n     <use x=\"900.390625\" xlink:href=\"#ArialMT-101\"/>\r\n     <use x=\"956.005859\" xlink:href=\"#ArialMT-108\"/>\r\n     <use x=\"978.222656\" xlink:href=\"#ArialMT-32\"/>\r\n     <use x=\"1006.005859\" xlink:href=\"#ArialMT-112\"/>\r\n     <use x=\"1061.621094\" xlink:href=\"#ArialMT-101\"/>\r\n     <use x=\"1117.236328\" xlink:href=\"#ArialMT-114\"/>\r\n     <use x=\"1150.537109\" xlink:href=\"#ArialMT-32\"/>\r\n     <use x=\"1178.320312\" xlink:href=\"#ArialMT-100\"/>\r\n     <use x=\"1233.935547\" xlink:href=\"#ArialMT-111\"/>\r\n     <use x=\"1289.550781\" xlink:href=\"#ArialMT-99\"/>\r\n     <use x=\"1339.550781\" xlink:href=\"#ArialMT-117\"/>\r\n     <use x=\"1395.166016\" xlink:href=\"#ArialMT-109\"/>\r\n     <use x=\"1478.466797\" xlink:href=\"#ArialMT-101\"/>\r\n     <use x=\"1534.082031\" xlink:href=\"#ArialMT-110\"/>\r\n     <use x=\"1589.697266\" xlink:href=\"#ArialMT-116\"/>\r\n    </g>\r\n   </g>\r\n  </g>\r\n </g>\r\n <defs>\r\n  <clipPath id=\"p05dc1bd74c\">\r\n   <rect height=\"217.44\" width=\"334.8\" x=\"55.15\" y=\"21.935625\"/>\r\n  </clipPath>\r\n </defs>\r\n</svg>\r\n",
      "image/png": "[encoded data removed]"
     },
     "metadata": {}
    },
    {
     "output_type": "stream",
     "name": "stdout",
     "text": "Print of diistribution of number of keywords\n"
    },
    {
     "output_type": "execute_result",
     "data": {
      "text/plain": "count    48968.000000\nmean         2.394196\nstd          1.416564\nmin          1.000000\n1%           1.000000\n10%          1.000000\n20%          1.000000\n30%          1.000000\n40%          2.000000\n50%          2.000000\n60%          2.000000\n70%          3.000000\n80%          3.000000\n85%          4.000000\n90%          4.000000\n95%          5.000000\nmax         12.000000\nName: no_of_keywords, dtype: float64"
     },
     "metadata": {},
     "execution_count": 34
    }
   ],
   "source": [
    "import matplotlib.pyplot as plt \n",
    "import seaborn as sns \n",
    "\n",
    "sns.set_style(\"dark\")\n",
    "numbe_of_topics_in_doocument= sns.distributions.distplot(data_frame.no_of_keywords,kde=False,rug=False,color=\"blue\")\n",
    "plt.xlabel(\"No.of Topics\")\n",
    "plt.ylabel(\"Distribution\")\n",
    "plt.title(\"Number of Multi Label per document\")\n",
    "plt.show()\n",
    "_path = os.path.join(os.path.curdir,\"Visuals\",\"Originl_Label_distribuution.png\")\n",
    "numbe_of_topics_in_doocument.get_figure().savefig(_path)\n",
    "\n",
    "\n",
    "print(\"Print of diistribution of number of keywords\")\n",
    "data_frame.no_of_keywords.describe([.01,.1,.2,.3,.4,.5,.6,.7,.80,.85,.90,.95])"
   ]
  },
  {
   "cell_type": "markdown",
   "metadata": {},
   "source": [
    "## Review Remarks \n",
    "\n",
    "- After initial observation  80% of data set contain maximum of 3 labels \n",
    "- It is evident that 50% of observation having only 2 topics \n",
    "\n",
    "Based on the above review we will model our target document to maximum tag 3 probable type or classes "
   ]
  },
  {
   "cell_type": "code",
   "execution_count": 36,
   "metadata": {
    "tags": []
   },
   "outputs": [
    {
     "output_type": "stream",
     "name": "stderr",
     "text": "\n0it [00:00, ?it/s]\u001b[A\n24777it [00:00, 245893.63it/s]\u001b[A\n48968it [00:00, 205435.57it/s]\n"
    }
   ],
   "source": [
    "# working on label distribution \n",
    "import re\n",
    "\n",
    "_freqDist = FreqDist()\n",
    "\n",
    "_bar = tqdm.tqdm(data_frame.shape[0])\n",
    "\n",
    "for documents in data_frame.Keywords:\n",
    "    for items in documents:\n",
    "        key = re.sub(\"\\\\n\",\"\",items)\n",
    "        _freqDist[key.lower()]+=1\n",
    "    \n",
    "    _bar.update(1)\n",
    "\n",
    "_bar.close()"
   ]
  },
  {
   "cell_type": "code",
   "execution_count": 37,
   "metadata": {
    "tags": []
   },
   "outputs": [
    {
     "output_type": "display_data",
     "data": {
      "text/plain": "<Figure size 432x288 with 1 Axes>",
      "image/svg+xml": "<?xml version=\"1.0\" encoding=\"utf-8\" standalone=\"no\"?>\r\n<!DOCTYPE svg PUBLIC \"-//W3C//DTD SVG 1.1//EN\"\r\n  \"http://www.w3.org/Graphics/SVG/1.1/DTD/svg11.dtd\">\r\n<!-- Created with matplotlib (https://matplotlib.org/) -->\r\n<svg height=\"262.720937pt\" version=\"1.1\" viewBox=\"0 0 386.028125 262.720937\" width=\"386.028125pt\" xmlns=\"http://www.w3.org/2000/svg\" xmlns:xlink=\"http://www.w3.org/1999/xlink\">\r\n <defs>\r\n  <style type=\"text/css\">\r\n*{stroke-linecap:butt;stroke-linejoin:round;}\r\n  </style>\r\n </defs>\r\n <g id=\"figure_1\">\r\n  <g id=\"patch_1\">\r\n   <path d=\"M 0 262.720937 \r\nL 386.028125 262.720937 \r\nL 386.028125 0 \r\nL 0 0 \r\nz\r\n\" style=\"fill:#ffffff;\"/>\r\n  </g>\r\n  <g id=\"axes_1\">\r\n   <g id=\"patch_2\">\r\n    <path d=\"M 44.028125 239.375625 \r\nL 378.828125 239.375625 \r\nL 378.828125 21.935625 \r\nL 44.028125 21.935625 \r\nz\r\n\" style=\"fill:#eaeaf2;\"/>\r\n   </g>\r\n   <g id=\"matplotlib.axis_1\">\r\n    <g id=\"xtick_1\">\r\n     <g id=\"text_1\">\r\n      <!-- 0 -->\r\n      <defs>\r\n       <path d=\"M 4.15625 35.296875 \r\nQ 4.15625 48 6.765625 55.734375 \r\nQ 9.375 63.484375 14.515625 67.671875 \r\nQ 19.671875 71.875 27.484375 71.875 \r\nQ 33.25 71.875 37.59375 69.546875 \r\nQ 41.9375 67.234375 44.765625 62.859375 \r\nQ 47.609375 58.5 49.21875 52.21875 \r\nQ 50.828125 45.953125 50.828125 35.296875 \r\nQ 50.828125 22.703125 48.234375 14.96875 \r\nQ 45.65625 7.234375 40.5 3 \r\nQ 35.359375 -1.21875 27.484375 -1.21875 \r\nQ 17.140625 -1.21875 11.234375 6.203125 \r\nQ 4.15625 15.140625 4.15625 35.296875 \r\nz\r\nM 13.1875 35.296875 \r\nQ 13.1875 17.671875 17.3125 11.828125 \r\nQ 21.4375 6 27.484375 6 \r\nQ 33.546875 6 37.671875 11.859375 \r\nQ 41.796875 17.71875 41.796875 35.296875 \r\nQ 41.796875 52.984375 37.671875 58.78125 \r\nQ 33.546875 64.59375 27.390625 64.59375 \r\nQ 21.34375 64.59375 17.71875 59.46875 \r\nQ 13.1875 52.9375 13.1875 35.296875 \r\nz\r\n\" id=\"ArialMT-48\"/>\r\n      </defs>\r\n      <g style=\"fill:#262626;\" transform=\"translate(56.381643 253.533437)scale(0.1 -0.1)\">\r\n       <use xlink:href=\"#ArialMT-48\"/>\r\n      </g>\r\n     </g>\r\n    </g>\r\n    <g id=\"xtick_2\">\r\n     <g id=\"text_2\">\r\n      <!-- 500 -->\r\n      <defs>\r\n       <path d=\"M 4.15625 18.75 \r\nL 13.375 19.53125 \r\nQ 14.40625 12.796875 18.140625 9.390625 \r\nQ 21.875 6 27.15625 6 \r\nQ 33.5 6 37.890625 10.78125 \r\nQ 42.28125 15.578125 42.28125 23.484375 \r\nQ 42.28125 31 38.0625 35.34375 \r\nQ 33.84375 39.703125 27 39.703125 \r\nQ 22.75 39.703125 19.328125 37.765625 \r\nQ 15.921875 35.84375 13.96875 32.765625 \r\nL 5.71875 33.84375 \r\nL 12.640625 70.609375 \r\nL 48.25 70.609375 \r\nL 48.25 62.203125 \r\nL 19.671875 62.203125 \r\nL 15.828125 42.96875 \r\nQ 22.265625 47.46875 29.34375 47.46875 \r\nQ 38.71875 47.46875 45.15625 40.96875 \r\nQ 51.609375 34.46875 51.609375 24.265625 \r\nQ 51.609375 14.546875 45.953125 7.46875 \r\nQ 39.0625 -1.21875 27.15625 -1.21875 \r\nQ 17.390625 -1.21875 11.203125 4.25 \r\nQ 5.03125 9.71875 4.15625 18.75 \r\nz\r\n\" id=\"ArialMT-53\"/>\r\n      </defs>\r\n      <g style=\"fill:#262626;\" transform=\"translate(92.918028 253.533437)scale(0.1 -0.1)\">\r\n       <use xlink:href=\"#ArialMT-53\"/>\r\n       <use x=\"55.615234\" xlink:href=\"#ArialMT-48\"/>\r\n       <use x=\"111.230469\" xlink:href=\"#ArialMT-48\"/>\r\n      </g>\r\n     </g>\r\n    </g>\r\n    <g id=\"xtick_3\">\r\n     <g id=\"text_3\">\r\n      <!-- 1000 -->\r\n      <defs>\r\n       <path d=\"M 37.25 0 \r\nL 28.46875 0 \r\nL 28.46875 56 \r\nQ 25.296875 52.984375 20.140625 49.953125 \r\nQ 14.984375 46.921875 10.890625 45.40625 \r\nL 10.890625 53.90625 \r\nQ 18.265625 57.375 23.78125 62.296875 \r\nQ 29.296875 67.234375 31.59375 71.875 \r\nL 37.25 71.875 \r\nz\r\n\" id=\"ArialMT-49\"/>\r\n      </defs>\r\n      <g style=\"fill:#262626;\" transform=\"translate(132.234881 253.533437)scale(0.1 -0.1)\">\r\n       <use xlink:href=\"#ArialMT-49\"/>\r\n       <use x=\"55.615234\" xlink:href=\"#ArialMT-48\"/>\r\n       <use x=\"111.230469\" xlink:href=\"#ArialMT-48\"/>\r\n       <use x=\"166.845703\" xlink:href=\"#ArialMT-48\"/>\r\n      </g>\r\n     </g>\r\n    </g>\r\n    <g id=\"xtick_4\">\r\n     <g id=\"text_4\">\r\n      <!-- 1500 -->\r\n      <g style=\"fill:#262626;\" transform=\"translate(174.332202 253.533437)scale(0.1 -0.1)\">\r\n       <use xlink:href=\"#ArialMT-49\"/>\r\n       <use x=\"55.615234\" xlink:href=\"#ArialMT-53\"/>\r\n       <use x=\"111.230469\" xlink:href=\"#ArialMT-48\"/>\r\n       <use x=\"166.845703\" xlink:href=\"#ArialMT-48\"/>\r\n      </g>\r\n     </g>\r\n    </g>\r\n    <g id=\"xtick_5\">\r\n     <g id=\"text_5\">\r\n      <!-- 2000 -->\r\n      <defs>\r\n       <path d=\"M 50.34375 8.453125 \r\nL 50.34375 0 \r\nL 3.03125 0 \r\nQ 2.9375 3.171875 4.046875 6.109375 \r\nQ 5.859375 10.9375 9.828125 15.625 \r\nQ 13.8125 20.3125 21.34375 26.46875 \r\nQ 33.015625 36.03125 37.109375 41.625 \r\nQ 41.21875 47.21875 41.21875 52.203125 \r\nQ 41.21875 57.421875 37.46875 61 \r\nQ 33.734375 64.59375 27.734375 64.59375 \r\nQ 21.390625 64.59375 17.578125 60.78125 \r\nQ 13.765625 56.984375 13.71875 50.25 \r\nL 4.6875 51.171875 \r\nQ 5.609375 61.28125 11.65625 66.578125 \r\nQ 17.71875 71.875 27.9375 71.875 \r\nQ 38.234375 71.875 44.234375 66.15625 \r\nQ 50.25 60.453125 50.25 52 \r\nQ 50.25 47.703125 48.484375 43.546875 \r\nQ 46.734375 39.40625 42.65625 34.8125 \r\nQ 38.578125 30.21875 29.109375 22.21875 \r\nQ 21.1875 15.578125 18.9375 13.203125 \r\nQ 16.703125 10.84375 15.234375 8.453125 \r\nz\r\n\" id=\"ArialMT-50\"/>\r\n      </defs>\r\n      <g style=\"fill:#262626;\" transform=\"translate(216.429524 253.533437)scale(0.1 -0.1)\">\r\n       <use xlink:href=\"#ArialMT-50\"/>\r\n       <use x=\"55.615234\" xlink:href=\"#ArialMT-48\"/>\r\n       <use x=\"111.230469\" xlink:href=\"#ArialMT-48\"/>\r\n       <use x=\"166.845703\" xlink:href=\"#ArialMT-48\"/>\r\n      </g>\r\n     </g>\r\n    </g>\r\n    <g id=\"xtick_6\">\r\n     <g id=\"text_6\">\r\n      <!-- 2500 -->\r\n      <g style=\"fill:#262626;\" transform=\"translate(258.526846 253.533437)scale(0.1 -0.1)\">\r\n       <use xlink:href=\"#ArialMT-50\"/>\r\n       <use x=\"55.615234\" xlink:href=\"#ArialMT-53\"/>\r\n       <use x=\"111.230469\" xlink:href=\"#ArialMT-48\"/>\r\n       <use x=\"166.845703\" xlink:href=\"#ArialMT-48\"/>\r\n      </g>\r\n     </g>\r\n    </g>\r\n    <g id=\"xtick_7\">\r\n     <g id=\"text_7\">\r\n      <!-- 3000 -->\r\n      <defs>\r\n       <path d=\"M 4.203125 18.890625 \r\nL 12.984375 20.0625 \r\nQ 14.5 12.59375 18.140625 9.296875 \r\nQ 21.78125 6 27 6 \r\nQ 33.203125 6 37.46875 10.296875 \r\nQ 41.75 14.59375 41.75 20.953125 \r\nQ 41.75 27 37.796875 30.921875 \r\nQ 33.84375 34.859375 27.734375 34.859375 \r\nQ 25.25 34.859375 21.53125 33.890625 \r\nL 22.515625 41.609375 \r\nQ 23.390625 41.5 23.921875 41.5 \r\nQ 29.546875 41.5 34.03125 44.421875 \r\nQ 38.53125 47.359375 38.53125 53.46875 \r\nQ 38.53125 58.296875 35.25 61.46875 \r\nQ 31.984375 64.65625 26.8125 64.65625 \r\nQ 21.6875 64.65625 18.265625 61.421875 \r\nQ 14.84375 58.203125 13.875 51.765625 \r\nL 5.078125 53.328125 \r\nQ 6.6875 62.15625 12.390625 67.015625 \r\nQ 18.109375 71.875 26.609375 71.875 \r\nQ 32.46875 71.875 37.390625 69.359375 \r\nQ 42.328125 66.84375 44.9375 62.5 \r\nQ 47.5625 58.15625 47.5625 53.265625 \r\nQ 47.5625 48.640625 45.0625 44.828125 \r\nQ 42.578125 41.015625 37.703125 38.765625 \r\nQ 44.046875 37.3125 47.5625 32.6875 \r\nQ 51.078125 28.078125 51.078125 21.140625 \r\nQ 51.078125 11.765625 44.234375 5.25 \r\nQ 37.40625 -1.265625 26.953125 -1.265625 \r\nQ 17.53125 -1.265625 11.296875 4.34375 \r\nQ 5.078125 9.96875 4.203125 18.890625 \r\nz\r\n\" id=\"ArialMT-51\"/>\r\n      </defs>\r\n      <g style=\"fill:#262626;\" transform=\"translate(300.624168 253.533437)scale(0.1 -0.1)\">\r\n       <use xlink:href=\"#ArialMT-51\"/>\r\n       <use x=\"55.615234\" xlink:href=\"#ArialMT-48\"/>\r\n       <use x=\"111.230469\" xlink:href=\"#ArialMT-48\"/>\r\n       <use x=\"166.845703\" xlink:href=\"#ArialMT-48\"/>\r\n      </g>\r\n     </g>\r\n    </g>\r\n    <g id=\"xtick_8\">\r\n     <g id=\"text_8\">\r\n      <!-- 3500 -->\r\n      <g style=\"fill:#262626;\" transform=\"translate(342.72149 253.533437)scale(0.1 -0.1)\">\r\n       <use xlink:href=\"#ArialMT-51\"/>\r\n       <use x=\"55.615234\" xlink:href=\"#ArialMT-53\"/>\r\n       <use x=\"111.230469\" xlink:href=\"#ArialMT-48\"/>\r\n       <use x=\"166.845703\" xlink:href=\"#ArialMT-48\"/>\r\n      </g>\r\n     </g>\r\n    </g>\r\n   </g>\r\n   <g id=\"matplotlib.axis_2\">\r\n    <g id=\"ytick_1\">\r\n     <g id=\"text_9\">\r\n      <!-- 0 -->\r\n      <g style=\"fill:#262626;\" transform=\"translate(31.467188 242.954531)scale(0.1 -0.1)\">\r\n       <use xlink:href=\"#ArialMT-48\"/>\r\n      </g>\r\n     </g>\r\n    </g>\r\n    <g id=\"ytick_2\">\r\n     <g id=\"text_10\">\r\n      <!-- 50 -->\r\n      <g style=\"fill:#262626;\" transform=\"translate(25.90625 199.449129)scale(0.1 -0.1)\">\r\n       <use xlink:href=\"#ArialMT-53\"/>\r\n       <use x=\"55.615234\" xlink:href=\"#ArialMT-48\"/>\r\n      </g>\r\n     </g>\r\n    </g>\r\n    <g id=\"ytick_3\">\r\n     <g id=\"text_11\">\r\n      <!-- 100 -->\r\n      <g style=\"fill:#262626;\" transform=\"translate(20.345313 155.943727)scale(0.1 -0.1)\">\r\n       <use xlink:href=\"#ArialMT-49\"/>\r\n       <use x=\"55.615234\" xlink:href=\"#ArialMT-48\"/>\r\n       <use x=\"111.230469\" xlink:href=\"#ArialMT-48\"/>\r\n      </g>\r\n     </g>\r\n    </g>\r\n    <g id=\"ytick_4\">\r\n     <g id=\"text_12\">\r\n      <!-- 150 -->\r\n      <g style=\"fill:#262626;\" transform=\"translate(20.345313 112.438325)scale(0.1 -0.1)\">\r\n       <use xlink:href=\"#ArialMT-49\"/>\r\n       <use x=\"55.615234\" xlink:href=\"#ArialMT-53\"/>\r\n       <use x=\"111.230469\" xlink:href=\"#ArialMT-48\"/>\r\n      </g>\r\n     </g>\r\n    </g>\r\n    <g id=\"ytick_5\">\r\n     <g id=\"text_13\">\r\n      <!-- 200 -->\r\n      <g style=\"fill:#262626;\" transform=\"translate(20.345313 68.932923)scale(0.1 -0.1)\">\r\n       <use xlink:href=\"#ArialMT-50\"/>\r\n       <use x=\"55.615234\" xlink:href=\"#ArialMT-48\"/>\r\n       <use x=\"111.230469\" xlink:href=\"#ArialMT-48\"/>\r\n      </g>\r\n     </g>\r\n    </g>\r\n    <g id=\"text_14\">\r\n     <!-- distribution -->\r\n     <defs>\r\n      <path d=\"M 40.234375 0 \r\nL 40.234375 6.546875 \r\nQ 35.296875 -1.171875 25.734375 -1.171875 \r\nQ 19.53125 -1.171875 14.328125 2.25 \r\nQ 9.125 5.671875 6.265625 11.796875 \r\nQ 3.421875 17.921875 3.421875 25.875 \r\nQ 3.421875 33.640625 6 39.96875 \r\nQ 8.59375 46.296875 13.765625 49.65625 \r\nQ 18.953125 53.03125 25.34375 53.03125 \r\nQ 30.03125 53.03125 33.6875 51.046875 \r\nQ 37.359375 49.078125 39.65625 45.90625 \r\nL 39.65625 71.578125 \r\nL 48.390625 71.578125 \r\nL 48.390625 0 \r\nz\r\nM 12.453125 25.875 \r\nQ 12.453125 15.921875 16.640625 10.984375 \r\nQ 20.84375 6.0625 26.5625 6.0625 \r\nQ 32.328125 6.0625 36.34375 10.765625 \r\nQ 40.375 15.484375 40.375 25.140625 \r\nQ 40.375 35.796875 36.265625 40.765625 \r\nQ 32.171875 45.75 26.171875 45.75 \r\nQ 20.3125 45.75 16.375 40.96875 \r\nQ 12.453125 36.1875 12.453125 25.875 \r\nz\r\n\" id=\"ArialMT-100\"/>\r\n      <path d=\"M 6.640625 61.46875 \r\nL 6.640625 71.578125 \r\nL 15.4375 71.578125 \r\nL 15.4375 61.46875 \r\nz\r\nM 6.640625 0 \r\nL 6.640625 51.859375 \r\nL 15.4375 51.859375 \r\nL 15.4375 0 \r\nz\r\n\" id=\"ArialMT-105\"/>\r\n      <path d=\"M 3.078125 15.484375 \r\nL 11.765625 16.84375 \r\nQ 12.5 11.625 15.84375 8.84375 \r\nQ 19.1875 6.0625 25.203125 6.0625 \r\nQ 31.25 6.0625 34.171875 8.515625 \r\nQ 37.109375 10.984375 37.109375 14.3125 \r\nQ 37.109375 17.28125 34.515625 19 \r\nQ 32.71875 20.171875 25.53125 21.96875 \r\nQ 15.875 24.421875 12.140625 26.203125 \r\nQ 8.40625 27.984375 6.46875 31.125 \r\nQ 4.546875 34.28125 4.546875 38.09375 \r\nQ 4.546875 41.546875 6.125 44.5 \r\nQ 7.71875 47.46875 10.453125 49.421875 \r\nQ 12.5 50.921875 16.03125 51.96875 \r\nQ 19.578125 53.03125 23.640625 53.03125 \r\nQ 29.734375 53.03125 34.34375 51.265625 \r\nQ 38.96875 49.515625 41.15625 46.5 \r\nQ 43.359375 43.5 44.1875 38.484375 \r\nL 35.59375 37.3125 \r\nQ 35.015625 41.3125 32.203125 43.546875 \r\nQ 29.390625 45.796875 24.265625 45.796875 \r\nQ 18.21875 45.796875 15.625 43.796875 \r\nQ 13.03125 41.796875 13.03125 39.109375 \r\nQ 13.03125 37.40625 14.109375 36.03125 \r\nQ 15.1875 34.625 17.484375 33.6875 \r\nQ 18.796875 33.203125 25.25 31.453125 \r\nQ 34.578125 28.953125 38.25 27.359375 \r\nQ 41.9375 25.78125 44.03125 22.75 \r\nQ 46.140625 19.734375 46.140625 15.234375 \r\nQ 46.140625 10.84375 43.578125 6.953125 \r\nQ 41.015625 3.078125 36.171875 0.953125 \r\nQ 31.34375 -1.171875 25.25 -1.171875 \r\nQ 15.140625 -1.171875 9.84375 3.03125 \r\nQ 4.546875 7.234375 3.078125 15.484375 \r\nz\r\n\" id=\"ArialMT-115\"/>\r\n      <path d=\"M 25.78125 7.859375 \r\nL 27.046875 0.09375 \r\nQ 23.34375 -0.6875 20.40625 -0.6875 \r\nQ 15.625 -0.6875 12.984375 0.828125 \r\nQ 10.359375 2.34375 9.28125 4.8125 \r\nQ 8.203125 7.28125 8.203125 15.1875 \r\nL 8.203125 45.015625 \r\nL 1.765625 45.015625 \r\nL 1.765625 51.859375 \r\nL 8.203125 51.859375 \r\nL 8.203125 64.703125 \r\nL 16.9375 69.96875 \r\nL 16.9375 51.859375 \r\nL 25.78125 51.859375 \r\nL 25.78125 45.015625 \r\nL 16.9375 45.015625 \r\nL 16.9375 14.703125 \r\nQ 16.9375 10.9375 17.40625 9.859375 \r\nQ 17.875 8.796875 18.921875 8.15625 \r\nQ 19.96875 7.515625 21.921875 7.515625 \r\nQ 23.390625 7.515625 25.78125 7.859375 \r\nz\r\n\" id=\"ArialMT-116\"/>\r\n      <path d=\"M 6.5 0 \r\nL 6.5 51.859375 \r\nL 14.40625 51.859375 \r\nL 14.40625 44 \r\nQ 17.4375 49.515625 20 51.265625 \r\nQ 22.5625 53.03125 25.640625 53.03125 \r\nQ 30.078125 53.03125 34.671875 50.203125 \r\nL 31.640625 42.046875 \r\nQ 28.421875 43.953125 25.203125 43.953125 \r\nQ 22.3125 43.953125 20.015625 42.21875 \r\nQ 17.71875 40.484375 16.75 37.40625 \r\nQ 15.28125 32.71875 15.28125 27.15625 \r\nL 15.28125 0 \r\nz\r\n\" id=\"ArialMT-114\"/>\r\n      <path d=\"M 14.703125 0 \r\nL 6.546875 0 \r\nL 6.546875 71.578125 \r\nL 15.328125 71.578125 \r\nL 15.328125 46.046875 \r\nQ 20.90625 53.03125 29.546875 53.03125 \r\nQ 34.328125 53.03125 38.59375 51.09375 \r\nQ 42.875 49.171875 45.625 45.671875 \r\nQ 48.390625 42.1875 49.953125 37.25 \r\nQ 51.515625 32.328125 51.515625 26.703125 \r\nQ 51.515625 13.375 44.921875 6.09375 \r\nQ 38.328125 -1.171875 29.109375 -1.171875 \r\nQ 19.921875 -1.171875 14.703125 6.5 \r\nz\r\nM 14.59375 26.3125 \r\nQ 14.59375 17 17.140625 12.84375 \r\nQ 21.296875 6.0625 28.375 6.0625 \r\nQ 34.125 6.0625 38.328125 11.0625 \r\nQ 42.53125 16.0625 42.53125 25.984375 \r\nQ 42.53125 36.140625 38.5 40.96875 \r\nQ 34.46875 45.796875 28.765625 45.796875 \r\nQ 23 45.796875 18.796875 40.796875 \r\nQ 14.59375 35.796875 14.59375 26.3125 \r\nz\r\n\" id=\"ArialMT-98\"/>\r\n      <path d=\"M 40.578125 0 \r\nL 40.578125 7.625 \r\nQ 34.515625 -1.171875 24.125 -1.171875 \r\nQ 19.53125 -1.171875 15.546875 0.578125 \r\nQ 11.578125 2.34375 9.640625 5 \r\nQ 7.71875 7.671875 6.9375 11.53125 \r\nQ 6.390625 14.109375 6.390625 19.734375 \r\nL 6.390625 51.859375 \r\nL 15.1875 51.859375 \r\nL 15.1875 23.09375 \r\nQ 15.1875 16.21875 15.71875 13.8125 \r\nQ 16.546875 10.359375 19.234375 8.375 \r\nQ 21.921875 6.390625 25.875 6.390625 \r\nQ 29.828125 6.390625 33.296875 8.421875 \r\nQ 36.765625 10.453125 38.203125 13.9375 \r\nQ 39.65625 17.4375 39.65625 24.078125 \r\nL 39.65625 51.859375 \r\nL 48.4375 51.859375 \r\nL 48.4375 0 \r\nz\r\n\" id=\"ArialMT-117\"/>\r\n      <path d=\"M 3.328125 25.921875 \r\nQ 3.328125 40.328125 11.328125 47.265625 \r\nQ 18.015625 53.03125 27.640625 53.03125 \r\nQ 38.328125 53.03125 45.109375 46.015625 \r\nQ 51.90625 39.015625 51.90625 26.65625 \r\nQ 51.90625 16.65625 48.90625 10.90625 \r\nQ 45.90625 5.171875 40.15625 2 \r\nQ 34.421875 -1.171875 27.640625 -1.171875 \r\nQ 16.75 -1.171875 10.03125 5.8125 \r\nQ 3.328125 12.796875 3.328125 25.921875 \r\nz\r\nM 12.359375 25.921875 \r\nQ 12.359375 15.96875 16.703125 11.015625 \r\nQ 21.046875 6.0625 27.640625 6.0625 \r\nQ 34.1875 6.0625 38.53125 11.03125 \r\nQ 42.875 16.015625 42.875 26.21875 \r\nQ 42.875 35.84375 38.5 40.796875 \r\nQ 34.125 45.75 27.640625 45.75 \r\nQ 21.046875 45.75 16.703125 40.8125 \r\nQ 12.359375 35.890625 12.359375 25.921875 \r\nz\r\n\" id=\"ArialMT-111\"/>\r\n      <path d=\"M 6.59375 0 \r\nL 6.59375 51.859375 \r\nL 14.5 51.859375 \r\nL 14.5 44.484375 \r\nQ 20.21875 53.03125 31 53.03125 \r\nQ 35.6875 53.03125 39.625 51.34375 \r\nQ 43.5625 49.65625 45.515625 46.921875 \r\nQ 47.46875 44.1875 48.25 40.4375 \r\nQ 48.734375 37.984375 48.734375 31.890625 \r\nL 48.734375 0 \r\nL 39.9375 0 \r\nL 39.9375 31.546875 \r\nQ 39.9375 36.921875 38.90625 39.578125 \r\nQ 37.890625 42.234375 35.28125 43.8125 \r\nQ 32.671875 45.40625 29.15625 45.40625 \r\nQ 23.53125 45.40625 19.453125 41.84375 \r\nQ 15.375 38.28125 15.375 28.328125 \r\nL 15.375 0 \r\nz\r\n\" id=\"ArialMT-110\"/>\r\n     </defs>\r\n     <g style=\"fill:#262626;\" transform=\"translate(14.357813 154.83375)rotate(-90)scale(0.1 -0.1)\">\r\n      <use xlink:href=\"#ArialMT-100\"/>\r\n      <use x=\"55.615234\" xlink:href=\"#ArialMT-105\"/>\r\n      <use x=\"77.832031\" xlink:href=\"#ArialMT-115\"/>\r\n      <use x=\"127.832031\" xlink:href=\"#ArialMT-116\"/>\r\n      <use x=\"155.615234\" xlink:href=\"#ArialMT-114\"/>\r\n      <use x=\"188.916016\" xlink:href=\"#ArialMT-105\"/>\r\n      <use x=\"211.132812\" xlink:href=\"#ArialMT-98\"/>\r\n      <use x=\"266.748047\" xlink:href=\"#ArialMT-117\"/>\r\n      <use x=\"322.363281\" xlink:href=\"#ArialMT-116\"/>\r\n      <use x=\"350.146484\" xlink:href=\"#ArialMT-105\"/>\r\n      <use x=\"372.363281\" xlink:href=\"#ArialMT-111\"/>\r\n      <use x=\"427.978516\" xlink:href=\"#ArialMT-110\"/>\r\n     </g>\r\n    </g>\r\n   </g>\r\n   <g id=\"patch_3\">\r\n    <path clip-path=\"url(#p7956b3523d)\" d=\"M 59.246307 239.375625 \r\nL 74.464489 239.375625 \r\nL 74.464489 32.289911 \r\nL 59.246307 32.289911 \r\nz\r\n\" style=\"fill:#0000ff;opacity:0.4;stroke:#ffffff;stroke-linejoin:miter;\"/>\r\n   </g>\r\n   <g id=\"patch_4\">\r\n    <path clip-path=\"url(#p7956b3523d)\" d=\"M 74.464489 239.375625 \r\nL 89.68267 239.375625 \r\nL 89.68267 166.286549 \r\nL 74.464489 166.286549 \r\nz\r\n\" style=\"fill:#0000ff;opacity:0.4;stroke:#ffffff;stroke-linejoin:miter;\"/>\r\n   </g>\r\n   <g id=\"patch_5\">\r\n    <path clip-path=\"url(#p7956b3523d)\" d=\"M 89.68267 239.375625 \r\nL 104.900852 239.375625 \r\nL 104.900852 203.701195 \r\nL 89.68267 203.701195 \r\nz\r\n\" style=\"fill:#0000ff;opacity:0.4;stroke:#ffffff;stroke-linejoin:miter;\"/>\r\n   </g>\r\n   <g id=\"patch_6\">\r\n    <path clip-path=\"url(#p7956b3523d)\" d=\"M 104.900852 239.375625 \r\nL 120.119034 239.375625 \r\nL 120.119034 226.324004 \r\nL 104.900852 226.324004 \r\nz\r\n\" style=\"fill:#0000ff;opacity:0.4;stroke:#ffffff;stroke-linejoin:miter;\"/>\r\n   </g>\r\n   <g id=\"patch_7\">\r\n    <path clip-path=\"url(#p7956b3523d)\" d=\"M 120.119034 239.375625 \r\nL 135.337216 239.375625 \r\nL 135.337216 228.06422 \r\nL 120.119034 228.06422 \r\nz\r\n\" style=\"fill:#0000ff;opacity:0.4;stroke:#ffffff;stroke-linejoin:miter;\"/>\r\n   </g>\r\n   <g id=\"patch_8\">\r\n    <path clip-path=\"url(#p7956b3523d)\" d=\"M 135.337216 239.375625 \r\nL 150.555398 239.375625 \r\nL 150.555398 234.154977 \r\nL 135.337216 234.154977 \r\nz\r\n\" style=\"fill:#0000ff;opacity:0.4;stroke:#ffffff;stroke-linejoin:miter;\"/>\r\n   </g>\r\n   <g id=\"patch_9\">\r\n    <path clip-path=\"url(#p7956b3523d)\" d=\"M 150.555398 239.375625 \r\nL 165.77358 239.375625 \r\nL 165.77358 238.505517 \r\nL 150.555398 238.505517 \r\nz\r\n\" style=\"fill:#0000ff;opacity:0.4;stroke:#ffffff;stroke-linejoin:miter;\"/>\r\n   </g>\r\n   <g id=\"patch_10\">\r\n    <path clip-path=\"url(#p7956b3523d)\" d=\"M 165.77358 239.375625 \r\nL 180.991761 239.375625 \r\nL 180.991761 235.025085 \r\nL 165.77358 235.025085 \r\nz\r\n\" style=\"fill:#0000ff;opacity:0.4;stroke:#ffffff;stroke-linejoin:miter;\"/>\r\n   </g>\r\n   <g id=\"patch_11\">\r\n    <path clip-path=\"url(#p7956b3523d)\" d=\"M 180.991761 239.375625 \r\nL 196.209943 239.375625 \r\nL 196.209943 237.635409 \r\nL 180.991761 237.635409 \r\nz\r\n\" style=\"fill:#0000ff;opacity:0.4;stroke:#ffffff;stroke-linejoin:miter;\"/>\r\n   </g>\r\n   <g id=\"patch_12\">\r\n    <path clip-path=\"url(#p7956b3523d)\" d=\"M 196.209943 239.375625 \r\nL 211.428125 239.375625 \r\nL 211.428125 239.375625 \r\nL 196.209943 239.375625 \r\nz\r\n\" style=\"fill:#0000ff;opacity:0.4;stroke:#ffffff;stroke-linejoin:miter;\"/>\r\n   </g>\r\n   <g id=\"patch_13\">\r\n    <path clip-path=\"url(#p7956b3523d)\" d=\"M 211.428125 239.375625 \r\nL 226.646307 239.375625 \r\nL 226.646307 238.505517 \r\nL 211.428125 238.505517 \r\nz\r\n\" style=\"fill:#0000ff;opacity:0.4;stroke:#ffffff;stroke-linejoin:miter;\"/>\r\n   </g>\r\n   <g id=\"patch_14\">\r\n    <path clip-path=\"url(#p7956b3523d)\" d=\"M 226.646307 239.375625 \r\nL 241.864489 239.375625 \r\nL 241.864489 237.635409 \r\nL 226.646307 237.635409 \r\nz\r\n\" style=\"fill:#0000ff;opacity:0.4;stroke:#ffffff;stroke-linejoin:miter;\"/>\r\n   </g>\r\n   <g id=\"patch_15\">\r\n    <path clip-path=\"url(#p7956b3523d)\" d=\"M 241.864489 239.375625 \r\nL 257.08267 239.375625 \r\nL 257.08267 238.505517 \r\nL 241.864489 238.505517 \r\nz\r\n\" style=\"fill:#0000ff;opacity:0.4;stroke:#ffffff;stroke-linejoin:miter;\"/>\r\n   </g>\r\n   <g id=\"patch_16\">\r\n    <path clip-path=\"url(#p7956b3523d)\" d=\"M 257.08267 239.375625 \r\nL 272.300852 239.375625 \r\nL 272.300852 237.635409 \r\nL 257.08267 237.635409 \r\nz\r\n\" style=\"fill:#0000ff;opacity:0.4;stroke:#ffffff;stroke-linejoin:miter;\"/>\r\n   </g>\r\n   <g id=\"patch_17\">\r\n    <path clip-path=\"url(#p7956b3523d)\" d=\"M 272.300852 239.375625 \r\nL 287.519034 239.375625 \r\nL 287.519034 239.375625 \r\nL 272.300852 239.375625 \r\nz\r\n\" style=\"fill:#0000ff;opacity:0.4;stroke:#ffffff;stroke-linejoin:miter;\"/>\r\n   </g>\r\n   <g id=\"patch_18\">\r\n    <path clip-path=\"url(#p7956b3523d)\" d=\"M 287.519034 239.375625 \r\nL 302.737216 239.375625 \r\nL 302.737216 239.375625 \r\nL 287.519034 239.375625 \r\nz\r\n\" style=\"fill:#0000ff;opacity:0.4;stroke:#ffffff;stroke-linejoin:miter;\"/>\r\n   </g>\r\n   <g id=\"patch_19\">\r\n    <path clip-path=\"url(#p7956b3523d)\" d=\"M 302.737216 239.375625 \r\nL 317.955398 239.375625 \r\nL 317.955398 239.375625 \r\nL 302.737216 239.375625 \r\nz\r\n\" style=\"fill:#0000ff;opacity:0.4;stroke:#ffffff;stroke-linejoin:miter;\"/>\r\n   </g>\r\n   <g id=\"patch_20\">\r\n    <path clip-path=\"url(#p7956b3523d)\" d=\"M 317.955398 239.375625 \r\nL 333.17358 239.375625 \r\nL 333.17358 238.505517 \r\nL 317.955398 238.505517 \r\nz\r\n\" style=\"fill:#0000ff;opacity:0.4;stroke:#ffffff;stroke-linejoin:miter;\"/>\r\n   </g>\r\n   <g id=\"patch_21\">\r\n    <path clip-path=\"url(#p7956b3523d)\" d=\"M 333.17358 239.375625 \r\nL 348.391761 239.375625 \r\nL 348.391761 239.375625 \r\nL 333.17358 239.375625 \r\nz\r\n\" style=\"fill:#0000ff;opacity:0.4;stroke:#ffffff;stroke-linejoin:miter;\"/>\r\n   </g>\r\n   <g id=\"patch_22\">\r\n    <path clip-path=\"url(#p7956b3523d)\" d=\"M 348.391761 239.375625 \r\nL 363.609943 239.375625 \r\nL 363.609943 237.635409 \r\nL 348.391761 237.635409 \r\nz\r\n\" style=\"fill:#0000ff;opacity:0.4;stroke:#ffffff;stroke-linejoin:miter;\"/>\r\n   </g>\r\n   <g id=\"patch_23\">\r\n    <path d=\"M 44.028125 239.375625 \r\nL 44.028125 21.935625 \r\n\" style=\"fill:none;stroke:#ffffff;stroke-linecap:square;stroke-linejoin:miter;stroke-width:0.8;\"/>\r\n   </g>\r\n   <g id=\"patch_24\">\r\n    <path d=\"M 378.828125 239.375625 \r\nL 378.828125 21.935625 \r\n\" style=\"fill:none;stroke:#ffffff;stroke-linecap:square;stroke-linejoin:miter;stroke-width:0.8;\"/>\r\n   </g>\r\n   <g id=\"patch_25\">\r\n    <path d=\"M 44.028125 239.375625 \r\nL 378.828125 239.375625 \r\n\" style=\"fill:none;stroke:#ffffff;stroke-linecap:square;stroke-linejoin:miter;stroke-width:0.8;\"/>\r\n   </g>\r\n   <g id=\"patch_26\">\r\n    <path d=\"M 44.028125 21.935625 \r\nL 378.828125 21.935625 \r\n\" style=\"fill:none;stroke:#ffffff;stroke-linecap:square;stroke-linejoin:miter;stroke-width:0.8;\"/>\r\n   </g>\r\n   <g id=\"text_15\">\r\n    <!-- Number of observation in each y-label -->\r\n    <defs>\r\n     <path d=\"M 7.625 0 \r\nL 7.625 71.578125 \r\nL 17.328125 71.578125 \r\nL 54.9375 15.375 \r\nL 54.9375 71.578125 \r\nL 64.015625 71.578125 \r\nL 64.015625 0 \r\nL 54.296875 0 \r\nL 16.703125 56.25 \r\nL 16.703125 0 \r\nz\r\n\" id=\"ArialMT-78\"/>\r\n     <path d=\"M 6.59375 0 \r\nL 6.59375 51.859375 \r\nL 14.453125 51.859375 \r\nL 14.453125 44.578125 \r\nQ 16.890625 48.390625 20.9375 50.703125 \r\nQ 25 53.03125 30.171875 53.03125 \r\nQ 35.9375 53.03125 39.625 50.640625 \r\nQ 43.3125 48.25 44.828125 43.953125 \r\nQ 50.984375 53.03125 60.84375 53.03125 \r\nQ 68.5625 53.03125 72.703125 48.75 \r\nQ 76.859375 44.484375 76.859375 35.59375 \r\nL 76.859375 0 \r\nL 68.109375 0 \r\nL 68.109375 32.671875 \r\nQ 68.109375 37.9375 67.25 40.25 \r\nQ 66.40625 42.578125 64.15625 43.984375 \r\nQ 61.921875 45.40625 58.890625 45.40625 \r\nQ 53.421875 45.40625 49.796875 41.765625 \r\nQ 46.1875 38.140625 46.1875 30.125 \r\nL 46.1875 0 \r\nL 37.40625 0 \r\nL 37.40625 33.6875 \r\nQ 37.40625 39.546875 35.25 42.46875 \r\nQ 33.109375 45.40625 28.21875 45.40625 \r\nQ 24.515625 45.40625 21.359375 43.453125 \r\nQ 18.21875 41.5 16.796875 37.734375 \r\nQ 15.375 33.984375 15.375 26.90625 \r\nL 15.375 0 \r\nz\r\n\" id=\"ArialMT-109\"/>\r\n     <path d=\"M 42.09375 16.703125 \r\nL 51.171875 15.578125 \r\nQ 49.03125 7.625 43.21875 3.21875 \r\nQ 37.40625 -1.171875 28.375 -1.171875 \r\nQ 17 -1.171875 10.328125 5.828125 \r\nQ 3.65625 12.84375 3.65625 25.484375 \r\nQ 3.65625 38.578125 10.390625 45.796875 \r\nQ 17.140625 53.03125 27.875 53.03125 \r\nQ 38.28125 53.03125 44.875 45.953125 \r\nQ 51.46875 38.875 51.46875 26.03125 \r\nQ 51.46875 25.25 51.421875 23.6875 \r\nL 12.75 23.6875 \r\nQ 13.234375 15.140625 17.578125 10.59375 \r\nQ 21.921875 6.0625 28.421875 6.0625 \r\nQ 33.25 6.0625 36.671875 8.59375 \r\nQ 40.09375 11.140625 42.09375 16.703125 \r\nz\r\nM 13.234375 30.90625 \r\nL 42.1875 30.90625 \r\nQ 41.609375 37.453125 38.875 40.71875 \r\nQ 34.671875 45.796875 27.984375 45.796875 \r\nQ 21.921875 45.796875 17.796875 41.75 \r\nQ 13.671875 37.703125 13.234375 30.90625 \r\nz\r\n\" id=\"ArialMT-101\"/>\r\n     <path id=\"ArialMT-32\"/>\r\n     <path d=\"M 8.6875 0 \r\nL 8.6875 45.015625 \r\nL 0.921875 45.015625 \r\nL 0.921875 51.859375 \r\nL 8.6875 51.859375 \r\nL 8.6875 57.375 \r\nQ 8.6875 62.59375 9.625 65.140625 \r\nQ 10.890625 68.5625 14.078125 70.671875 \r\nQ 17.28125 72.796875 23.046875 72.796875 \r\nQ 26.765625 72.796875 31.25 71.921875 \r\nL 29.9375 64.265625 \r\nQ 27.203125 64.75 24.75 64.75 \r\nQ 20.75 64.75 19.09375 63.03125 \r\nQ 17.4375 61.328125 17.4375 56.640625 \r\nL 17.4375 51.859375 \r\nL 27.546875 51.859375 \r\nL 27.546875 45.015625 \r\nL 17.4375 45.015625 \r\nL 17.4375 0 \r\nz\r\n\" id=\"ArialMT-102\"/>\r\n     <path d=\"M 21 0 \r\nL 1.265625 51.859375 \r\nL 10.546875 51.859375 \r\nL 21.6875 20.796875 \r\nQ 23.484375 15.765625 25 10.359375 \r\nQ 26.171875 14.453125 28.265625 20.21875 \r\nL 39.796875 51.859375 \r\nL 48.828125 51.859375 \r\nL 29.203125 0 \r\nz\r\n\" id=\"ArialMT-118\"/>\r\n     <path d=\"M 40.4375 6.390625 \r\nQ 35.546875 2.25 31.03125 0.53125 \r\nQ 26.515625 -1.171875 21.34375 -1.171875 \r\nQ 12.796875 -1.171875 8.203125 3 \r\nQ 3.609375 7.171875 3.609375 13.671875 \r\nQ 3.609375 17.484375 5.34375 20.625 \r\nQ 7.078125 23.78125 9.890625 25.6875 \r\nQ 12.703125 27.59375 16.21875 28.5625 \r\nQ 18.796875 29.25 24.03125 29.890625 \r\nQ 34.671875 31.15625 39.703125 32.90625 \r\nQ 39.75 34.71875 39.75 35.203125 \r\nQ 39.75 40.578125 37.25 42.78125 \r\nQ 33.890625 45.75 27.25 45.75 \r\nQ 21.046875 45.75 18.09375 43.578125 \r\nQ 15.140625 41.40625 13.71875 35.890625 \r\nL 5.125 37.0625 \r\nQ 6.296875 42.578125 8.984375 45.96875 \r\nQ 11.671875 49.359375 16.75 51.1875 \r\nQ 21.828125 53.03125 28.515625 53.03125 \r\nQ 35.15625 53.03125 39.296875 51.46875 \r\nQ 43.453125 49.90625 45.40625 47.53125 \r\nQ 47.359375 45.171875 48.140625 41.546875 \r\nQ 48.578125 39.3125 48.578125 33.453125 \r\nL 48.578125 21.734375 \r\nQ 48.578125 9.46875 49.140625 6.21875 \r\nQ 49.703125 2.984375 51.375 0 \r\nL 42.1875 0 \r\nQ 40.828125 2.734375 40.4375 6.390625 \r\nz\r\nM 39.703125 26.03125 \r\nQ 34.90625 24.078125 25.34375 22.703125 \r\nQ 19.921875 21.921875 17.671875 20.9375 \r\nQ 15.4375 19.96875 14.203125 18.09375 \r\nQ 12.984375 16.21875 12.984375 13.921875 \r\nQ 12.984375 10.40625 15.640625 8.0625 \r\nQ 18.3125 5.71875 23.4375 5.71875 \r\nQ 28.515625 5.71875 32.46875 7.9375 \r\nQ 36.421875 10.15625 38.28125 14.015625 \r\nQ 39.703125 17 39.703125 22.796875 \r\nz\r\n\" id=\"ArialMT-97\"/>\r\n     <path d=\"M 40.4375 19 \r\nL 49.078125 17.875 \r\nQ 47.65625 8.9375 41.8125 3.875 \r\nQ 35.984375 -1.171875 27.484375 -1.171875 \r\nQ 16.84375 -1.171875 10.375 5.78125 \r\nQ 3.90625 12.75 3.90625 25.734375 \r\nQ 3.90625 34.125 6.6875 40.421875 \r\nQ 9.46875 46.734375 15.15625 49.875 \r\nQ 20.84375 53.03125 27.546875 53.03125 \r\nQ 35.984375 53.03125 41.359375 48.75 \r\nQ 46.734375 44.484375 48.25 36.625 \r\nL 39.703125 35.296875 \r\nQ 38.484375 40.53125 35.375 43.15625 \r\nQ 32.28125 45.796875 27.875 45.796875 \r\nQ 21.234375 45.796875 17.078125 41.03125 \r\nQ 12.9375 36.28125 12.9375 25.984375 \r\nQ 12.9375 15.53125 16.9375 10.796875 \r\nQ 20.953125 6.0625 27.390625 6.0625 \r\nQ 32.5625 6.0625 36.03125 9.234375 \r\nQ 39.5 12.40625 40.4375 19 \r\nz\r\n\" id=\"ArialMT-99\"/>\r\n     <path d=\"M 6.59375 0 \r\nL 6.59375 71.578125 \r\nL 15.375 71.578125 \r\nL 15.375 45.90625 \r\nQ 21.53125 53.03125 30.90625 53.03125 \r\nQ 36.671875 53.03125 40.921875 50.75 \r\nQ 45.171875 48.484375 47 44.484375 \r\nQ 48.828125 40.484375 48.828125 32.859375 \r\nL 48.828125 0 \r\nL 40.046875 0 \r\nL 40.046875 32.859375 \r\nQ 40.046875 39.453125 37.1875 42.453125 \r\nQ 34.328125 45.453125 29.109375 45.453125 \r\nQ 25.203125 45.453125 21.75 43.421875 \r\nQ 18.3125 41.40625 16.84375 37.9375 \r\nQ 15.375 34.46875 15.375 28.375 \r\nL 15.375 0 \r\nz\r\n\" id=\"ArialMT-104\"/>\r\n     <path d=\"M 6.203125 -19.96875 \r\nL 5.21875 -11.71875 \r\nQ 8.109375 -12.5 10.25 -12.5 \r\nQ 13.1875 -12.5 14.9375 -11.515625 \r\nQ 16.703125 -10.546875 17.828125 -8.796875 \r\nQ 18.65625 -7.46875 20.515625 -2.25 \r\nQ 20.75 -1.515625 21.296875 -0.09375 \r\nL 1.609375 51.859375 \r\nL 11.078125 51.859375 \r\nL 21.875 21.828125 \r\nQ 23.96875 16.109375 25.640625 9.8125 \r\nQ 27.15625 15.875 29.25 21.625 \r\nL 40.328125 51.859375 \r\nL 49.125 51.859375 \r\nL 29.390625 -0.875 \r\nQ 26.21875 -9.421875 24.46875 -12.640625 \r\nQ 22.125 -17 19.09375 -19.015625 \r\nQ 16.0625 -21.046875 11.859375 -21.046875 \r\nQ 9.328125 -21.046875 6.203125 -19.96875 \r\nz\r\n\" id=\"ArialMT-121\"/>\r\n     <path d=\"M 3.171875 21.484375 \r\nL 3.171875 30.328125 \r\nL 30.171875 30.328125 \r\nL 30.171875 21.484375 \r\nz\r\n\" id=\"ArialMT-45\"/>\r\n     <path d=\"M 6.390625 0 \r\nL 6.390625 71.578125 \r\nL 15.1875 71.578125 \r\nL 15.1875 0 \r\nz\r\n\" id=\"ArialMT-108\"/>\r\n    </defs>\r\n    <g style=\"fill:#262626;\" transform=\"translate(110.381563 15.935625)scale(0.12 -0.12)\">\r\n     <use xlink:href=\"#ArialMT-78\"/>\r\n     <use x=\"72.216797\" xlink:href=\"#ArialMT-117\"/>\r\n     <use x=\"127.832031\" xlink:href=\"#ArialMT-109\"/>\r\n     <use x=\"211.132812\" xlink:href=\"#ArialMT-98\"/>\r\n     <use x=\"266.748047\" xlink:href=\"#ArialMT-101\"/>\r\n     <use x=\"322.363281\" xlink:href=\"#ArialMT-114\"/>\r\n     <use x=\"355.664062\" xlink:href=\"#ArialMT-32\"/>\r\n     <use x=\"383.447266\" xlink:href=\"#ArialMT-111\"/>\r\n     <use x=\"439.0625\" xlink:href=\"#ArialMT-102\"/>\r\n     <use x=\"466.845703\" xlink:href=\"#ArialMT-32\"/>\r\n     <use x=\"494.628906\" xlink:href=\"#ArialMT-111\"/>\r\n     <use x=\"550.244141\" xlink:href=\"#ArialMT-98\"/>\r\n     <use x=\"605.859375\" xlink:href=\"#ArialMT-115\"/>\r\n     <use x=\"655.859375\" xlink:href=\"#ArialMT-101\"/>\r\n     <use x=\"711.474609\" xlink:href=\"#ArialMT-114\"/>\r\n     <use x=\"744.775391\" xlink:href=\"#ArialMT-118\"/>\r\n     <use x=\"794.775391\" xlink:href=\"#ArialMT-97\"/>\r\n     <use x=\"850.390625\" xlink:href=\"#ArialMT-116\"/>\r\n     <use x=\"878.173828\" xlink:href=\"#ArialMT-105\"/>\r\n     <use x=\"900.390625\" xlink:href=\"#ArialMT-111\"/>\r\n     <use x=\"956.005859\" xlink:href=\"#ArialMT-110\"/>\r\n     <use x=\"1011.621094\" xlink:href=\"#ArialMT-32\"/>\r\n     <use x=\"1039.404297\" xlink:href=\"#ArialMT-105\"/>\r\n     <use x=\"1061.621094\" xlink:href=\"#ArialMT-110\"/>\r\n     <use x=\"1117.236328\" xlink:href=\"#ArialMT-32\"/>\r\n     <use x=\"1145.019531\" xlink:href=\"#ArialMT-101\"/>\r\n     <use x=\"1200.634766\" xlink:href=\"#ArialMT-97\"/>\r\n     <use x=\"1256.25\" xlink:href=\"#ArialMT-99\"/>\r\n     <use x=\"1306.25\" xlink:href=\"#ArialMT-104\"/>\r\n     <use x=\"1361.865234\" xlink:href=\"#ArialMT-32\"/>\r\n     <use x=\"1389.648438\" xlink:href=\"#ArialMT-121\"/>\r\n     <use x=\"1439.648438\" xlink:href=\"#ArialMT-45\"/>\r\n     <use x=\"1472.949219\" xlink:href=\"#ArialMT-108\"/>\r\n     <use x=\"1495.166016\" xlink:href=\"#ArialMT-97\"/>\r\n     <use x=\"1550.78125\" xlink:href=\"#ArialMT-98\"/>\r\n     <use x=\"1606.396484\" xlink:href=\"#ArialMT-101\"/>\r\n     <use x=\"1662.011719\" xlink:href=\"#ArialMT-108\"/>\r\n    </g>\r\n   </g>\r\n  </g>\r\n </g>\r\n <defs>\r\n  <clipPath id=\"p7956b3523d\">\r\n   <rect height=\"217.44\" width=\"334.8\" x=\"44.028125\" y=\"21.935625\"/>\r\n  </clipPath>\r\n </defs>\r\n</svg>\r\n",
      "image/png": "[encoded data removed]"
     },
     "metadata": {}
    },
    {
     "output_type": "stream",
     "name": "stdout",
     "text": "Number of observation in each y-label\n"
    },
    {
     "output_type": "execute_result",
     "data": {
      "text/plain": "            values\ncount   414.000000\nmean    283.185990\nstd     449.961361\nmin       1.000000\n1%        2.000000\n10%      13.300000\n20%      34.200000\n30%      75.600000\n40%     105.000000\n50%     145.000000\n60%     192.400000\n70%     271.100000\n80%     384.600000\n85%     481.350000\n90%     605.000000\n95%     977.900000\nmax    3616.000000",
      "text/html": "<div>\n<style scoped>\n    .dataframe tbody tr th:only-of-type {\n        vertical-align: middle;\n    }\n\n    .dataframe tbody tr th {\n        vertical-align: top;\n    }\n\n    .dataframe thead th {\n        text-align: right;\n    }\n</style>\n<table border=\"1\" class=\"dataframe\">\n  <thead>\n    <tr style=\"text-align: right;\">\n      <th></th>\n      <th>values</th>\n    </tr>\n  </thead>\n  <tbody>\n    <tr>\n      <th>count</th>\n      <td>414.000000</td>\n    </tr>\n    <tr>\n      <th>mean</th>\n      <td>283.185990</td>\n    </tr>\n    <tr>\n      <th>std</th>\n      <td>449.961361</td>\n    </tr>\n    <tr>\n      <th>min</th>\n      <td>1.000000</td>\n    </tr>\n    <tr>\n      <th>1%</th>\n      <td>2.000000</td>\n    </tr>\n    <tr>\n      <th>10%</th>\n      <td>13.300000</td>\n    </tr>\n    <tr>\n      <th>20%</th>\n      <td>34.200000</td>\n    </tr>\n    <tr>\n      <th>30%</th>\n      <td>75.600000</td>\n    </tr>\n    <tr>\n      <th>40%</th>\n      <td>105.000000</td>\n    </tr>\n    <tr>\n      <th>50%</th>\n      <td>145.000000</td>\n    </tr>\n    <tr>\n      <th>60%</th>\n      <td>192.400000</td>\n    </tr>\n    <tr>\n      <th>70%</th>\n      <td>271.100000</td>\n    </tr>\n    <tr>\n      <th>80%</th>\n      <td>384.600000</td>\n    </tr>\n    <tr>\n      <th>85%</th>\n      <td>481.350000</td>\n    </tr>\n    <tr>\n      <th>90%</th>\n      <td>605.000000</td>\n    </tr>\n    <tr>\n      <th>95%</th>\n      <td>977.900000</td>\n    </tr>\n    <tr>\n      <th>max</th>\n      <td>3616.000000</td>\n    </tr>\n  </tbody>\n</table>\n</div>"
     },
     "metadata": {},
     "execution_count": 37
    }
   ],
   "source": [
    "_tag_to_observation =   np.array( [i for i in _freqDist.values()])\n",
    "\n",
    "# np.histogram(_tag_to_observation,bins=np.arange(10),density=True)\n",
    "\n",
    "Originl_Label_to_samples=sns.distplot(_tag_to_observation,bins=20,kde=False,rug=False,color=\"blue\")\n",
    "plt.title(\"Number of observation in each y-label\")\n",
    "plt.ylabel(\"distribution\")\n",
    "plt.show()\n",
    "\n",
    "_path = os.path.join(os.path.curdir,\"Visuals\",\"Originl_Label_to_samples.png\")\n",
    "Originl_Label_to_samples.get_figure().savefig(_path)\n",
    "\n",
    "\n",
    "print(\"Number of observation in each y-label\")\n",
    "_tag_to_observation = pd.DataFrame(_tag_to_observation)\n",
    "_tag_to_observation.columns =[\"values\"]\n",
    "_tag_to_observation.describe([.01,.1,.2,.3,.4,.5,.6,.7,.80,.85,.90,.95])\n"
   ]
  },
  {
   "cell_type": "code",
   "execution_count": 304,
   "metadata": {},
   "outputs": [],
   "source": [
    "len(list(filter(lambda item: _freqDist[item]<=500,_freqDist.keys())))\n",
    "\n",
    "# list(filter(lambda item: _freqDist[item]>=500,_freqDist.keys()))\n",
    "\n",
    "# pd.DataFrame.from_dict(_freqDist, orient='index').to_csv(\"Topics.csv\")\n",
    "\n"
   ]
  },
  {
   "cell_type": "code",
   "execution_count": 177,
   "metadata": {},
   "outputs": [
    {
     "output_type": "execute_result",
     "data": {
      "text/plain": "['volunteering', 'philanthropy']"
     },
     "metadata": {},
     "execution_count": 177
    }
   ],
   "source": [
    "test =\"volunteering-&-philanthropy\"\n",
    "test = re.sub(\"[^a-zA-Z0-9.]\", \" \",test)\n",
    "\n",
    "re.findall(\"\\w+\",test)\n",
    "# test.split()"
   ]
  },
  {
   "cell_type": "code",
   "execution_count": 178,
   "metadata": {},
   "outputs": [
    {
     "output_type": "execute_result",
     "data": {
      "text/plain": "[['baseball']]"
     },
     "metadata": {},
     "execution_count": 178
    }
   ],
   "source": [
    "_y_labels = []\n",
    "tokens = re.sub(\"[^a-zA-Z0-9.]\", \" \",\"baseball\")\n",
    "\n",
    "_y_labels.append(re.findall(\"\\w+\",tokens))\n",
    "_y_labels"
   ]
  },
  {
   "cell_type": "code",
   "execution_count": 275,
   "metadata": {
    "tags": []
   },
   "outputs": [
    {
     "output_type": "stream",
     "name": "stdout",
     "text": "tokens\n0        [recipes]\n1       [baseball]\n2  [horse, racing]\n3   [wall, street]\n4  [stock, market]\n            tokens                                            vectors\n0        [recipes]  [2.3017024993896484, -2.852296829223633, 0.465...\n1       [baseball]  [2.0974318981170654, 0.2542155385017395, 1.679...\n2  [horse, racing]  [1.3520927429199219, -0.49110686779022217, -3....\n3   [wall, street]  [0.6023852825164795, -4.137448310852051, -2.45...\n4  [stock, market]  [0.9196388721466064, -0.9837928712368011, -4.2...\n"
    },
    {
     "output_type": "execute_result",
     "data": {
      "text/plain": "            tokens         0         1         2         3         4  \\\n0        [recipes]  2.301702 -2.852297  0.465997 -0.365192  4.828915   \n1       [baseball]  2.097432  0.254216  1.679957 -1.628165  2.529846   \n2  [horse, racing]  1.352093 -0.491107 -3.500783  2.577116  0.872198   \n3   [wall, street]  0.602385 -4.137448 -2.451089 -2.797764  0.472019   \n4  [stock, market]  0.919639 -0.983793 -4.227963 -0.034910 -0.238504   \n\n          5         6         7         8  ...        86        87        88  \\\n0 -0.562882 -0.009617 -0.375305  3.411428  ... -0.185477  0.458055  1.380117   \n1 -1.090904  2.825119 -0.495164 -2.018967  ... -1.763401  0.119695 -2.136330   \n2 -1.073466  1.547885  1.883559  2.192655  ... -0.847921 -1.548542 -2.896862   \n3  4.691397 -0.058996 -0.844985  1.675240  ...  0.104945 -4.721529 -3.037673   \n4  1.441179  3.039502  2.611028  1.223458  ...  1.134270 -3.286439 -0.781613   \n\n         89        90        91        92        93        94        95  \n0 -1.407973  1.442473 -2.257458  1.137747  2.015401 -0.873871 -0.541069  \n1 -1.468883 -0.130196  1.604398  0.825076  3.994413  0.218642  0.604902  \n2 -1.587195  5.201728  0.668754 -1.196846  6.801654  3.365251  0.613260  \n3 -1.163536  0.165164  4.052146 -0.117378  8.948750 -1.843197  0.011483  \n4 -0.076953  1.297325  1.523742 -2.846728  6.206813  2.591460 -0.936216  \n\n[5 rows x 97 columns]",
      "text/html": "<div>\n<style scoped>\n    .dataframe tbody tr th:only-of-type {\n        vertical-align: middle;\n    }\n\n    .dataframe tbody tr th {\n        vertical-align: top;\n    }\n\n    .dataframe thead th {\n        text-align: right;\n    }\n</style>\n<table border=\"1\" class=\"dataframe\">\n  <thead>\n    <tr style=\"text-align: right;\">\n      <th></th>\n      <th>tokens</th>\n      <th>0</th>\n      <th>1</th>\n      <th>2</th>\n      <th>3</th>\n      <th>4</th>\n      <th>5</th>\n      <th>6</th>\n      <th>7</th>\n      <th>8</th>\n      <th>...</th>\n      <th>86</th>\n      <th>87</th>\n      <th>88</th>\n      <th>89</th>\n      <th>90</th>\n      <th>91</th>\n      <th>92</th>\n      <th>93</th>\n      <th>94</th>\n      <th>95</th>\n    </tr>\n  </thead>\n  <tbody>\n    <tr>\n      <th>0</th>\n      <td>[recipes]</td>\n      <td>2.301702</td>\n      <td>-2.852297</td>\n      <td>0.465997</td>\n      <td>-0.365192</td>\n      <td>4.828915</td>\n      <td>-0.562882</td>\n      <td>-0.009617</td>\n      <td>-0.375305</td>\n      <td>3.411428</td>\n      <td>...</td>\n      <td>-0.185477</td>\n      <td>0.458055</td>\n      <td>1.380117</td>\n      <td>-1.407973</td>\n      <td>1.442473</td>\n      <td>-2.257458</td>\n      <td>1.137747</td>\n      <td>2.015401</td>\n      <td>-0.873871</td>\n      <td>-0.541069</td>\n    </tr>\n    <tr>\n      <th>1</th>\n      <td>[baseball]</td>\n      <td>2.097432</td>\n      <td>0.254216</td>\n      <td>1.679957</td>\n      <td>-1.628165</td>\n      <td>2.529846</td>\n      <td>-1.090904</td>\n      <td>2.825119</td>\n      <td>-0.495164</td>\n      <td>-2.018967</td>\n      <td>...</td>\n      <td>-1.763401</td>\n      <td>0.119695</td>\n      <td>-2.136330</td>\n      <td>-1.468883</td>\n      <td>-0.130196</td>\n      <td>1.604398</td>\n      <td>0.825076</td>\n      <td>3.994413</td>\n      <td>0.218642</td>\n      <td>0.604902</td>\n    </tr>\n    <tr>\n      <th>2</th>\n      <td>[horse, racing]</td>\n      <td>1.352093</td>\n      <td>-0.491107</td>\n      <td>-3.500783</td>\n      <td>2.577116</td>\n      <td>0.872198</td>\n      <td>-1.073466</td>\n      <td>1.547885</td>\n      <td>1.883559</td>\n      <td>2.192655</td>\n      <td>...</td>\n      <td>-0.847921</td>\n      <td>-1.548542</td>\n      <td>-2.896862</td>\n      <td>-1.587195</td>\n      <td>5.201728</td>\n      <td>0.668754</td>\n      <td>-1.196846</td>\n      <td>6.801654</td>\n      <td>3.365251</td>\n      <td>0.613260</td>\n    </tr>\n    <tr>\n      <th>3</th>\n      <td>[wall, street]</td>\n      <td>0.602385</td>\n      <td>-4.137448</td>\n      <td>-2.451089</td>\n      <td>-2.797764</td>\n      <td>0.472019</td>\n      <td>4.691397</td>\n      <td>-0.058996</td>\n      <td>-0.844985</td>\n      <td>1.675240</td>\n      <td>...</td>\n      <td>0.104945</td>\n      <td>-4.721529</td>\n      <td>-3.037673</td>\n      <td>-1.163536</td>\n      <td>0.165164</td>\n      <td>4.052146</td>\n      <td>-0.117378</td>\n      <td>8.948750</td>\n      <td>-1.843197</td>\n      <td>0.011483</td>\n    </tr>\n    <tr>\n      <th>4</th>\n      <td>[stock, market]</td>\n      <td>0.919639</td>\n      <td>-0.983793</td>\n      <td>-4.227963</td>\n      <td>-0.034910</td>\n      <td>-0.238504</td>\n      <td>1.441179</td>\n      <td>3.039502</td>\n      <td>2.611028</td>\n      <td>1.223458</td>\n      <td>...</td>\n      <td>1.134270</td>\n      <td>-3.286439</td>\n      <td>-0.781613</td>\n      <td>-0.076953</td>\n      <td>1.297325</td>\n      <td>1.523742</td>\n      <td>-2.846728</td>\n      <td>6.206813</td>\n      <td>2.591460</td>\n      <td>-0.936216</td>\n    </tr>\n  </tbody>\n</table>\n<p>5 rows × 97 columns</p>\n</div>"
     },
     "metadata": {},
     "execution_count": 275
    }
   ],
   "source": [
    "_y_labels = pd.DataFrame()\n",
    "\n",
    "for tokens in _freqDist.keys():\n",
    "    try:\n",
    "        tokens = re.sub(\"[^a-zA-Z0-9.]\", \" \",tokens)\n",
    "        _item = re.findall(\"\\w+\",tokens)\n",
    "        _y_labels=_y_labels.append({\"tokens\":_item},ignore_index=True)\n",
    "    except (TypeError, AttributeError):\n",
    "        print(f\"Error {tokens}\")\n",
    "# _y_labels = pd.DataFrame(_y_labels)\n",
    "print(_y_labels.head())\n",
    "\n",
    "\n",
    "import spacy\n",
    "nlp = spacy.load(\"en_core_web_sm\")\n",
    "# doc = nlp(\"recipes food\")\n",
    "# len(doc[1].vector)\n",
    "def get_vectors(_ls):\n",
    "    doc = nlp(\"-\".join(_ls))\n",
    "    _results = np.zeros(96)\n",
    "    for word in doc:\n",
    "        _results+=word.vector\n",
    "    return _results\n",
    "\n",
    "_y_labels[\"vectors\"] = _y_labels.tokens.apply(lambda x:get_vectors(x))\n",
    "\n",
    "print(_y_labels.head())\n",
    "\n",
    "res = _y_labels['vectors'].apply(pd.Series)\n",
    "# _y_labels.reset_index( inplace=True)\n",
    "# res.reset_index(inplace=True)\n",
    "_y_labels=pd.concat([_y_labels,res],axis=1)\n",
    "_y_labels=_y_labels.drop(\"vectors\",axis=1)\n",
    "_y_labels.head()"
   ]
  },
  {
   "cell_type": "code",
   "execution_count": 281,
   "metadata": {},
   "outputs": [],
   "source": [
    "from sklearn.cluster import KMeans\n",
    "\n",
    "kmeans = KMeans(n_clusters=30, init='k-means++', max_iter=300, n_init=10, random_state=0)\n",
    "pred_y = kmeans.fit_predict(_y_labels.drop(\"tokens\",axis=1))\n",
    "# plt.scatter(X[:,0], X[:,1])\n",
    "# plt.scatter(kmeans.cluster_centers_[:, 0], kmeans.cluster_centers_[:, 1], s=300, c='red')\n",
    "# plt.show()\n",
    "_y_labels[\"cls\"] = pred_y"
   ]
  },
  {
   "cell_type": "code",
   "execution_count": 284,
   "metadata": {},
   "outputs": [],
   "source": [
    "_y_labels[[\"tokens\",\"cls\"]].to_csv(\"clusters.csv\")"
   ]
  },
  {
   "cell_type": "code",
   "execution_count": 44,
   "metadata": {},
   "outputs": [],
   "source": [
    "#test experiment \n",
    "\n",
    "from code_base.config import config\n",
    "import os   \n",
    "_config  = config()\n",
    "\n",
    "_file=open(os.path.join(_config._data_dump,_config.DATA_FRAME),\"rb\")\n",
    "import pickle\n",
    "# _config.DATA_FRAME\n",
    "\n",
    "data_frame=pickle.load(_file)\n"
   ]
  },
  {
   "cell_type": "code",
   "execution_count": 45,
   "metadata": {},
   "outputs": [],
   "source": [
    "STOPWORDS = set(stopwords.words('english'))\n",
    "def clean_text(text):\n",
    "    text = text.lower()\n",
    "    text = re.sub(r\"what's\", \"what is \", text)\n",
    "    text = re.sub(r\"\\'s\", \" \", text)\n",
    "    text = re.sub(r\"\\'ve\", \" have \", text)\n",
    "    text = re.sub(r\"can't\", \"cannot \", text)\n",
    "    text = re.sub(r\"n't\", \" not \", text)\n",
    "    text = re.sub(r\"i'm\", \"i am \", text)\n",
    "    text = re.sub(' u s ', 'usa', text)\n",
    "    text = re.sub(r\"\\'re\", \" are \", text)\n",
    "    text = re.sub(r\"\\'d\", \" would \", text)\n",
    "    text = re.sub(r\"\\'ll\", \" will \", text)\n",
    "    text = re.sub(r\"\\'scuse\", \" excuse \", text)\n",
    "    text = re.sub('\\W', ' ', text)\n",
    "    text = re.sub('\\s+', ' ', text)\n",
    "    text = ' '.join(word for word in text.split() if word not in STOPWORDS)\n",
    "    \n",
    "    text = text.strip(' ')\n",
    "    return text"
   ]
  },
  {
   "cell_type": "code",
   "execution_count": 52,
   "metadata": {},
   "outputs": [
    {
     "output_type": "execute_result",
     "data": {
      "text/plain": "'homemanag lifefashion beautyhealthi livingparentinglov sexfood wisdomastrolog thread celeb fashion videomor familyfinanci fitwhat dinnermo motherhoodholiday moment recip search yahoo shine shine search food wednesday decemb relat topic reinvent bloghergreenfal beautyholiday gift guidevit wallet waistlin friend recip user cookinglight com fri oct pdt comment post comment read author report abus sign part yahoo shine dinner newslett get quick new dinner idea veggi side easi dessert drink cook budget skimp nutrit feel good feed famili creativ delect recip roast chicken potato butternut squash price per serv ingredi tablespoon minc garlic divid teaspoon salt divid teaspoon fresh ground black pepper divid teaspoon dri rub sage pound roast chicken cook spray ounc red potato cut wedg cup cube peel butternut squash ounc tablespoon butter melt prepar preheat oven combin tablespoon garlic teaspoon salt teaspoon pepper sage small bowl remov discard giblet neck chicken start neck caviti loosen skin breast drumstick insert finger gentl push skin meat lift wing tip back tuck chicken rub garlic mixtur loosen skin place chicken breast side rack broiler pan coat cook spray place rack broiler pan combin potato squash butter teaspoon garlic teaspoon salt teaspoon pepper arrang veget mixtur around chicken bake hour thermomet insert meati part thigh regist let stand minut discard skin nutrit inform calori fat sat mono poli protein carbohydr fiber cholesterol iron sodium calcium see weeknight chicken recip shrimp fra diavolo price per serv sure use inexpens medium size shrimp garlicki spici classic pantri checklist linguin extra virgin oliv oil minc garlic medium shrimp pound peel devein dice onion crush red pepper dri basil dri oregano tomato past fresh lemon juic can crush tomato dice tomato view recip shrimp fra diavolo see superfast pasta recip grown grill chees sandwich price per serv new take familiar favorit pair grill chees blt luscious veggi pack sandwich feel like indulg serv zesti dill pickl spear extra room budget pair sweet tart hard cider pantri checklist red onion garlic clove shred reduc fat sharp white cheddar chees white bread fresh spinach leav tomato center cut bacon view recip grown grill chees sandwich see ingredi sandwich stew pork squash price per serv serv simpl pantri friend corn muffin complet meal pantri checklist onion garlic clove boneless pork shoulder lb chili powder ground cumin ground red pepper chicken broth fat free less sodium stew tomato oz butternut squash view recip stew pork squash see dinner tonight soup stew beef barley soup price per serv chuck roast sale buy larg one freez rest later ask butcher cut amount need pantri checklist boneless chuck roast lb carrot celeri onion mushroom beef broth cup fat free less sodium pearl barley bay leaf view recip beef barley soup see superfast soup dan dan noodl price per serv frozen egg noodl worth seek budget friend yet tastier version dri pantri checklist frozen fresh wide chines egg noodl peanut soy sauc low sodium sambal oelek ground fresh chile past sugar garlic fresh ginger lean ground pork oz lime juic green onion cucumb cilantro view recip dan dan noodl see superfast asian recip bistro brais chicken price per serv pantri checklist butter bone chicken thigh carrot onion celeri dri pit plum thyme sage dijon mustard chicken broth fat free less sodium egg noodl view recip bistro brais chicken continu read budget friend recip miss stretch food budget fish budget stock holiday pantri relat recip healthi cook light budget communiti comment post sandieo tue oct pdt sinc shrimp size econom joke make cheap meatless meal egg rice bean etc articl silli btw sambal olek cheap either report abus post az crazi tue oct pdt would interest see author came price per serv calcul see could make dish less twice articl claim live part countri food relat inexpens compar place report abus post liz tue oct pdt shrimp medium size count around super walmart probabl small serv make easier come price report abus post ஜ weetþea urri ஜ mon nov pst keep mind serv size oz meat fish cup carb cup veggi yeah say serv size averag lineback report abus post rachel mon nov pst right sweet pea report abus post mon nov pst meat dish may cheap us would hope accompani ingredi sandi scare make sambal lol report abus post shanic wed nov pst roast chicken potato butternut squash sound good iam go tri see tast noth like good dinner report abus post joan fri nov pst sinc sambal olek expens buy groceri store got go asian market reason buy coconut milk sesam oil save ton money report abus post joan fri nov pst sinc sambal olek expens buy groceri store got go asian market reason buy coconut milk sesam oil save ton money report abus comment leav comment must sign post comment sign person inform new user sign mail weather horoscop let talk manag stuff write post food cheat sheet organ cooki swap easi stepsquick easi parti foodsth key success potato yummi pumpkin recip popular food idea turkey leftov wed nov pstuser post two reason grandma alway better grandma mon nov minut meal make em guilti guilt free mon nov pstthe one cooki bake holiday wed nov psta lesson etiquett easi way rememb set tabl mon nov pst popular food food pick day best pb j america favorit take look top entri southern peanut grower contest reimagin pb j food byte get head start holiday bake time favorit christma cooki recip bhg com read yahoo dog cat question answer read help yahoo support classroom learn standout sandwich contest recip contest five clever holiday cocktail app see app sponsor link tip lose stomach fatfollow simpl diet tip lose lbs weekcdkitchen comsup cheap car insuranceget super cheap auto insur quot believ rate www usinsuranceonlin comfre food recipesfind hundr delici recip satisfi type tastesrecip aarp orgbudgetsearch directori budget solut busi www busi com right shine manag life way turn hobbi busi tip hot holiday parti low money resolut coupl never set manag life fashion beauti holiday parti dress natur product dri winter skinfashion make us sad mankini fashion beauti healthi live sorri dad talk ovul fight cold flu work ttoday medit rut need way healthi live parent sport train month old parent guru opt holiday madnessdo kid use palm pilot parent love sex user post help need advic strangest facebook hook stori help want stay strong depress boyfriend love sex food beauti blood orang recip winter easi pie tip tim nugent top chef dessertstop top chef crush food thread celebr bargain hunter backstag victoria secret fashion showno ugli duckl mila kuni natali portman style thread famili toy top toy list reveal ultim chic holiday décor surviv mall black friday famili favorit site mari claireglamourcosmopolitanstyl cominstyler simpleprevent self magazinelucki magazine wellepicuriousgood housekeepingdoubl xstylecast '"
     },
     "metadata": {},
     "execution_count": 52
    }
   ],
   "source": [
    "stemming(clean_text(data_frame.body[0]))"
   ]
  },
  {
   "cell_type": "code",
   "execution_count": 2,
   "metadata": {},
   "outputs": [],
   "source": [
    "\n",
    "import pandas as pd\n",
    "import numpy as np\n",
    "import matplotlib.pyplot as plt\n",
    "import json\n",
    "import nltk\n",
    "from nltk.corpus import stopwords\n",
    "from nltk.stem.snowball import SnowballStemmer\n",
    "from bs4 import BeautifulSoup\n",
    "import re\n",
    "import csv\n",
    "from tqdm import tqdm\n",
    "from sklearn.model_selection import train_test_split\n",
    "from sklearn.feature_extraction.text import TfidfVectorizer\n",
    "from sklearn.metrics import f1_score\n",
    "from sklearn.metrics import accuracy_score\n",
    "from sklearn.metrics import hamming_loss\n",
    "from skmultilearn.problem_transform import BinaryRelevance\n",
    "from sklearn.naive_bayes import GaussianNB\n",
    "from skmultilearn.problem_transform import ClassifierChain\n",
    "from sklearn.linear_model import LogisticRegression\n",
    "from skmultilearn.problem_transform import LabelPowerset\n",
    "from skmultilearn.adapt import MLkNN\n",
    "from scipy.sparse import csr_matrix, lil_matrix\n",
    "from sklearn.preprocessing import MultiLabelBinarizer\n",
    "import pickle"
   ]
  },
  {
   "cell_type": "code",
   "execution_count": 53,
   "metadata": {},
   "outputs": [],
   "source": [
    "stemmer = SnowballStemmer(\"english\")\n",
    "\n",
    "def stemming(sentence):\n",
    " stemSentence = \"\"\n",
    " for word in sentence.split():\n",
    "    stem = stemmer.stem(word)\n",
    "    stemSentence += stem\n",
    "    \n",
    "    stemSentence = stemSentence.strip()\n",
    "    stemSentence += \" \"\n",
    " return stemSentence"
   ]
  },
  {
   "cell_type": "code",
   "execution_count": 54,
   "metadata": {},
   "outputs": [],
   "source": [
    "data_frame['body'] = data_frame.body.apply(clean_text)\n",
    "data_frame['body'] = data_frame['body'].apply(stemming)"
   ]
  },
  {
   "cell_type": "code",
   "execution_count": 67,
   "metadata": {},
   "outputs": [],
   "source": [
    "data_frame[\"no_words\"]=data_frame.body.apply(lambda x: len(x.split()))"
   ]
  },
  {
   "cell_type": "code",
   "execution_count": 82,
   "metadata": {},
   "outputs": [],
   "source": [
    "data_frame1=data_frame[(data_frame.no_words >=10) & (data_frame.no_words <=500)]"
   ]
  },
  {
   "cell_type": "code",
   "execution_count": 83,
   "metadata": {},
   "outputs": [],
   "source": [
    "train, test = train_test_split(data_frame1, random_state=42, test_size=0.30, shuffle=True)"
   ]
  },
  {
   "cell_type": "code",
   "execution_count": 119,
   "metadata": {},
   "outputs": [],
   "source": [
    "vectorizer = TfidfVectorizer(strip_accents='unicode', analyzer='word', ngram_range=(1,3), norm='l2', max_features = 10000)\n",
    "train_x=vectorizer.fit_transform(train.body)\n",
    "test_x=vectorizer.transform(test.body)"
   ]
  },
  {
   "cell_type": "code",
   "execution_count": 92,
   "metadata": {},
   "outputs": [],
   "source": [
    "train.head()\n",
    "\n",
    "train['key1'] = train.Keywords.apply(lambda x:re.sub('\\s', ' ', x[0]))\n",
    "test['key1'] = test.Keywords.apply(lambda x:re.sub('\\s', ' ', x[0]))"
   ]
  },
  {
   "cell_type": "code",
   "execution_count": 106,
   "metadata": {},
   "outputs": [],
   "source": [
    "_lists = train.key1.value_counts().head(5).index"
   ]
  },
  {
   "cell_type": "code",
   "execution_count": 65,
   "metadata": {},
   "outputs": [
    {
     "output_type": "execute_result",
     "data": {
      "text/plain": "TfidfVectorizer(max_features=10000, ngram_range=(1, 3), strip_accents='unicode')"
     },
     "metadata": {},
     "execution_count": 65
    }
   ],
   "source": [
    "vectorizer"
   ]
  },
  {
   "cell_type": "code",
   "execution_count": null,
   "metadata": {},
   "outputs": [],
   "source": []
  },
  {
   "cell_type": "code",
   "execution_count": 107,
   "metadata": {},
   "outputs": [],
   "source": [
    "from sklearn.feature_extraction.text import CountVectorizer\n",
    "\n",
    "ve = CountVectorizer(vocabulary=_lists)\n",
    "y = ve.fit_transform(train.key1)\n",
    "train_y=pd.DataFrame(y.todense(), columns=ve.get_feature_names())\n",
    "y= ve.transform(test.key1)\n",
    "test_y=pd.DataFrame(y.todense(), columns=ve.get_feature_names())"
   ]
  },
  {
   "cell_type": "code",
   "execution_count": 114,
   "metadata": {},
   "outputs": [],
   "source": [
    "train_y[\"unknown\"]= [1 if i==0 else 0 for i in train_y.sum(axis=1)]\n",
    "test_y[\"unknown\"]= [1 if i==0 else 0 for i in test_y.sum(axis=1)]"
   ]
  },
  {
   "cell_type": "code",
   "execution_count": 61,
   "metadata": {},
   "outputs": [],
   "source": [
    "X_dtm = vect.fit_transform(train.body)"
   ]
  },
  {
   "cell_type": "code",
   "execution_count": 123,
   "metadata": {},
   "outputs": [
    {
     "output_type": "execute_result",
     "data": {
      "text/plain": "MLkNN()"
     },
     "metadata": {},
     "execution_count": 123
    }
   ],
   "source": [
    "ml_classifier = MLkNN(k=10)\n",
    "\n",
    "x_train = lil_matrix(train_x).toarray()\n",
    "y_train = lil_matrix(train_y).toarray()\n",
    "x_test = lil_matrix(test_x).toarray()\n",
    "ml_classifier.fit(x_train, y_train)"
   ]
  },
  {
   "cell_type": "code",
   "execution_count": 124,
   "metadata": {},
   "outputs": [
    {
     "output_type": "error",
     "ename": "NameError",
     "evalue": "name 'y_test' is not defined",
     "traceback": [
      "\u001b[1;31m---------------------------------------------------------------------------\u001b[0m",
      "\u001b[1;31mNameError\u001b[0m                                 Traceback (most recent call last)",
      "\u001b[1;32m<ipython-input-124-ea93cb367db0>\u001b[0m in \u001b[0;36m<module>\u001b[1;34m\u001b[0m\n\u001b[0;32m      1\u001b[0m \u001b[0mml_predictions\u001b[0m \u001b[1;33m=\u001b[0m \u001b[0mml_classifier\u001b[0m\u001b[1;33m.\u001b[0m\u001b[0mpredict\u001b[0m\u001b[1;33m(\u001b[0m\u001b[0mx_test\u001b[0m\u001b[1;33m)\u001b[0m\u001b[1;33m\u001b[0m\u001b[1;33m\u001b[0m\u001b[0m\n\u001b[0;32m      2\u001b[0m \u001b[1;31m# accuracy\u001b[0m\u001b[1;33m\u001b[0m\u001b[1;33m\u001b[0m\u001b[1;33m\u001b[0m\u001b[0m\n\u001b[1;32m----> 3\u001b[1;33m \u001b[0mprint\u001b[0m\u001b[1;33m(\u001b[0m\u001b[1;34m\"Accuracy = \"\u001b[0m\u001b[1;33m,\u001b[0m\u001b[0maccuracy_score\u001b[0m\u001b[1;33m(\u001b[0m\u001b[0my_test\u001b[0m\u001b[1;33m,\u001b[0m\u001b[0mml_predictions\u001b[0m\u001b[1;33m)\u001b[0m\u001b[1;33m)\u001b[0m\u001b[1;33m\u001b[0m\u001b[1;33m\u001b[0m\u001b[0m\n\u001b[0m",
      "\u001b[1;31mNameError\u001b[0m: name 'y_test' is not defined"
     ]
    }
   ],
   "source": [
    "ml_predictions = ml_classifier.predict(x_test)\n",
    "# accuracy\n",
    "print(\"Accuracy = \",accuracy_score(y_test,ml_predictions))"
   ]
  },
  {
   "cell_type": "code",
   "execution_count": 4,
   "metadata": {},
   "outputs": [
    {
     "output_type": "execute_result",
     "data": {
      "text/plain": "179"
     },
     "metadata": {},
     "execution_count": 4
    }
   ],
   "source": [
    "len(stopwords.words('english'))"
   ]
  },
  {
   "cell_type": "code",
   "execution_count": 21,
   "metadata": {},
   "outputs": [],
   "source": [
    "\n",
    "\n",
    "import pickle\n",
    "# _config.DATA_FRAME\n",
    "\n",
    "with open(\"D:\\\\DS\\\\Projects\\\\Data\\\\df_topics.pkl\",\"rb\") as file:\n",
    "    df_topics=pickle.load(file)\n"
   ]
  },
  {
   "cell_type": "code",
   "execution_count": 4,
   "metadata": {},
   "outputs": [
    {
     "output_type": "execute_result",
     "data": {
      "text/plain": [
       "   Topi_num  No_of_documents  \\\n",
       "0         0              549   \n",
       "1         1              414   \n",
       "2         2              354   \n",
       "3         3              343   \n",
       "4         4              335   \n",
       "\n",
       "                                         topic_words  \\\n",
       "0  [prosecutors, felony, misdemeanor, pleaded, bu...   \n",
       "1  [celebs, kourtney, omg, kardashian, kardashian...   \n",
       "2  [song, album, songs, albums, band, songwriter,...   \n",
       "3  [northbound, highway, accident, intersection, ...   \n",
       "4  [sedar, pursuant, relating, statements, applic...   \n",
       "\n",
       "                                          word_score  \n",
       "0  [0.6569653, 0.64192486, 0.6196742, 0.61805, 0....  \n",
       "1  [0.71082926, 0.6898301, 0.687304, 0.6650946, 0...  \n",
       "2  [0.819926, 0.80434716, 0.7929413, 0.7670332, 0...  \n",
       "3  [0.70745564, 0.68443537, 0.669193, 0.66760767,...  \n",
       "4  [0.6700752, 0.6297847, 0.5886394, 0.5806191, 0...  "
      ],
      "text/html": "<div>\n<style scoped>\n    .dataframe tbody tr th:only-of-type {\n        vertical-align: middle;\n    }\n\n    .dataframe tbody tr th {\n        vertical-align: top;\n    }\n\n    .dataframe thead th {\n        text-align: right;\n    }\n</style>\n<table border=\"1\" class=\"dataframe\">\n  <thead>\n    <tr style=\"text-align: right;\">\n      <th></th>\n      <th>Topi_num</th>\n      <th>No_of_documents</th>\n      <th>topic_words</th>\n      <th>word_score</th>\n    </tr>\n  </thead>\n  <tbody>\n    <tr>\n      <th>0</th>\n      <td>0</td>\n      <td>549</td>\n      <td>[prosecutors, felony, misdemeanor, pleaded, bu...</td>\n      <td>[0.6569653, 0.64192486, 0.6196742, 0.61805, 0....</td>\n    </tr>\n    <tr>\n      <th>1</th>\n      <td>1</td>\n      <td>414</td>\n      <td>[celebs, kourtney, omg, kardashian, kardashian...</td>\n      <td>[0.71082926, 0.6898301, 0.687304, 0.6650946, 0...</td>\n    </tr>\n    <tr>\n      <th>2</th>\n      <td>2</td>\n      <td>354</td>\n      <td>[song, album, songs, albums, band, songwriter,...</td>\n      <td>[0.819926, 0.80434716, 0.7929413, 0.7670332, 0...</td>\n    </tr>\n    <tr>\n      <th>3</th>\n      <td>3</td>\n      <td>343</td>\n      <td>[northbound, highway, accident, intersection, ...</td>\n      <td>[0.70745564, 0.68443537, 0.669193, 0.66760767,...</td>\n    </tr>\n    <tr>\n      <th>4</th>\n      <td>4</td>\n      <td>335</td>\n      <td>[sedar, pursuant, relating, statements, applic...</td>\n      <td>[0.6700752, 0.6297847, 0.5886394, 0.5806191, 0...</td>\n    </tr>\n  </tbody>\n</table>\n</div>"
     },
     "metadata": {},
     "execution_count": 4
    }
   ],
   "source": [
    "df_topics.head()"
   ]
  },
  {
   "cell_type": "code",
   "execution_count": 9,
   "metadata": {},
   "outputs": [
    {
     "output_type": "execute_result",
     "data": {
      "text/plain": [
       "[array(['song', 'album', 'songs', 'albums', 'band', 'songwriter', 'singer',\n",
       "        'guitarist', 'billboard', 'drummer', 'tunes', 'singers',\n",
       "        'soundtrack', 'vocals', 'solo', 'rock', 'zeppelin', 'beatles',\n",
       "        'lyrics', 'singing', 'rockers', 'bands', 'rap', 'grammy', 'rapper',\n",
       "        'onstage', 'eminem', 'sings', 'pop', 'recording', 'musicians',\n",
       "        'genres', 'sing', 'hey', 'sounds', 'duet', 'playlist',\n",
       "        'recordings', 'music', 'musician', 'drums', 'permalink', 'genre',\n",
       "        'chesney', 'soul', 'vocal', 'gonna', 'touring', 'musical',\n",
       "        'debuted'], dtype='<U15')]"
      ]
     },
     "metadata": {},
     "execution_count": 9
    }
   ],
   "source": [
    "df_topics[df_topics.Topi_num ==2].topic_words[:10].to_list()"
   ]
  },
  {
   "cell_type": "code",
   "execution_count": 14,
   "metadata": {},
   "outputs": [
    {
     "output_type": "execute_result",
     "data": {
      "text/plain": [
       "[array([0.82, 0.8 , 0.79, 0.77, 0.71, 0.7 , 0.66, 0.65, 0.64, 0.63, 0.63,\n",
       "        0.61, 0.6 , 0.59, 0.59, 0.59, 0.59, 0.58, 0.58, 0.58, 0.58, 0.55,\n",
       "        0.55, 0.54, 0.54, 0.54, 0.54, 0.54, 0.52, 0.52, 0.51, 0.51, 0.5 ,\n",
       "        0.49, 0.48, 0.48, 0.48, 0.48, 0.48, 0.48, 0.48, 0.47, 0.47, 0.47,\n",
       "        0.47, 0.47, 0.47, 0.47, 0.47, 0.47], dtype=float32)]"
      ]
     },
     "metadata": {},
     "execution_count": 14
    }
   ],
   "source": [
    "[np.round(i,2) for i  in df_topics[df_topics.Topi_num ==2].word_score[:10].to_list()]"
   ]
  },
  {
   "cell_type": "code",
   "execution_count": 25,
   "metadata": {},
   "outputs": [
    {
     "output_type": "execute_result",
     "data": {
      "text/plain": [
       "'finance(0.56), liable(0.53), ticker(0.49), boards(0.48), reliance(0.48), quotes(0.47), investing(0.47), headlines(0.47), shall(0.46), actions(0.45), '"
      ]
     },
     "metadata": {},
     "execution_count": 25
    }
   ],
   "source": [
    "_topic =9\n",
    "_ooutput =\"\"\n",
    "\n",
    "for i in range(10):\n",
    "    _ooutput+=str(df_topics[df_topics.Topi_num ==_topic].topic_words.to_list()[0][i]) +\"\"\n",
    "    _ooutput+=\"(\"+str(np.round(df_topics[df_topics.Topi_num ==_topic].word_score.to_list()[0][i],2)) +\"), \"\n",
    "_ooutput\n"
   ]
  },
  {
   "cell_type": "code",
   "execution_count": 26,
   "metadata": {},
   "outputs": [],
   "source": [
    "\n",
    "import pickle\n",
    "# _config.DATA_FRAME\n",
    "\n",
    "with open(\"D:\\\\DS\\\\Projects\\\\Data\\\\matrix_similarity.pkl\",\"rb\") as file:\n",
    "    _mat_simiarities=pickle.load(file)"
   ]
  },
  {
   "cell_type": "code",
   "execution_count": 27,
   "metadata": {},
   "outputs": [
    {
     "output_type": "execute_result",
     "data": {
      "text/plain": [
       "                               2016_oscars  abortion_debate  act-of-terror  \\\n",
       "2016_oscars                       1.000000         0.000256       0.002546   \n",
       "abortion_debate                   0.000256         1.000000       0.002065   \n",
       "act-of-terror                     0.002546         0.002065       1.000000   \n",
       "addiction                         0.009845         0.016848       0.019886   \n",
       "adoption                          0.000883         0.000000       0.000159   \n",
       "...                                    ...              ...            ...   \n",
       "water-resources                   0.007200         0.000000       0.005817   \n",
       "wedding                           0.012555         0.000000       0.000369   \n",
       "workplace-health-&-ergonomics     0.001582         0.000000       0.000284   \n",
       "world_news                        0.014184         0.003870       0.559284   \n",
       "zika_virus                        0.000078         0.011370       0.000506   \n",
       "\n",
       "                               addiction  adoption  agriculture  \\\n",
       "2016_oscars                     0.009845  0.000883     0.000264   \n",
       "abortion_debate                 0.016848  0.000000     0.000000   \n",
       "act-of-terror                   0.019886  0.000159     0.001067   \n",
       "addiction                       1.000000  0.015994     0.000287   \n",
       "adoption                        0.015994  1.000000     0.000000   \n",
       "...                                  ...       ...          ...   \n",
       "water-resources                 0.001956  0.008370     0.116645   \n",
       "wedding                         0.002481  0.007961     0.000612   \n",
       "workplace-health-&-ergonomics   0.014516  0.000350     0.002827   \n",
       "world_news                      0.031089  0.014896     0.014678   \n",
       "zika_virus                      0.000340  0.002339     0.003147   \n",
       "\n",
       "                               alternative-medicine  american-football  \\\n",
       "2016_oscars                                0.002554           0.002849   \n",
       "abortion_debate                            0.001360           0.001767   \n",
       "act-of-terror                              0.000000           0.001781   \n",
       "addiction                                  0.040577           0.028334   \n",
       "adoption                                   0.000783           0.000000   \n",
       "...                                             ...                ...   \n",
       "water-resources                            0.005987           0.002784   \n",
       "wedding                                    0.007289           0.000436   \n",
       "workplace-health-&-ergonomics              0.014029           0.002974   \n",
       "world_news                                 0.019264           0.004691   \n",
       "zika_virus                                 0.001249           0.003887   \n",
       "\n",
       "                               animal-science  appliances  ...  \\\n",
       "2016_oscars                          0.007669    0.000345  ...   \n",
       "abortion_debate                      0.000000    0.000000  ...   \n",
       "act-of-terror                        0.000000    0.000558  ...   \n",
       "addiction                            0.005692    0.000250  ...   \n",
       "adoption                             0.019384    0.000000  ...   \n",
       "...                                       ...         ...  ...   \n",
       "water-resources                      0.085491    0.109478  ...   \n",
       "wedding                              0.000434    0.000267  ...   \n",
       "workplace-health-&-ergonomics        0.004674    0.004522  ...   \n",
       "world_news                           0.023146    0.003373  ...   \n",
       "zika_virus                           0.081748    0.001281  ...   \n",
       "\n",
       "                               video-technology  visual-arts  \\\n",
       "2016_oscars                            0.106758     0.035255   \n",
       "abortion_debate                        0.004188     0.000977   \n",
       "act-of-terror                          0.034426     0.013103   \n",
       "addiction                              0.019471     0.003793   \n",
       "adoption                               0.000000     0.007670   \n",
       "...                                         ...          ...   \n",
       "water-resources                        0.039832     0.001564   \n",
       "wedding                                0.010664     0.008567   \n",
       "workplace-health-&-ergonomics          0.005185     0.002015   \n",
       "world_news                             0.041822     0.008866   \n",
       "zika_virus                             0.000000     0.000163   \n",
       "\n",
       "                               volunteering-&-philanthropy  \\\n",
       "2016_oscars                                       0.038931   \n",
       "abortion_debate                                   0.011053   \n",
       "act-of-terror                                     0.014939   \n",
       "addiction                                         0.018788   \n",
       "adoption                                          0.036995   \n",
       "...                                                    ...   \n",
       "water-resources                                   0.109464   \n",
       "wedding                                           0.011675   \n",
       "workplace-health-&-ergonomics                     0.005366   \n",
       "world_news                                        0.104592   \n",
       "zika_virus                                        0.032249   \n",
       "\n",
       "                               voting-issues-&-results  wall_street  \\\n",
       "2016_oscars                                   0.006150     0.006443   \n",
       "abortion_debate                               0.018301     0.002456   \n",
       "act-of-terror                                 0.061019     0.001235   \n",
       "addiction                                     0.018983     0.006884   \n",
       "adoption                                      0.017158     0.016322   \n",
       "...                                                ...          ...   \n",
       "water-resources                               0.043474     0.207630   \n",
       "wedding                                       0.011692     0.000506   \n",
       "workplace-health-&-ergonomics                 0.002195     0.003119   \n",
       "world_news                                    0.104628     0.023370   \n",
       "zika_virus                                    0.026584     0.022214   \n",
       "\n",
       "                               water-resources   wedding  \\\n",
       "2016_oscars                           0.007200  0.012555   \n",
       "abortion_debate                       0.000000  0.000000   \n",
       "act-of-terror                         0.005817  0.000369   \n",
       "addiction                             0.001956  0.002481   \n",
       "adoption                              0.008370  0.007961   \n",
       "...                                        ...       ...   \n",
       "water-resources                       1.000000  0.006955   \n",
       "wedding                               0.006955  1.000000   \n",
       "workplace-health-&-ergonomics         0.017135  0.000407   \n",
       "world_news                            0.279578  0.006891   \n",
       "zika_virus                            0.002861  0.000000   \n",
       "\n",
       "                               workplace-health-&-ergonomics  world_news  \\\n",
       "2016_oscars                                         0.001582    0.014184   \n",
       "abortion_debate                                     0.000000    0.003870   \n",
       "act-of-terror                                       0.000284    0.559284   \n",
       "addiction                                           0.014516    0.031089   \n",
       "adoption                                            0.000350    0.014896   \n",
       "...                                                      ...         ...   \n",
       "water-resources                                     0.017135    0.279578   \n",
       "wedding                                             0.000407    0.006891   \n",
       "workplace-health-&-ergonomics                       1.000000    0.024057   \n",
       "world_news                                          0.024057    1.000000   \n",
       "zika_virus                                          0.000559    0.022214   \n",
       "\n",
       "                               zika_virus  \n",
       "2016_oscars                      0.000078  \n",
       "abortion_debate                  0.011370  \n",
       "act-of-terror                    0.000506  \n",
       "addiction                        0.000340  \n",
       "adoption                         0.002339  \n",
       "...                                   ...  \n",
       "water-resources                  0.002861  \n",
       "wedding                          0.000000  \n",
       "workplace-health-&-ergonomics    0.000559  \n",
       "world_news                       0.022214  \n",
       "zika_virus                       1.000000  \n",
       "\n",
       "[246 rows x 246 columns]"
      ],
      "text/html": "<div>\n<style scoped>\n    .dataframe tbody tr th:only-of-type {\n        vertical-align: middle;\n    }\n\n    .dataframe tbody tr th {\n        vertical-align: top;\n    }\n\n    .dataframe thead th {\n        text-align: right;\n    }\n</style>\n<table border=\"1\" class=\"dataframe\">\n  <thead>\n    <tr style=\"text-align: right;\">\n      <th></th>\n      <th>2016_oscars</th>\n      <th>abortion_debate</th>\n      <th>act-of-terror</th>\n      <th>addiction</th>\n      <th>adoption</th>\n      <th>agriculture</th>\n      <th>alternative-medicine</th>\n      <th>american-football</th>\n      <th>animal-science</th>\n      <th>appliances</th>\n      <th>...</th>\n      <th>video-technology</th>\n      <th>visual-arts</th>\n      <th>volunteering-&amp;-philanthropy</th>\n      <th>voting-issues-&amp;-results</th>\n      <th>wall_street</th>\n      <th>water-resources</th>\n      <th>wedding</th>\n      <th>workplace-health-&amp;-ergonomics</th>\n      <th>world_news</th>\n      <th>zika_virus</th>\n    </tr>\n  </thead>\n  <tbody>\n    <tr>\n      <th>2016_oscars</th>\n      <td>1.000000</td>\n      <td>0.000256</td>\n      <td>0.002546</td>\n      <td>0.009845</td>\n      <td>0.000883</td>\n      <td>0.000264</td>\n      <td>0.002554</td>\n      <td>0.002849</td>\n      <td>0.007669</td>\n      <td>0.000345</td>\n      <td>...</td>\n      <td>0.106758</td>\n      <td>0.035255</td>\n      <td>0.038931</td>\n      <td>0.006150</td>\n      <td>0.006443</td>\n      <td>0.007200</td>\n      <td>0.012555</td>\n      <td>0.001582</td>\n      <td>0.014184</td>\n      <td>0.000078</td>\n    </tr>\n    <tr>\n      <th>abortion_debate</th>\n      <td>0.000256</td>\n      <td>1.000000</td>\n      <td>0.002065</td>\n      <td>0.016848</td>\n      <td>0.000000</td>\n      <td>0.000000</td>\n      <td>0.001360</td>\n      <td>0.001767</td>\n      <td>0.000000</td>\n      <td>0.000000</td>\n      <td>...</td>\n      <td>0.004188</td>\n      <td>0.000977</td>\n      <td>0.011053</td>\n      <td>0.018301</td>\n      <td>0.002456</td>\n      <td>0.000000</td>\n      <td>0.000000</td>\n      <td>0.000000</td>\n      <td>0.003870</td>\n      <td>0.011370</td>\n    </tr>\n    <tr>\n      <th>act-of-terror</th>\n      <td>0.002546</td>\n      <td>0.002065</td>\n      <td>1.000000</td>\n      <td>0.019886</td>\n      <td>0.000159</td>\n      <td>0.001067</td>\n      <td>0.000000</td>\n      <td>0.001781</td>\n      <td>0.000000</td>\n      <td>0.000558</td>\n      <td>...</td>\n      <td>0.034426</td>\n      <td>0.013103</td>\n      <td>0.014939</td>\n      <td>0.061019</td>\n      <td>0.001235</td>\n      <td>0.005817</td>\n      <td>0.000369</td>\n      <td>0.000284</td>\n      <td>0.559284</td>\n      <td>0.000506</td>\n    </tr>\n    <tr>\n      <th>addiction</th>\n      <td>0.009845</td>\n      <td>0.016848</td>\n      <td>0.019886</td>\n      <td>1.000000</td>\n      <td>0.015994</td>\n      <td>0.000287</td>\n      <td>0.040577</td>\n      <td>0.028334</td>\n      <td>0.005692</td>\n      <td>0.000250</td>\n      <td>...</td>\n      <td>0.019471</td>\n      <td>0.003793</td>\n      <td>0.018788</td>\n      <td>0.018983</td>\n      <td>0.006884</td>\n      <td>0.001956</td>\n      <td>0.002481</td>\n      <td>0.014516</td>\n      <td>0.031089</td>\n      <td>0.000340</td>\n    </tr>\n    <tr>\n      <th>adoption</th>\n      <td>0.000883</td>\n      <td>0.000000</td>\n      <td>0.000159</td>\n      <td>0.015994</td>\n      <td>1.000000</td>\n      <td>0.000000</td>\n      <td>0.000783</td>\n      <td>0.000000</td>\n      <td>0.019384</td>\n      <td>0.000000</td>\n      <td>...</td>\n      <td>0.000000</td>\n      <td>0.007670</td>\n      <td>0.036995</td>\n      <td>0.017158</td>\n      <td>0.016322</td>\n      <td>0.008370</td>\n      <td>0.007961</td>\n      <td>0.000350</td>\n      <td>0.014896</td>\n      <td>0.002339</td>\n    </tr>\n    <tr>\n      <th>...</th>\n      <td>...</td>\n      <td>...</td>\n      <td>...</td>\n      <td>...</td>\n      <td>...</td>\n      <td>...</td>\n      <td>...</td>\n      <td>...</td>\n      <td>...</td>\n      <td>...</td>\n      <td>...</td>\n      <td>...</td>\n      <td>...</td>\n      <td>...</td>\n      <td>...</td>\n      <td>...</td>\n      <td>...</td>\n      <td>...</td>\n      <td>...</td>\n      <td>...</td>\n      <td>...</td>\n    </tr>\n    <tr>\n      <th>water-resources</th>\n      <td>0.007200</td>\n      <td>0.000000</td>\n      <td>0.005817</td>\n      <td>0.001956</td>\n      <td>0.008370</td>\n      <td>0.116645</td>\n      <td>0.005987</td>\n      <td>0.002784</td>\n      <td>0.085491</td>\n      <td>0.109478</td>\n      <td>...</td>\n      <td>0.039832</td>\n      <td>0.001564</td>\n      <td>0.109464</td>\n      <td>0.043474</td>\n      <td>0.207630</td>\n      <td>1.000000</td>\n      <td>0.006955</td>\n      <td>0.017135</td>\n      <td>0.279578</td>\n      <td>0.002861</td>\n    </tr>\n    <tr>\n      <th>wedding</th>\n      <td>0.012555</td>\n      <td>0.000000</td>\n      <td>0.000369</td>\n      <td>0.002481</td>\n      <td>0.007961</td>\n      <td>0.000612</td>\n      <td>0.007289</td>\n      <td>0.000436</td>\n      <td>0.000434</td>\n      <td>0.000267</td>\n      <td>...</td>\n      <td>0.010664</td>\n      <td>0.008567</td>\n      <td>0.011675</td>\n      <td>0.011692</td>\n      <td>0.000506</td>\n      <td>0.006955</td>\n      <td>1.000000</td>\n      <td>0.000407</td>\n      <td>0.006891</td>\n      <td>0.000000</td>\n    </tr>\n    <tr>\n      <th>workplace-health-&amp;-ergonomics</th>\n      <td>0.001582</td>\n      <td>0.000000</td>\n      <td>0.000284</td>\n      <td>0.014516</td>\n      <td>0.000350</td>\n      <td>0.002827</td>\n      <td>0.014029</td>\n      <td>0.002974</td>\n      <td>0.004674</td>\n      <td>0.004522</td>\n      <td>...</td>\n      <td>0.005185</td>\n      <td>0.002015</td>\n      <td>0.005366</td>\n      <td>0.002195</td>\n      <td>0.003119</td>\n      <td>0.017135</td>\n      <td>0.000407</td>\n      <td>1.000000</td>\n      <td>0.024057</td>\n      <td>0.000559</td>\n    </tr>\n    <tr>\n      <th>world_news</th>\n      <td>0.014184</td>\n      <td>0.003870</td>\n      <td>0.559284</td>\n      <td>0.031089</td>\n      <td>0.014896</td>\n      <td>0.014678</td>\n      <td>0.019264</td>\n      <td>0.004691</td>\n      <td>0.023146</td>\n      <td>0.003373</td>\n      <td>...</td>\n      <td>0.041822</td>\n      <td>0.008866</td>\n      <td>0.104592</td>\n      <td>0.104628</td>\n      <td>0.023370</td>\n      <td>0.279578</td>\n      <td>0.006891</td>\n      <td>0.024057</td>\n      <td>1.000000</td>\n      <td>0.022214</td>\n    </tr>\n    <tr>\n      <th>zika_virus</th>\n      <td>0.000078</td>\n      <td>0.011370</td>\n      <td>0.000506</td>\n      <td>0.000340</td>\n      <td>0.002339</td>\n      <td>0.003147</td>\n      <td>0.001249</td>\n      <td>0.003887</td>\n      <td>0.081748</td>\n      <td>0.001281</td>\n      <td>...</td>\n      <td>0.000000</td>\n      <td>0.000163</td>\n      <td>0.032249</td>\n      <td>0.026584</td>\n      <td>0.022214</td>\n      <td>0.002861</td>\n      <td>0.000000</td>\n      <td>0.000559</td>\n      <td>0.022214</td>\n      <td>1.000000</td>\n    </tr>\n  </tbody>\n</table>\n<p>246 rows × 246 columns</p>\n</div>"
     },
     "metadata": {},
     "execution_count": 27
    }
   ],
   "source": [
    "_mat_simiarities"
   ]
  },
  {
   "cell_type": "code",
   "execution_count": 35,
   "metadata": {},
   "outputs": [
    {
     "output_type": "execute_result",
     "data": {
      "text/plain": [
       "                    level_1             level_2  similarity_score\n",
       "50636     space-&-astronomy   space-exploration          0.999927\n",
       "50881     space-exploration   space-&-astronomy          0.999927\n",
       "34085                   mma  mixed-martial-arts          0.999871\n",
       "33840    mixed-martial-arts                 mma          0.999871\n",
       "12102    crime-&-punishment     crime-&-justice          0.999735\n",
       "...                     ...                 ...               ...\n",
       "2956       audio-technology            adoption          0.000000\n",
       "29508  juvenile-delinquency   vacation-packages          0.000000\n",
       "4319               bathroom  mixed-martial-arts          0.000000\n",
       "29509  juvenile-delinquency         video-games          0.000000\n",
       "33999                   mma     cultural-groups          0.000000\n",
       "\n",
       "[60270 rows x 3 columns]"
      ],
      "text/html": "<div>\n<style scoped>\n    .dataframe tbody tr th:only-of-type {\n        vertical-align: middle;\n    }\n\n    .dataframe tbody tr th {\n        vertical-align: top;\n    }\n\n    .dataframe thead th {\n        text-align: right;\n    }\n</style>\n<table border=\"1\" class=\"dataframe\">\n  <thead>\n    <tr style=\"text-align: right;\">\n      <th></th>\n      <th>level_1</th>\n      <th>level_2</th>\n      <th>similarity_score</th>\n    </tr>\n  </thead>\n  <tbody>\n    <tr>\n      <th>50636</th>\n      <td>space-&amp;-astronomy</td>\n      <td>space-exploration</td>\n      <td>0.999927</td>\n    </tr>\n    <tr>\n      <th>50881</th>\n      <td>space-exploration</td>\n      <td>space-&amp;-astronomy</td>\n      <td>0.999927</td>\n    </tr>\n    <tr>\n      <th>34085</th>\n      <td>mma</td>\n      <td>mixed-martial-arts</td>\n      <td>0.999871</td>\n    </tr>\n    <tr>\n      <th>33840</th>\n      <td>mixed-martial-arts</td>\n      <td>mma</td>\n      <td>0.999871</td>\n    </tr>\n    <tr>\n      <th>12102</th>\n      <td>crime-&amp;-punishment</td>\n      <td>crime-&amp;-justice</td>\n      <td>0.999735</td>\n    </tr>\n    <tr>\n      <th>...</th>\n      <td>...</td>\n      <td>...</td>\n      <td>...</td>\n    </tr>\n    <tr>\n      <th>2956</th>\n      <td>audio-technology</td>\n      <td>adoption</td>\n      <td>0.000000</td>\n    </tr>\n    <tr>\n      <th>29508</th>\n      <td>juvenile-delinquency</td>\n      <td>vacation-packages</td>\n      <td>0.000000</td>\n    </tr>\n    <tr>\n      <th>4319</th>\n      <td>bathroom</td>\n      <td>mixed-martial-arts</td>\n      <td>0.000000</td>\n    </tr>\n    <tr>\n      <th>29509</th>\n      <td>juvenile-delinquency</td>\n      <td>video-games</td>\n      <td>0.000000</td>\n    </tr>\n    <tr>\n      <th>33999</th>\n      <td>mma</td>\n      <td>cultural-groups</td>\n      <td>0.000000</td>\n    </tr>\n  </tbody>\n</table>\n<p>60270 rows × 3 columns</p>\n</div>"
     },
     "metadata": {},
     "execution_count": 35
    }
   ],
   "source": [
    "_temp = _mat_simiarities.stack().reset_index()\n",
    "\n",
    "_temp.columns =[\"level_1\",\"level_2\",\"similarity_score\"]\n",
    "\n",
    "_temp[_temp.level_1 !=_temp.level_2].sort_values(by=\"similarity_score\",ascending=False)"
   ]
  }
 ],
 "metadata": {
  "language_info": {
   "codemirror_mode": {
    "name": "ipython",
    "version": 3
   },
   "file_extension": ".py",
   "mimetype": "text/x-python",
   "name": "python",
   "nbconvert_exporter": "python",
   "pygments_lexer": "ipython3",
   "version": "3.7.6-final"
  },
  "orig_nbformat": 2,
  "kernelspec": {
   "name": "python3",
   "display_name": "Python 3"
  }
 },
 "nbformat": 4,
 "nbformat_minor": 2
}